{
 "cells": [
  {
   "cell_type": "markdown",
   "id": "3b06c545",
   "metadata": {},
   "source": [
    "# Descartes Underwriting - Technical test\n",
    "\n",
    "\n",
    "The goal of this technical excercise is to build a model able to predict whether a given policy holder is more or less likely to have a car accident. A training dataset containing the class of each policy holder (i.e. if he/she was actually involved in a car accident) is given, along many feature describing the driving behaviour and the lifestyle of each driver. On the basis of this dataset, one has to train a machine learning algorithm and perform the classification task on the (unlabelled) test set. In other words, we need to solve a binary classification problem.\n",
    "\n",
    "Being able to correctly assess the probability of accident is fundamental for an insurance company: if the number of accidents is underestimated, the company may underprice the policies, resulting in a financial loss. \n",
    "\n",
    "This assignment is structured in the following way:\n",
    "\n",
    "1. In the first section, an exploratory analysis of the dataset is performed. The meaning of each feature is briefly explained and the most significant features (i.e. the features which most likely have an impact on the probability of accident) are selected.\n",
    "\n",
    "2. In the second section, datas are cleaned and prepared in order to be used in a machine learning model.\n",
    "\n",
    "3. In the third section, I propose two models of classifiers.\n",
    "\n",
    "4. In section four, I present my conclusions.\n",
    "\n"
   ]
  },
  {
   "cell_type": "markdown",
   "id": "d3cc08d1",
   "metadata": {},
   "source": [
    "## Exploratory analysis of dataset:\n",
    "\n",
    "\n",
    "We start importing some libraries which will be useful in the following:\n",
    "\n"
   ]
  },
  {
   "cell_type": "code",
   "execution_count": 1,
   "id": "439afcef",
   "metadata": {},
   "outputs": [],
   "source": [
    "import pandas as pd\n",
    "import numpy as np\n",
    "import matplotlib.pyplot as plt"
   ]
  },
  {
   "cell_type": "markdown",
   "id": "610ae54d",
   "metadata": {},
   "source": [
    "Here we import the train and the test datasets using the `read_csv()` function from the Pandas library:"
   ]
  },
  {
   "cell_type": "code",
   "execution_count": 2,
   "id": "07c4ec9c",
   "metadata": {},
   "outputs": [],
   "source": [
    "# Import train and test datasets\n",
    "\n",
    "train=pd.read_csv('train_set.csv')\n",
    "test=pd.read_csv('test_set.csv')"
   ]
  },
  {
   "cell_type": "markdown",
   "id": "2690e003",
   "metadata": {},
   "source": [
    "The dataset are now stored in a pandas DataFrame structure. We can visualise the first 5 entries of the train dataset using the `head()` method:"
   ]
  },
  {
   "cell_type": "code",
   "execution_count": 3,
   "id": "36d79893",
   "metadata": {},
   "outputs": [
    {
     "data": {
      "text/html": [
       "<div>\n",
       "<style scoped>\n",
       "    .dataframe tbody tr th:only-of-type {\n",
       "        vertical-align: middle;\n",
       "    }\n",
       "\n",
       "    .dataframe tbody tr th {\n",
       "        vertical-align: top;\n",
       "    }\n",
       "\n",
       "    .dataframe thead th {\n",
       "        text-align: right;\n",
       "    }\n",
       "</style>\n",
       "<table border=\"1\" class=\"dataframe\">\n",
       "  <thead>\n",
       "    <tr style=\"text-align: right;\">\n",
       "      <th></th>\n",
       "      <th>INDEX</th>\n",
       "      <th>TARGET_FLAG</th>\n",
       "      <th>TARGET_AMT</th>\n",
       "      <th>KIDSDRIV</th>\n",
       "      <th>AGE</th>\n",
       "      <th>HOMEKIDS</th>\n",
       "      <th>YOJ</th>\n",
       "      <th>INCOME</th>\n",
       "      <th>PARENT1</th>\n",
       "      <th>HOME_VAL</th>\n",
       "      <th>...</th>\n",
       "      <th>BLUEBOOK</th>\n",
       "      <th>TIF</th>\n",
       "      <th>CAR_TYPE</th>\n",
       "      <th>RED_CAR</th>\n",
       "      <th>OLDCLAIM</th>\n",
       "      <th>CLM_FREQ</th>\n",
       "      <th>REVOKED</th>\n",
       "      <th>MVR_PTS</th>\n",
       "      <th>CAR_AGE</th>\n",
       "      <th>URBANICITY</th>\n",
       "    </tr>\n",
       "  </thead>\n",
       "  <tbody>\n",
       "    <tr>\n",
       "      <th>0</th>\n",
       "      <td>1</td>\n",
       "      <td>0</td>\n",
       "      <td>0.0</td>\n",
       "      <td>0</td>\n",
       "      <td>60.0</td>\n",
       "      <td>0</td>\n",
       "      <td>11.0</td>\n",
       "      <td>$67,349</td>\n",
       "      <td>No</td>\n",
       "      <td>$0</td>\n",
       "      <td>...</td>\n",
       "      <td>$14,230</td>\n",
       "      <td>11</td>\n",
       "      <td>Minivan</td>\n",
       "      <td>yes</td>\n",
       "      <td>$4,461</td>\n",
       "      <td>2</td>\n",
       "      <td>No</td>\n",
       "      <td>3</td>\n",
       "      <td>18.0</td>\n",
       "      <td>Highly Urban/ Urban</td>\n",
       "    </tr>\n",
       "    <tr>\n",
       "      <th>1</th>\n",
       "      <td>2</td>\n",
       "      <td>0</td>\n",
       "      <td>0.0</td>\n",
       "      <td>0</td>\n",
       "      <td>43.0</td>\n",
       "      <td>0</td>\n",
       "      <td>11.0</td>\n",
       "      <td>$91,449</td>\n",
       "      <td>No</td>\n",
       "      <td>$257,252</td>\n",
       "      <td>...</td>\n",
       "      <td>$14,940</td>\n",
       "      <td>1</td>\n",
       "      <td>Minivan</td>\n",
       "      <td>yes</td>\n",
       "      <td>$0</td>\n",
       "      <td>0</td>\n",
       "      <td>No</td>\n",
       "      <td>0</td>\n",
       "      <td>1.0</td>\n",
       "      <td>Highly Urban/ Urban</td>\n",
       "    </tr>\n",
       "    <tr>\n",
       "      <th>2</th>\n",
       "      <td>4</td>\n",
       "      <td>0</td>\n",
       "      <td>0.0</td>\n",
       "      <td>0</td>\n",
       "      <td>35.0</td>\n",
       "      <td>1</td>\n",
       "      <td>10.0</td>\n",
       "      <td>$16,039</td>\n",
       "      <td>No</td>\n",
       "      <td>$124,191</td>\n",
       "      <td>...</td>\n",
       "      <td>$4,010</td>\n",
       "      <td>4</td>\n",
       "      <td>z_SUV</td>\n",
       "      <td>no</td>\n",
       "      <td>$38,690</td>\n",
       "      <td>2</td>\n",
       "      <td>No</td>\n",
       "      <td>3</td>\n",
       "      <td>10.0</td>\n",
       "      <td>Highly Urban/ Urban</td>\n",
       "    </tr>\n",
       "    <tr>\n",
       "      <th>3</th>\n",
       "      <td>5</td>\n",
       "      <td>0</td>\n",
       "      <td>0.0</td>\n",
       "      <td>0</td>\n",
       "      <td>51.0</td>\n",
       "      <td>0</td>\n",
       "      <td>14.0</td>\n",
       "      <td>NaN</td>\n",
       "      <td>No</td>\n",
       "      <td>$306,251</td>\n",
       "      <td>...</td>\n",
       "      <td>$15,440</td>\n",
       "      <td>7</td>\n",
       "      <td>Minivan</td>\n",
       "      <td>yes</td>\n",
       "      <td>$0</td>\n",
       "      <td>0</td>\n",
       "      <td>No</td>\n",
       "      <td>0</td>\n",
       "      <td>6.0</td>\n",
       "      <td>Highly Urban/ Urban</td>\n",
       "    </tr>\n",
       "    <tr>\n",
       "      <th>4</th>\n",
       "      <td>6</td>\n",
       "      <td>0</td>\n",
       "      <td>0.0</td>\n",
       "      <td>0</td>\n",
       "      <td>50.0</td>\n",
       "      <td>0</td>\n",
       "      <td>NaN</td>\n",
       "      <td>$114,986</td>\n",
       "      <td>No</td>\n",
       "      <td>$243,925</td>\n",
       "      <td>...</td>\n",
       "      <td>$18,000</td>\n",
       "      <td>1</td>\n",
       "      <td>z_SUV</td>\n",
       "      <td>no</td>\n",
       "      <td>$19,217</td>\n",
       "      <td>2</td>\n",
       "      <td>Yes</td>\n",
       "      <td>3</td>\n",
       "      <td>17.0</td>\n",
       "      <td>Highly Urban/ Urban</td>\n",
       "    </tr>\n",
       "  </tbody>\n",
       "</table>\n",
       "<p>5 rows × 26 columns</p>\n",
       "</div>"
      ],
      "text/plain": [
       "   INDEX  TARGET_FLAG  TARGET_AMT  KIDSDRIV   AGE  HOMEKIDS   YOJ    INCOME  \\\n",
       "0      1            0         0.0         0  60.0         0  11.0   $67,349   \n",
       "1      2            0         0.0         0  43.0         0  11.0   $91,449   \n",
       "2      4            0         0.0         0  35.0         1  10.0   $16,039   \n",
       "3      5            0         0.0         0  51.0         0  14.0       NaN   \n",
       "4      6            0         0.0         0  50.0         0   NaN  $114,986   \n",
       "\n",
       "  PARENT1  HOME_VAL  ... BLUEBOOK TIF CAR_TYPE RED_CAR  OLDCLAIM CLM_FREQ  \\\n",
       "0      No        $0  ...  $14,230  11  Minivan     yes    $4,461        2   \n",
       "1      No  $257,252  ...  $14,940   1  Minivan     yes        $0        0   \n",
       "2      No  $124,191  ...   $4,010   4    z_SUV      no   $38,690        2   \n",
       "3      No  $306,251  ...  $15,440   7  Minivan     yes        $0        0   \n",
       "4      No  $243,925  ...  $18,000   1    z_SUV      no   $19,217        2   \n",
       "\n",
       "  REVOKED  MVR_PTS CAR_AGE           URBANICITY  \n",
       "0      No        3    18.0  Highly Urban/ Urban  \n",
       "1      No        0     1.0  Highly Urban/ Urban  \n",
       "2      No        3    10.0  Highly Urban/ Urban  \n",
       "3      No        0     6.0  Highly Urban/ Urban  \n",
       "4     Yes        3    17.0  Highly Urban/ Urban  \n",
       "\n",
       "[5 rows x 26 columns]"
      ]
     },
     "execution_count": 3,
     "metadata": {},
     "output_type": "execute_result"
    }
   ],
   "source": [
    "train.head()"
   ]
  },
  {
   "cell_type": "markdown",
   "id": "e970556c",
   "metadata": {},
   "source": [
    "The number of rows of the train dataset can be found using the `shape` attribute:"
   ]
  },
  {
   "cell_type": "code",
   "execution_count": 4,
   "id": "412375e9",
   "metadata": {},
   "outputs": [
    {
     "data": {
      "text/plain": [
       "8161"
      ]
     },
     "execution_count": 4,
     "metadata": {},
     "output_type": "execute_result"
    }
   ],
   "source": [
    "train.shape[0]"
   ]
  },
  {
   "cell_type": "markdown",
   "id": "30cb87ce",
   "metadata": {},
   "source": [
    "As we can see the train dataset contain 8161 rows. We can get some more information using the `info()` method:"
   ]
  },
  {
   "cell_type": "code",
   "execution_count": 5,
   "id": "60b08203",
   "metadata": {},
   "outputs": [
    {
     "name": "stdout",
     "output_type": "stream",
     "text": [
      "<class 'pandas.core.frame.DataFrame'>\n",
      "RangeIndex: 8161 entries, 0 to 8160\n",
      "Data columns (total 26 columns):\n",
      " #   Column       Non-Null Count  Dtype  \n",
      "---  ------       --------------  -----  \n",
      " 0   INDEX        8161 non-null   int64  \n",
      " 1   TARGET_FLAG  8161 non-null   int64  \n",
      " 2   TARGET_AMT   8161 non-null   float64\n",
      " 3   KIDSDRIV     8161 non-null   int64  \n",
      " 4   AGE          8155 non-null   float64\n",
      " 5   HOMEKIDS     8161 non-null   int64  \n",
      " 6   YOJ          7707 non-null   float64\n",
      " 7   INCOME       7716 non-null   object \n",
      " 8   PARENT1      8161 non-null   object \n",
      " 9   HOME_VAL     7697 non-null   object \n",
      " 10  MSTATUS      8161 non-null   object \n",
      " 11  SEX          8161 non-null   object \n",
      " 12  EDUCATION    8161 non-null   object \n",
      " 13  JOB          7635 non-null   object \n",
      " 14  TRAVTIME     8161 non-null   int64  \n",
      " 15  CAR_USE      8161 non-null   object \n",
      " 16  BLUEBOOK     8161 non-null   object \n",
      " 17  TIF          8161 non-null   int64  \n",
      " 18  CAR_TYPE     8161 non-null   object \n",
      " 19  RED_CAR      8161 non-null   object \n",
      " 20  OLDCLAIM     8161 non-null   object \n",
      " 21  CLM_FREQ     8161 non-null   int64  \n",
      " 22  REVOKED      8161 non-null   object \n",
      " 23  MVR_PTS      8161 non-null   int64  \n",
      " 24  CAR_AGE      7651 non-null   float64\n",
      " 25  URBANICITY   8161 non-null   object \n",
      "dtypes: float64(4), int64(8), object(14)\n",
      "memory usage: 1.6+ MB\n"
     ]
    }
   ],
   "source": [
    "train.info()"
   ]
  },
  {
   "cell_type": "markdown",
   "id": "cfa3b6b2",
   "metadata": {},
   "source": [
    "The train dataset contains 26 features. 12 of these features are numerical attributes, while the remaining 14 have dtype object (we will see in the following that they are simple string of text). Moreover, we see that the train dataset contains 8161 rows, but some of the columns contain missing values: these are the AGE,YOJ,INCOME,HOME_VAL,JOB, and CAR_AGE. \n",
    "\n",
    "Using the `keys()` methods we can get a list of all the features of the dataset:"
   ]
  },
  {
   "cell_type": "code",
   "execution_count": 6,
   "id": "b34d22a0",
   "metadata": {},
   "outputs": [
    {
     "data": {
      "text/plain": [
       "Index(['INDEX', 'TARGET_FLAG', 'TARGET_AMT', 'KIDSDRIV', 'AGE', 'HOMEKIDS',\n",
       "       'YOJ', 'INCOME', 'PARENT1', 'HOME_VAL', 'MSTATUS', 'SEX', 'EDUCATION',\n",
       "       'JOB', 'TRAVTIME', 'CAR_USE', 'BLUEBOOK', 'TIF', 'CAR_TYPE', 'RED_CAR',\n",
       "       'OLDCLAIM', 'CLM_FREQ', 'REVOKED', 'MVR_PTS', 'CAR_AGE', 'URBANICITY'],\n",
       "      dtype='object')"
      ]
     },
     "execution_count": 6,
     "metadata": {},
     "output_type": "execute_result"
    }
   ],
   "source": [
    "train.keys()"
   ]
  },
  {
   "cell_type": "markdown",
   "id": "ae434374",
   "metadata": {},
   "source": [
    "In the following the meaning of these features is explained more in detail.\n",
    "\n",
    "\n",
    "### Dictionary of features:\n",
    "\n",
    "\n",
    "- TARGET_FLAG: Whether the policy holder have already been involved in a car accident.\n",
    "- TARGET_AMT: If the policy holder has been involved in a crash, what was the cost. Not relevant for our problem. \n",
    "- KIDSDRIV: It means if the policy holder has kids which also drive the car. Younger people are, in general, more reckless than older ones. **The fact that kids use the car too is likely to increase probability of accidents**.\n",
    "- AGE : Age of the policy holder. As before: **younger people are more likely to adopt dangerous behaviours**. On the other hand, **old people** (let's say, people older than 60 years old) **are likely to have worst reflexes and longer reactions times**, which increases the odds of car accident.  \n",
    "- HOMEKIDS: The number of kids which live with the policy holder (they are not necessarily licensed to drive).\n",
    "- YOJ: Years on job \n",
    "- INCOME: Income of the policy holder\n",
    "- PARENT1: Categorical variable. Does it mean being single parent? Probably yes\n",
    "- HOME_VAL: Value of the main residence\n",
    "- MSTATUS: Marital status. 'Yes' for married, 'z_No' for single.\n",
    "- SEX: Biological sex of the policy holder. \n",
    "- EDUCATION: Education of the policy holder \n",
    "- JOB: Job of the policy holder\n",
    "- TRAVTIME: Travel Time (Likely the time of the home-jobplace trip). This feature is likely to have quite an important impact on the probability of car accident: the more time one spend to drive, the higher are the chances an accident occurs.\n",
    "- CAR_USE: Categorical variable, can be 'Private' or 'Commercial'\n",
    "- BLUEBOOK: value of the used car. \n",
    "- TIF: time in force. Number of years the policy holder has been insured with the company.\n",
    "- CAR_TYPE: Type of vehicle\n",
    "- RED_CAR: whether the color of the car is red or no. Apparently, there is a urban legend saying that red cars are more likely to have accidents.\n",
    "- OLDCLAIM: amount of money payed-out after past accidents. That may \n",
    "- CLM_FREQ: number of past accidents\n",
    "- MVR_PTS: motor vehicle record points. That is a score used in USA which measures how good is a driver. Each traffic violation contribute with points to the MVR. The more the violation is severe, the more points are attributed. E.g. driving while intoxicated, murder with vehicle, fleeing from a police officer, contribute with four points. Out-dated inspection stickers, no proof of insurance, license plate missing, count as 1 point, and so on. Therefore, we expect that an higher MVR corresponds to higher probability of accident. See e.g. https://www.utsystem.edu/sites/default/files/sites/policy-library/files/related-forms/uts157/mvrpoints.pdf for more details. However, it should be noticed that the MVR is calculated differently for each state, according local traffic laws. If datas of the dataset come from driver living in different states, we should try to uniform the score. \n",
    "- CAR_AGE: years of the car. This may have an impact on the probability of accident. As rule of thumb, newer cars implement more sophisticated security systems than older ones. However, at first glance, the importance of this feature, compared to other ones like travel time\n",
    "- URBANICITY: whether the policy holder live in a city or in the countryside. This may have an impact on the probability of accident, since in a city the density of vehicle is higher than to the countryside. \n",
    "\n",
    "- REVOKED: whether the policy holder had its driving licence revoked or not in the past"
   ]
  },
  {
   "cell_type": "markdown",
   "id": "6844f775",
   "metadata": {},
   "source": [
    "Among all the features in the training dataset, the TARGET_FLAG is of special interest, because it represents the labels of our datas (we want to train a classifier to predict this variable on the basis of other features). Using the value_counts() method we can see how the instances of the dataset are distributed between the two classes:"
   ]
  },
  {
   "cell_type": "code",
   "execution_count": 7,
   "id": "43effb4d",
   "metadata": {},
   "outputs": [
    {
     "data": {
      "text/plain": [
       "0    6008\n",
       "1    2153\n",
       "Name: TARGET_FLAG, dtype: int64"
      ]
     },
     "execution_count": 7,
     "metadata": {},
     "output_type": "execute_result"
    }
   ],
   "source": [
    "train['TARGET_FLAG'].value_counts()"
   ]
  },
  {
   "cell_type": "markdown",
   "id": "6a847a90",
   "metadata": {},
   "source": [
    "As we can see, **our dataset is highly unbalanced**: there are almost three times more exemples in the negative class (TARGET_FLAG=0) than in the positive one (TARGET_CLASS=1). For the moment we dont do any use of this information, but it will be important later, when we will have to train the classifier."
   ]
  },
  {
   "cell_type": "markdown",
   "id": "ae12c243",
   "metadata": {},
   "source": [
    "### Effect of features on the probability of accident\n",
    "\n",
    "Here I perform some simple statistical analysis in order to select which features are the most relevant in order to predict the probability of a car accident."
   ]
  },
  {
   "cell_type": "markdown",
   "id": "d225c94f",
   "metadata": {},
   "source": [
    "#### KIDSDRIV\n",
    "\n",
    "As we have mentioned, we expect that policy holders having kids driving the same car are more susceptible to have their car involved in a car accident. In order to see this, I use the groupby method to select policy holder having the same number of driving kids, and for each of this subgroups I calculate the ratio between policy holders involved in a car accident and the total size of the subgroups. Being K the number of driving kids, we are basically estimating the conditional probability\n",
    "\n",
    "$$ P(TARGET\\_FLAG=1|KIDSDRIV=K)$$"
   ]
  },
  {
   "cell_type": "code",
   "execution_count": 8,
   "id": "e59dce04",
   "metadata": {},
   "outputs": [
    {
     "data": {
      "text/plain": [
       "<matplotlib.axes._subplots.AxesSubplot at 0x7f88f6d7e588>"
      ]
     },
     "execution_count": 8,
     "metadata": {},
     "output_type": "execute_result"
    },
    {
     "data": {
      "image/png": "[encoded data removed]",
      "text/plain": [
       "<Figure size 432x288 with 1 Axes>"
      ]
     },
     "metadata": {
      "needs_background": "light"
     },
     "output_type": "display_data"
    }
   ],
   "source": [
    "# group the policy holders according the number of kids\n",
    "# which use their car:\n",
    "g=train.groupby('KIDSDRIV')['TARGET_FLAG']\n",
    "\n",
    "# For each subgroup, compute the number of policy holders\n",
    "# having their car involved in an accident\n",
    "NumAcc=g.sum()\n",
    "\n",
    "# For each subgroup, compute size of the subgroup:\n",
    "NumTot=g.count()\n",
    "\n",
    "# Plot the probability of accident according the number of driving kids:\n",
    "PrbAcc=NumAcc/NumTot\n",
    "PrbAcc.plot(kind='bar')"
   ]
  },
  {
   "cell_type": "markdown",
   "id": "744528ad",
   "metadata": {},
   "source": [
    "Unsurprisingly, we see that the more kids are driving the car of their parents, the more the probability of accident increases. We can proceed analogously for the other features"
   ]
  },
  {
   "cell_type": "markdown",
   "id": "55af4014",
   "metadata": {},
   "source": [
    "#### AGE\n",
    "\n"
   ]
  },
  {
   "cell_type": "code",
   "execution_count": 9,
   "id": "af4178e4",
   "metadata": {},
   "outputs": [
    {
     "data": {
      "text/plain": [
       "<matplotlib.axes._subplots.AxesSubplot at 0x7f88f6df1320>"
      ]
     },
     "execution_count": 9,
     "metadata": {},
     "output_type": "execute_result"
    },
    {
     "data": {
      "image/png": "[encoded data removed]",
      "text/plain": [
       "<Figure size 432x288 with 1 Axes>"
      ]
     },
     "metadata": {
      "needs_background": "light"
     },
     "output_type": "display_data"
    }
   ],
   "source": [
    "# Create a copy of dataset\n",
    "train2=train.copy()\n",
    "\n",
    "# Round the age to base 5 \n",
    "train2['AGE']=(round(train['AGE']/5)*5)\n",
    "\n",
    "# Group the policy holders by their age:\n",
    "g=train2.groupby('AGE')['TARGET_FLAG']\n",
    "\n",
    "# For each subgroup compute the number of policy holders\n",
    "# involved in an accident\n",
    "NumAcc=g.sum()\n",
    "\n",
    "# For each subgroup, compute size of the subgroup\n",
    "NumTot=g.count()\n",
    "\n",
    "# Estimate probability of accident for each age\n",
    "PrbAcc= NumAcc/NumTot\n",
    "\n",
    "# Plot the resulting distribution\n",
    "PrbAcc.plot(kind='bar')\n",
    "\n",
    "\n"
   ]
  },
  {
   "cell_type": "markdown",
   "id": "c1c7a30c",
   "metadata": {},
   "source": [
    "This feature exhibits an interesting effect on the  probability of accident: we see that the probability of accident as a function of the age has two main peaks, one corresponding to very young and the other corresponding to very old drivers.\n"
   ]
  },
  {
   "cell_type": "markdown",
   "id": "289451be",
   "metadata": {},
   "source": [
    "#### MVR_PTS"
   ]
  },
  {
   "cell_type": "code",
   "execution_count": 10,
   "id": "32ac2a55",
   "metadata": {},
   "outputs": [
    {
     "data": {
      "text/plain": [
       "<matplotlib.axes._subplots.AxesSubplot at 0x7f88f6e3dda0>"
      ]
     },
     "execution_count": 10,
     "metadata": {},
     "output_type": "execute_result"
    },
    {
     "data": {
      "image/png": "[encoded data removed]",
      "text/plain": [
       "<Figure size 432x288 with 1 Axes>"
      ]
     },
     "metadata": {
      "needs_background": "light"
     },
     "output_type": "display_data"
    }
   ],
   "source": [
    "\n",
    "# Group the policy holders according their MVR \n",
    "g=train.groupby('MVR_PTS')['TARGET_FLAG']\n",
    "\n",
    "# For each subgroups, compute number of policy holders involved in accidents\n",
    "NumAcc=g.sum()\n",
    "\n",
    "# For each subgroups, compute size of subgroup\n",
    "NumTot=g.count()\n",
    "\n",
    "# Estimate probability of accident given the MVR record\n",
    "PrbAcc=NumAcc/NumTot\n",
    "\n",
    "# Plot the probability\n",
    "PrbAcc.plot(kind='bar')"
   ]
  },
  {
   "cell_type": "markdown",
   "id": "5ba82dee",
   "metadata": {},
   "source": [
    "As we explained before, the more the motorvehicle records points are high, the more a driver is expected to have a dangerous behaviour. As expected, we see that the probability of accident increases with the MVR_PTS feature."
   ]
  },
  {
   "cell_type": "markdown",
   "id": "e40b292f",
   "metadata": {},
   "source": [
    "#### CAR_TYPE"
   ]
  },
  {
   "cell_type": "code",
   "execution_count": 11,
   "id": "7e2ac404",
   "metadata": {},
   "outputs": [
    {
     "data": {
      "text/plain": [
       "<matplotlib.axes._subplots.AxesSubplot at 0x7f88f712bd30>"
      ]
     },
     "execution_count": 11,
     "metadata": {},
     "output_type": "execute_result"
    },
    {
     "data": {
      "image/png": "[encoded data removed]",
      "text/plain": [
       "<Figure size 432x288 with 1 Axes>"
      ]
     },
     "metadata": {
      "needs_background": "light"
     },
     "output_type": "display_data"
    }
   ],
   "source": [
    "# Group the policy holders according the car type\n",
    "g=train.groupby('CAR_TYPE')['TARGET_FLAG']\n",
    "\n",
    "# For each subgroup compute number of accidents\n",
    "NumAcc=g.sum()\n",
    "\n",
    "# For each subgroup compute size of subgroup\n",
    "NumTot=g.count()\n",
    "\n",
    "# Estimate probability of accident\n",
    "PrbAcc=NumAcc/NumTot\n",
    "\n",
    "\n",
    "#Plot\n",
    "PrbAcc.plot(kind='bar')\n"
   ]
  },
  {
   "cell_type": "markdown",
   "id": "24092dc3",
   "metadata": {},
   "source": [
    "Here we reproduce the probability of accident as a function of the CAR_TYPE attribute. As we can see, the sports car seems to have an highest probability of accident (as expected, since they can run faster). However, there is no clear pattern in this distribution. It does not seem to be so relevant in order to predict the probability of accident. "
   ]
  },
  {
   "cell_type": "markdown",
   "id": "e35d75aa",
   "metadata": {},
   "source": [
    "#### URBANICITY"
   ]
  },
  {
   "cell_type": "code",
   "execution_count": 12,
   "id": "bb56887d",
   "metadata": {},
   "outputs": [
    {
     "data": {
      "text/plain": [
       "(array([0, 1]), <a list of 2 Text xticklabel objects>)"
      ]
     },
     "execution_count": 12,
     "metadata": {},
     "output_type": "execute_result"
    },
    {
     "data": {
      "image/png": "[encoded data removed]",
      "text/plain": [
       "<Figure size 432x288 with 1 Axes>"
      ]
     },
     "metadata": {
      "needs_background": "light"
     },
     "output_type": "display_data"
    }
   ],
   "source": [
    "\n",
    "# Group policy holder according where they live (Rural/Urban)\n",
    "g=train.groupby('URBANICITY')['TARGET_FLAG']\n",
    "\n",
    "# For each subgroup compute number of accident\n",
    "NumAcc=g.sum()\n",
    "\n",
    "# For each subgroup compute size of group\n",
    "NumTot=g.count()\n",
    "\n",
    "\n",
    "# Estimate probability of accident\n",
    "PrbAcc=NumAcc/NumTot\n",
    "\n",
    "# Plot \n",
    "PrbAcc.plot(kind='bar')\n",
    "plt.xticks(rotation=0)"
   ]
  },
  {
   "cell_type": "markdown",
   "id": "a011884f",
   "metadata": {},
   "source": [
    "As expected, policy holders living in a urban center are more likely to be involved in an accident than rural drivers. This is reasonable: in a big city there is much mure traffic, therefore probability of collision increases."
   ]
  },
  {
   "cell_type": "markdown",
   "id": "ab6c82c7",
   "metadata": {},
   "source": [
    "#### MSTATUS"
   ]
  },
  {
   "cell_type": "code",
   "execution_count": 13,
   "id": "c25ac75d",
   "metadata": {},
   "outputs": [
    {
     "data": {
      "text/plain": [
       "(array([0, 1]), <a list of 2 Text xticklabel objects>)"
      ]
     },
     "execution_count": 13,
     "metadata": {},
     "output_type": "execute_result"
    },
    {
     "data": {
      "image/png": "[encoded data removed]",
      "text/plain": [
       "<Figure size 432x288 with 1 Axes>"
      ]
     },
     "metadata": {
      "needs_background": "light"
     },
     "output_type": "display_data"
    }
   ],
   "source": [
    "\n",
    "# Group policy holders according their marital status\n",
    "g=train.groupby('MSTATUS')['TARGET_FLAG']\n",
    "\n",
    "# For each subgroup compute number of accidents\n",
    "NumAcc=g.sum()\n",
    "\n",
    "# For each subgroup, compute size of the subgroup\n",
    "NumTot=g.count()\n",
    "\n",
    "# Estimate probability of accident\n",
    "PrbAcc=NumAcc/NumTot\n",
    "\n",
    "# Plot estimate of probability\n",
    "PrbAcc.plot(kind='bar')\n",
    "plt.xticks(rotation=0)"
   ]
  },
  {
   "cell_type": "markdown",
   "id": "9e43e9cc",
   "metadata": {},
   "source": [
    "As we can see, married policy holders are more likely to be involved in a car accident. This is also reasonable: single policy holders are probably more susceptible to get out in the evening. Moreover, this may be correlated to the age of drivers: young drivers (which are the most dangerous) are also most likely single."
   ]
  },
  {
   "cell_type": "markdown",
   "id": "6f743004",
   "metadata": {},
   "source": [
    "#### SEX "
   ]
  },
  {
   "cell_type": "code",
   "execution_count": 14,
   "id": "cfa21ae3",
   "metadata": {},
   "outputs": [
    {
     "data": {
      "text/plain": [
       "<matplotlib.axes._subplots.AxesSubplot at 0x7f88f736e0b8>"
      ]
     },
     "execution_count": 14,
     "metadata": {},
     "output_type": "execute_result"
    },
    {
     "data": {
      "image/png": "[encoded data removed]",
      "text/plain": [
       "<Figure size 432x288 with 1 Axes>"
      ]
     },
     "metadata": {
      "needs_background": "light"
     },
     "output_type": "display_data"
    }
   ],
   "source": [
    "\n",
    "# group policy holders according their sex\n",
    "g=train.groupby('SEX')['TARGET_FLAG']\n",
    "\n",
    "# For each subgroup compute number of policy holders involved in a car accident\n",
    "NumAcc=g.sum()\n",
    "\n",
    "# For each subgroup, compute size of the subgroup\n",
    "NumTot=g.count()\n",
    "\n",
    "# Estimate probability of accident for each subgroup\n",
    "PrbAcc=NumAcc/NumTot\n",
    "\n",
    "# Plot the estimate\n",
    "PrbAcc.plot(kind='bar')\n",
    "\n",
    "\n"
   ]
  },
  {
   "cell_type": "markdown",
   "id": "042ba5f0",
   "metadata": {},
   "source": [
    "As we can see here, the gender of the driver has not much impact on the probability of accident"
   ]
  },
  {
   "cell_type": "markdown",
   "id": "cfb123a7",
   "metadata": {},
   "source": [
    "#### HOMEKIDS"
   ]
  },
  {
   "cell_type": "code",
   "execution_count": 15,
   "id": "12b02d07",
   "metadata": {},
   "outputs": [
    {
     "data": {
      "text/plain": [
       "<matplotlib.axes._subplots.AxesSubplot at 0x7f88f7471e48>"
      ]
     },
     "execution_count": 15,
     "metadata": {},
     "output_type": "execute_result"
    },
    {
     "data": {
      "image/png": "[encoded data removed]",
      "text/plain": [
       "<Figure size 432x288 with 1 Axes>"
      ]
     },
     "metadata": {
      "needs_background": "light"
     },
     "output_type": "display_data"
    }
   ],
   "source": [
    "# group policy holders according the number of kids they have at home\n",
    "g=train.groupby('HOMEKIDS')['TARGET_FLAG']\n",
    "\n",
    "# Compute number of accident in each subgroup\n",
    "NumAcc=g.sum()\n",
    "\n",
    "# Compute size of each subgroup\n",
    "NumTot=g.count()\n",
    "\n",
    "# Estimate probability of accident for each subgroup\n",
    "PrbAcc=NumAcc/NumTot\n",
    "\n",
    "# Plot \n",
    "PrbAcc.plot(kind='bar')\n"
   ]
  },
  {
   "cell_type": "markdown",
   "id": "3c40ab7a",
   "metadata": {},
   "source": [
    "As we can see, policy holders with kids are a bit more susceptible to have their car involved in a car accident. However, the difference is not that important. Probably the most relevant information is contained in the feature DRIVKIDS"
   ]
  },
  {
   "cell_type": "markdown",
   "id": "8424d411",
   "metadata": {},
   "source": [
    "#### JOB"
   ]
  },
  {
   "cell_type": "code",
   "execution_count": 16,
   "id": "d8c5011e",
   "metadata": {},
   "outputs": [
    {
     "data": {
      "text/plain": [
       "<matplotlib.axes._subplots.AxesSubplot at 0x7f88f76eee48>"
      ]
     },
     "execution_count": 16,
     "metadata": {},
     "output_type": "execute_result"
    },
    {
     "data": {
      "image/png": "[encoded data removed]",
      "text/plain": [
       "<Figure size 432x288 with 1 Axes>"
      ]
     },
     "metadata": {
      "needs_background": "light"
     },
     "output_type": "display_data"
    }
   ],
   "source": [
    "# Group the policy holders according their job\n",
    "g=train.groupby('JOB')['TARGET_FLAG']\n",
    "\n",
    "# Compute number of accident for each subgroup\n",
    "NumAcc=g.sum()\n",
    "\n",
    "# Compute size of each subgroup:\n",
    "NumTot=g.count()\n",
    "\n",
    "# Estimate probability of accident for each subgroup\n",
    "PrbAcc=NumAcc/NumTot\n",
    "\n",
    "# Plot \n",
    "PrbAcc.sort_values().plot(kind='bar')"
   ]
  },
  {
   "cell_type": "markdown",
   "id": "fb989560",
   "metadata": {},
   "source": [
    "Here we found an interesting pattern: it seems that policy holders with a white collar job are less likely to be involved in a car accident. Students are indeed the category with the highest risk (which is probably related with their age)"
   ]
  },
  {
   "cell_type": "markdown",
   "id": "5d78234e",
   "metadata": {},
   "source": [
    "#### EDUCATION"
   ]
  },
  {
   "cell_type": "code",
   "execution_count": 17,
   "id": "c7c3054b",
   "metadata": {},
   "outputs": [
    {
     "data": {
      "text/plain": [
       "<matplotlib.axes._subplots.AxesSubplot at 0x7f88f7471208>"
      ]
     },
     "execution_count": 17,
     "metadata": {},
     "output_type": "execute_result"
    },
    {
     "data": {
      "image/png": "[encoded data removed]",
      "text/plain": [
       "<Figure size 432x288 with 1 Axes>"
      ]
     },
     "metadata": {
      "needs_background": "light"
     },
     "output_type": "display_data"
    }
   ],
   "source": [
    "# group policy holders by their education\n",
    "g=train.groupby('EDUCATION')['TARGET_FLAG']\n",
    "\n",
    "\n",
    "# Compute number of accident for each subgroup\n",
    "NumAcc=g.sum()\n",
    "\n",
    "# Compute size of each subgroup:\n",
    "NumTot=g.count()\n",
    "\n",
    "# Estimate probability of accident for each subgroup\n",
    "PrbAcc=NumAcc/NumTot\n",
    "\n",
    "# Plot \n",
    "PrbAcc.sort_values().plot(kind='bar')\n",
    "\n",
    "\n",
    "\n",
    "\n"
   ]
  },
  {
   "cell_type": "markdown",
   "id": "faaa8aa6",
   "metadata": {},
   "source": [
    "Here we found another interesting pattern: we see that the probability of accident decreases for highly educated policy holders. This may be also correlated with other two features that, as we have seen, have an impact on the accident probablity, namely the age and the job. In fact, the categories with the highest probability of accident are policy holders with an high school degree and policy holder which did not obtained (yet) their high school degree. These two categories, infact, are expected to have a large overlap with both very young people (the ones which still not have or just have finished the high school), and with policy holders with a blue collar job (which probably do not have an high education degree)."
   ]
  },
  {
   "cell_type": "markdown",
   "id": "754022d7",
   "metadata": {},
   "source": [
    "#### CAR_AGE"
   ]
  },
  {
   "cell_type": "code",
   "execution_count": 18,
   "id": "4ff970a6",
   "metadata": {},
   "outputs": [
    {
     "data": {
      "image/png": "[encoded data removed]",
      "text/plain": [
       "<Figure size 432x288 with 1 Axes>"
      ]
     },
     "metadata": {
      "needs_background": "light"
     },
     "output_type": "display_data"
    },
    {
     "data": {
      "text/plain": [
       "10.0    2360\n",
       "0.0     1949\n",
       "5.0     1469\n",
       "15.0    1387\n",
       "20.0     447\n",
       "25.0      37\n",
       "30.0       1\n",
       "Name: CAR_AGE, dtype: int64"
      ]
     },
     "execution_count": 18,
     "metadata": {},
     "output_type": "execute_result"
    }
   ],
   "source": [
    "# Create a copy of the dataset\n",
    "tmp=train.copy()\n",
    "\n",
    "# \n",
    "tmp['CAR_AGE']=round(tmp['CAR_AGE']/5)*5\n",
    "itodrop=tmp.loc[tmp['CAR_AGE']<0].index\n",
    "tmp.drop(index=itodrop,inplace=True)\n",
    "\n",
    "\n",
    "\n",
    "g=tmp.groupby('CAR_AGE')\n",
    "p=g['TARGET_FLAG'].sum()/g['TARGET_FLAG'].count()\n",
    "p.plot(kind='bar')\n",
    "plt.show()\n",
    "tmp['CAR_AGE'].value_counts(sort=True)"
   ]
  },
  {
   "cell_type": "markdown",
   "id": "9c2e0d5e",
   "metadata": {},
   "source": [
    "Here we see an interesting pattern: the probability of accident decreases with the car age. This is a bit counterintuitive: one may think that newer cars have more advanced safety systems. However, it may be some sort of survivorship bias: maybe unsafe driver do not have old cars because they destroy them before they get old. Or maybe, people which have old cars, are just people which do not use their cars very often, which would decreases the probability of accident. Whatever the cause is, there is a clear correlation between accident probability and car age, and therefore we retain this feature."
   ]
  },
  {
   "cell_type": "markdown",
   "id": "4b707af1",
   "metadata": {},
   "source": [
    "#### INCOME\n",
    "\n",
    "In order to analyse the effect of the INCOME attribute (which is encoded as a text string) we need to convert it in a float value:"
   ]
  },
  {
   "cell_type": "code",
   "execution_count": 19,
   "id": "72bdb979",
   "metadata": {},
   "outputs": [],
   "source": [
    "tmp['INCOME']=train.dropna()['INCOME'].apply(lambda x: float(x.split('$').pop(1).replace(',','')))"
   ]
  },
  {
   "cell_type": "code",
   "execution_count": 20,
   "id": "0beedcdd",
   "metadata": {},
   "outputs": [
    {
     "data": {
      "image/png": "[encoded data removed]",
      "text/plain": [
       "<Figure size 432x288 with 1 Axes>"
      ]
     },
     "metadata": {
      "needs_background": "light"
     },
     "output_type": "display_data"
    },
    {
     "data": {
      "text/plain": [
       "0.0         1421\n",
       "50000.0     2849\n",
       "100000.0    1320\n",
       "150000.0     331\n",
       "200000.0     100\n",
       "250000.0      17\n",
       "300000.0       5\n",
       "350000.0       1\n",
       "Name: INCOME, dtype: int64"
      ]
     },
     "execution_count": 20,
     "metadata": {},
     "output_type": "execute_result"
    }
   ],
   "source": [
    "tmp['INCOME']=tmp['INCOME'].apply(lambda x: np.round(x/50000)*50000 )\n",
    "g=tmp.groupby('INCOME')['TARGET_FLAG']\n",
    "P=g.sum()/g.count()\n",
    "P.plot(kind='bar')\n",
    "plt.show()\n",
    "tmp['INCOME'].value_counts().sort_index()"
   ]
  },
  {
   "cell_type": "markdown",
   "id": "4e4ce324",
   "metadata": {},
   "source": [
    "As we can see, another interesting pattern is found: it seems that policy holders with an higher salary are less susceptible to be involved in a car accident. We see that the probability of accident bounce back at very high incomes, but as we can see from the `value_counts()` method, those very high salaries are most likely outliers. In other words, the sample formed by policy holders with more than 200,000\\\\$ is too small, and we cannot extract a realistic probability estimation from that."
   ]
  },
  {
   "cell_type": "markdown",
   "id": "2339dbc6",
   "metadata": {},
   "source": [
    "#### BLUEBOOK"
   ]
  },
  {
   "cell_type": "code",
   "execution_count": 21,
   "id": "932392d6",
   "metadata": {},
   "outputs": [],
   "source": [
    "tmp['BLUEBOOK']=train.dropna()['BLUEBOOK'].apply(lambda x: float(x.split('$').pop(1).replace(',','')))"
   ]
  },
  {
   "cell_type": "code",
   "execution_count": 22,
   "id": "d4c4d2da",
   "metadata": {},
   "outputs": [
    {
     "data": {
      "image/png": "[encoded data removed]",
      "text/plain": [
       "<Figure size 432x288 with 1 Axes>"
      ]
     },
     "metadata": {
      "needs_background": "light"
     },
     "output_type": "display_data"
    },
    {
     "data": {
      "text/plain": [
       "0.0         333\n",
       "10000.0    2968\n",
       "20000.0    1990\n",
       "30000.0     640\n",
       "40000.0     106\n",
       "50000.0       6\n",
       "70000.0       1\n",
       "Name: BLUEBOOK, dtype: int64"
      ]
     },
     "execution_count": 22,
     "metadata": {},
     "output_type": "execute_result"
    }
   ],
   "source": [
    "tmp['BLUEBOOK']=tmp['BLUEBOOK'].apply(lambda x: np.round(x/10000)*10000 )\n",
    "g=tmp.groupby('BLUEBOOK')['TARGET_FLAG']\n",
    "P=g.sum()/g.count()\n",
    "P.plot(kind='bar')\n",
    "plt.show()\n",
    "tmp['BLUEBOOK'].value_counts().sort_index()"
   ]
  },
  {
   "cell_type": "markdown",
   "id": "e10daca6",
   "metadata": {},
   "source": [
    "The BLUEBOOK attribute represent the value of the car owned by the policy holder. We see that the probability of accident decreases overall with the value of the car. This is not surprising, since, as we already remarked, policy holders with higher incomes (which are probably the owner of most expensive cars) are less prone to car accidents. However we see quite clearly the presence of outliers: as we can see from the plot, the probability of car accidents is higher for people wich have a cars valued between 50000\\\\$ and 60000\\\\$. But as we can see from the value counts, this is most likely a statistical fluctuations due the lack of cars in the dataset in this range of price"
   ]
  },
  {
   "cell_type": "markdown",
   "id": "8638228e",
   "metadata": {},
   "source": [
    "#### HOME_VAL"
   ]
  },
  {
   "cell_type": "code",
   "execution_count": 23,
   "id": "e0896fc1",
   "metadata": {},
   "outputs": [],
   "source": [
    "tmp['HOME_VAL']=train.dropna()['HOME_VAL'].apply(lambda x: float(x.split('$').pop(1).replace(',','')))"
   ]
  },
  {
   "cell_type": "code",
   "execution_count": 24,
   "id": "58a80360",
   "metadata": {},
   "outputs": [
    {
     "data": {
      "image/png": "[encoded data removed]",
      "text/plain": [
       "<Figure size 432x288 with 1 Axes>"
      ]
     },
     "metadata": {
      "needs_background": "light"
     },
     "output_type": "display_data"
    },
    {
     "data": {
      "text/plain": [
       "0.0         1816\n",
       "50000.0       94\n",
       "100000.0     513\n",
       "150000.0     938\n",
       "200000.0    1016\n",
       "250000.0     773\n",
       "300000.0     443\n",
       "350000.0     219\n",
       "400000.0     115\n",
       "450000.0      58\n",
       "500000.0      35\n",
       "550000.0      17\n",
       "600000.0       3\n",
       "650000.0       2\n",
       "700000.0       1\n",
       "900000.0       1\n",
       "Name: HOME_VAL, dtype: int64"
      ]
     },
     "execution_count": 24,
     "metadata": {},
     "output_type": "execute_result"
    }
   ],
   "source": [
    "tmp['HOME_VAL']=tmp['HOME_VAL'].apply(lambda x: np.round(x/50000)*50000 )\n",
    "g=tmp.groupby('HOME_VAL')['TARGET_FLAG']\n",
    "P=g.sum()/g.count()\n",
    "P.plot(kind='bar')\n",
    "plt.show()\n",
    "tmp['HOME_VAL'].value_counts().sort_index()"
   ]
  },
  {
   "cell_type": "markdown",
   "id": "5705b4ce",
   "metadata": {},
   "source": [
    "HOME_VAL attribute represent the value of the home owned by the policy holder. We see that the probability of accident decreases with the value of the home (except for some very sharp peak corresponding to the most valuable homes of the dataset, which are clearly outliers). This is not surprising and reflects the behaviour of the INCOME attribute"
   ]
  },
  {
   "cell_type": "markdown",
   "id": "f0e547a7",
   "metadata": {},
   "source": [
    "#### RED_CAR"
   ]
  },
  {
   "cell_type": "code",
   "execution_count": 25,
   "id": "b5811bc6",
   "metadata": {},
   "outputs": [
    {
     "data": {
      "image/png": "[encoded data removed]",
      "text/plain": [
       "<Figure size 432x288 with 1 Axes>"
      ]
     },
     "metadata": {
      "needs_background": "light"
     },
     "output_type": "display_data"
    },
    {
     "data": {
      "text/plain": [
       "no     5782\n",
       "yes    2378\n",
       "Name: RED_CAR, dtype: int64"
      ]
     },
     "execution_count": 25,
     "metadata": {},
     "output_type": "execute_result"
    }
   ],
   "source": [
    "g=tmp.groupby('RED_CAR')\n",
    "p=g['TARGET_FLAG'].sum()/g['TARGET_FLAG'].count()\n",
    "p.plot(kind='bar')\n",
    "plt.show()\n",
    "tmp['RED_CAR'].value_counts(sort=True)"
   ]
  },
  {
   "cell_type": "markdown",
   "id": "19e536a6",
   "metadata": {},
   "source": [
    "As expected, the color of the car have no influence on the accident probability"
   ]
  },
  {
   "cell_type": "markdown",
   "id": "157a825d",
   "metadata": {},
   "source": [
    "#### TRAVTIME"
   ]
  },
  {
   "cell_type": "code",
   "execution_count": 26,
   "id": "f1f52c3a",
   "metadata": {},
   "outputs": [
    {
     "data": {
      "image/png": "[encoded data removed]",
      "text/plain": [
       "<Figure size 432x288 with 1 Axes>"
      ]
     },
     "metadata": {
      "needs_background": "light"
     },
     "output_type": "display_data"
    },
    {
     "data": {
      "text/plain": [
       "0.0       334\n",
       "10.0      670\n",
       "20.0     1621\n",
       "30.0     1779\n",
       "40.0     2000\n",
       "50.0      985\n",
       "60.0      537\n",
       "70.0      149\n",
       "80.0       59\n",
       "90.0       15\n",
       "100.0       7\n",
       "110.0       1\n",
       "120.0       1\n",
       "130.0       1\n",
       "140.0       1\n",
       "Name: TRAVTIME, dtype: int64"
      ]
     },
     "execution_count": 26,
     "metadata": {},
     "output_type": "execute_result"
    }
   ],
   "source": [
    "tmp['TRAVTIME']=round(train['TRAVTIME']/10)*10\n",
    "g=tmp.groupby('TRAVTIME')\n",
    "p=g['TARGET_FLAG'].sum()/g['TARGET_FLAG'].count()\n",
    "p.plot(kind='bar')\n",
    "plt.show()\n",
    "tmp['TRAVTIME'].value_counts(sort=True).sort_index()"
   ]
  },
  {
   "cell_type": "markdown",
   "id": "63bfd345",
   "metadata": {},
   "source": [
    "As we can see, the probability of accident increases with the time travel to the jobplace. We see that the probability of accidents start to decrease for policy holders which travel more than 70 minutes to their job. However, this is most likely due to the presence of outliers: as we can see using the `value_counts()` method, the number of policy holders which travels more than 70 min to their jobplaces is very low, and those policy holders do not really represent a significative sample. "
   ]
  },
  {
   "cell_type": "markdown",
   "id": "c87873dd",
   "metadata": {},
   "source": [
    "#### TIF"
   ]
  },
  {
   "cell_type": "code",
   "execution_count": 27,
   "id": "b36f13ef",
   "metadata": {},
   "outputs": [
    {
     "data": {
      "image/png": "[encoded data removed]",
      "text/plain": [
       "<Figure size 432x288 with 1 Axes>"
      ]
     },
     "metadata": {
      "needs_background": "light"
     },
     "output_type": "display_data"
    },
    {
     "data": {
      "text/plain": [
       "0.0     2539\n",
       "5.0     3678\n",
       "10.0    1352\n",
       "15.0     535\n",
       "20.0      54\n",
       "25.0       2\n",
       "Name: TIF, dtype: int64"
      ]
     },
     "execution_count": 27,
     "metadata": {},
     "output_type": "execute_result"
    }
   ],
   "source": [
    "tmp['TIF']=round(tmp['TIF']/5)*5\n",
    "g=tmp.groupby('TIF')\n",
    "p=g['TARGET_FLAG'].sum()/g['TARGET_FLAG'].count()\n",
    "p.plot(kind='bar')\n",
    "plt.show()\n",
    "tmp['TIF'].value_counts(sort=True).sort_index()"
   ]
  },
  {
   "cell_type": "markdown",
   "id": "66442820",
   "metadata": {},
   "source": [
    "The TIF attribute stands for *time in force* and it represents the number of years that a given policy holder have been costumer of the insurance company. As we can see, the probability of accident decreases with the TIF attribute."
   ]
  },
  {
   "cell_type": "markdown",
   "id": "3922d649",
   "metadata": {},
   "source": [
    "#### YOJ"
   ]
  },
  {
   "cell_type": "code",
   "execution_count": 28,
   "id": "3fcfce96",
   "metadata": {},
   "outputs": [
    {
     "data": {
      "image/png": "[encoded data removed]",
      "text/plain": [
       "<Figure size 432x288 with 1 Axes>"
      ]
     },
     "metadata": {
      "needs_background": "light"
     },
     "output_type": "display_data"
    },
    {
     "data": {
      "text/plain": [
       "0.0      646\n",
       "5.0      638\n",
       "10.0    3814\n",
       "15.0    2569\n",
       "20.0      37\n",
       "25.0       2\n",
       "Name: YOJ, dtype: int64"
      ]
     },
     "execution_count": 28,
     "metadata": {},
     "output_type": "execute_result"
    }
   ],
   "source": [
    "tmp['YOJ']=round(tmp['YOJ']/5)*5\n",
    "g=tmp.groupby('YOJ')\n",
    "p=g['TARGET_FLAG'].sum()/g['TARGET_FLAG'].count()\n",
    "p.plot(kind='bar')\n",
    "plt.show()\n",
    "tmp['YOJ'].value_counts(sort=True).sort_index()"
   ]
  },
  {
   "cell_type": "markdown",
   "id": "c95ef9b4",
   "metadata": {},
   "source": [
    "YOJ stands for *years on job*, and it represents the number of years a given policy holder has been working at its job. There is no clear dependance of the accident probability on the YOJ attribute, except for a significant peak in 0. This is most likely due to a correlation with age: a large part of people which started their job a few years ago must be constituted by young people which just entered in the job market, and as we know young people are more likely to be involved in accidents."
   ]
  },
  {
   "cell_type": "markdown",
   "id": "d1fa440c",
   "metadata": {},
   "source": [
    "#### CLM_FREQ"
   ]
  },
  {
   "cell_type": "code",
   "execution_count": 29,
   "id": "5d05dfd1",
   "metadata": {},
   "outputs": [
    {
     "data": {
      "image/png": "[encoded data removed]",
      "text/plain": [
       "<Figure size 432x288 with 1 Axes>"
      ]
     },
     "metadata": {
      "needs_background": "light"
     },
     "output_type": "display_data"
    },
    {
     "data": {
      "text/plain": [
       "0    5009\n",
       "1     997\n",
       "2    1171\n",
       "3     775\n",
       "4     190\n",
       "5      18\n",
       "Name: CLM_FREQ, dtype: int64"
      ]
     },
     "execution_count": 29,
     "metadata": {},
     "output_type": "execute_result"
    }
   ],
   "source": [
    "g=tmp.groupby('CLM_FREQ')\n",
    "p=g['TARGET_FLAG'].sum()/g['TARGET_FLAG'].count()\n",
    "p.plot(kind='bar')\n",
    "plt.show()\n",
    "tmp['CLM_FREQ'].value_counts(sort=True).sort_index()"
   ]
  },
  {
   "cell_type": "markdown",
   "id": "63cf5e97",
   "metadata": {},
   "source": [
    "CLM_FREQ stands for claims frequency, and it represents the number of accident that a policy holder had in the past. As it is reasonable to expect, policy holders which already have accidents are more likely to have new accidents in future."
   ]
  },
  {
   "cell_type": "markdown",
   "id": "577d6e8a",
   "metadata": {},
   "source": [
    "#### REVOKED"
   ]
  },
  {
   "cell_type": "code",
   "execution_count": 30,
   "id": "e7f7765c",
   "metadata": {},
   "outputs": [
    {
     "data": {
      "image/png": "[encoded data removed]",
      "text/plain": [
       "<Figure size 432x288 with 1 Axes>"
      ]
     },
     "metadata": {
      "needs_background": "light"
     },
     "output_type": "display_data"
    },
    {
     "data": {
      "text/plain": [
       "No     7161\n",
       "Yes     999\n",
       "Name: REVOKED, dtype: int64"
      ]
     },
     "execution_count": 30,
     "metadata": {},
     "output_type": "execute_result"
    }
   ],
   "source": [
    "g=tmp.groupby('REVOKED')\n",
    "p=g['TARGET_FLAG'].sum()/g['TARGET_FLAG'].count()\n",
    "p.plot(kind='bar')\n",
    "plt.show()\n",
    "tmp['REVOKED'].value_counts(sort=True)"
   ]
  },
  {
   "cell_type": "markdown",
   "id": "6f47ce86",
   "metadata": {},
   "source": [
    "The REVOKED attribute tells us if a policy holder had its driving licence revoked in the past. Not surprisingly, drivers which had their driving licence revoked are more prone to accidents"
   ]
  },
  {
   "cell_type": "markdown",
   "id": "3ca1a63b",
   "metadata": {},
   "source": [
    "#### PARENT1"
   ]
  },
  {
   "cell_type": "code",
   "execution_count": 31,
   "id": "5f54eacd",
   "metadata": {},
   "outputs": [
    {
     "data": {
      "image/png": "[encoded data removed]",
      "text/plain": [
       "<Figure size 432x288 with 1 Axes>"
      ]
     },
     "metadata": {
      "needs_background": "light"
     },
     "output_type": "display_data"
    },
    {
     "data": {
      "text/plain": [
       "No     7083\n",
       "Yes    1077\n",
       "Name: PARENT1, dtype: int64"
      ]
     },
     "execution_count": 31,
     "metadata": {},
     "output_type": "execute_result"
    }
   ],
   "source": [
    "g=tmp.groupby('PARENT1')\n",
    "p=g['TARGET_FLAG'].sum()/g['TARGET_FLAG'].count()\n",
    "p.plot(kind='bar')\n",
    "plt.show()\n",
    "tmp['PARENT1'].value_counts(sort=True).sort_index()"
   ]
  },
  {
   "cell_type": "markdown",
   "id": "34ea3d69",
   "metadata": {},
   "source": [
    "PARENT1 attribute tells us whether the policy holder is a single parent or not. An interesting pattern is found: apparently, single parents are more likely to be involved in car accidents."
   ]
  },
  {
   "cell_type": "markdown",
   "id": "7401384d",
   "metadata": {},
   "source": [
    "#### CAR_USE"
   ]
  },
  {
   "cell_type": "code",
   "execution_count": 32,
   "id": "c3fd6d0b",
   "metadata": {},
   "outputs": [
    {
     "data": {
      "image/png": "[encoded data removed]",
      "text/plain": [
       "<Figure size 432x288 with 1 Axes>"
      ]
     },
     "metadata": {
      "needs_background": "light"
     },
     "output_type": "display_data"
    },
    {
     "data": {
      "text/plain": [
       "Private       5131\n",
       "Commercial    3029\n",
       "Name: CAR_USE, dtype: int64"
      ]
     },
     "execution_count": 32,
     "metadata": {},
     "output_type": "execute_result"
    }
   ],
   "source": [
    "g=tmp.groupby('CAR_USE')\n",
    "p=g['TARGET_FLAG'].sum()/g['TARGET_FLAG'].count()\n",
    "p.plot(kind='bar')\n",
    "plt.show()\n",
    "tmp['CAR_USE'].value_counts(sort=True)"
   ]
  },
  {
   "cell_type": "markdown",
   "id": "99b5a503",
   "metadata": {},
   "source": [
    "CAR_USE attribute describe whether the vehicle is a private or commercial one. As shown in this plot, it turns out that commercial vehicles are more prone to the risk of accident. This is not surprising, because likely commercial vehicles are driven much more than private ones, which increases the probability of collision."
   ]
  },
  {
   "cell_type": "markdown",
   "id": "5d2d9ee1",
   "metadata": {},
   "source": [
    "## Data preparation:\n",
    "\n",
    "We identified the following list of predictors which seem to have an effect on the probability of car accident:\n",
    "\n",
    "1. KIDSDRIV\n",
    "2. AGE\n",
    "3. INCOME\n",
    "4. PARENT1\n",
    "5. MSTATUS\n",
    "6. EDUCATION\n",
    "7. JOB\n",
    "8. TRAVTIME\n",
    "9. CAR_USE\n",
    "10. TIF\n",
    "11. CLAIM_FREQ\n",
    "12. REVOKED\n",
    "13. MVR_PTS\n",
    "14. CAR_AGE\n",
    "15. URBANICITY\n",
    "\n",
    "Some of these predictors are numerical attributes. "
   ]
  },
  {
   "cell_type": "markdown",
   "id": "ad7d511d",
   "metadata": {},
   "source": [
    "Before we can train a machine learning algorithm in order to predict probability of car accident, the dataset needs to be prepared. Some of the features contain missing values: machine learning algorithms, in general, are not able to deal with missing values. Therefore, before we can feed a machine learning algorithm with our datas, we need to drop the missing values, or find a way to infer them. Other columns (such as the INCOME one) contain numerical values which are encoded as text string, and we need to encode them as float. Other attributes are categorical (with two or more fixed categories), and we want to encode as number also these features. Moreover, as we have remarked in the previous section, some columns contains outliers, and we want to get rid of them before training our machine learning algorithms.\n",
    "\n",
    "One solution is to perform all these operations one at the time of each column. This would be feasible, but very boring and time consuming. Moreover, next time we want apply the same transformation to a new dataset with the same structure (which is exactly what will need at the end of the notebook, in order to perform predictions on the test dataset), we will be obliged to perform again all these operation one by one. \n",
    "\n",
    "A more elegant solution consist in automate the data cleaning procedure using the `Pipeline()` and `ColumnTransform()` functions of Scikit Learn. The present section is devoted to take care of all these operations."
   ]
  },
  {
   "cell_type": "markdown",
   "id": "162247f4",
   "metadata": {},
   "source": [
    "## Building the pipeline:"
   ]
  },
  {
   "cell_type": "markdown",
   "id": "e3f4e028",
   "metadata": {},
   "source": [
    "First of all, I put the labels of the dataset apart:"
   ]
  },
  {
   "cell_type": "code",
   "execution_count": 33,
   "id": "125a6f10",
   "metadata": {},
   "outputs": [],
   "source": [
    "train_labels=train['TARGET_FLAG'].copy()"
   ]
  },
  {
   "cell_type": "markdown",
   "id": "cb4b4141",
   "metadata": {},
   "source": [
    "Then, I select the columns to drop (the one referring to non relevant features), and I select the columns referring respectively to numerical, categorical binary, and categorical attributes:"
   ]
  },
  {
   "cell_type": "code",
   "execution_count": 34,
   "id": "621a1d9b",
   "metadata": {},
   "outputs": [],
   "source": [
    "# Drop non relevant columns\n",
    "col_to_drop=['INDEX','TARGET_FLAG','TARGET_AMT','HOMEKIDS','YOJ','HOME_VAL','SEX','BLUEBOOK','CAR_TYPE','RED_CAR','OLDCLAIM']\n",
    "\n",
    "# Define numerical attributes\n",
    "num_attribs=['KIDSDRIV','AGE','INCOME','TRAVTIME','TIF','CLM_FREQ','MVR_PTS','CAR_AGE']\n",
    "\n",
    "# Define binary categorical attributes\n",
    "bin_attribs=['PARENT1','MSTATUS','CAR_USE','REVOKED','URBANICITY']\n",
    "\n",
    "#Define non-binary categorical attributes\n",
    "cat_attribs=['EDUCATION','JOB']"
   ]
  },
  {
   "cell_type": "markdown",
   "id": "7dfeb4c2",
   "metadata": {},
   "source": [
    "and I create three dataframes, each of them containing respectively numerical, binary categorical, and categorical attributes:"
   ]
  },
  {
   "cell_type": "code",
   "execution_count": 35,
   "id": "cd129a3e",
   "metadata": {},
   "outputs": [],
   "source": [
    "# Dataframe containing only numerical features\n",
    "num_train=train.drop(columns=bin_attribs+cat_attribs+col_to_drop)\n",
    "\n",
    "# Dataframe containing only binary categorical features\n",
    "bin_train=train.drop(columns=num_attribs+cat_attribs+col_to_drop)\n",
    "\n",
    "# Dataframe containing only categorical features\n",
    "cat_train=train.drop(columns=num_attribs+bin_attribs+col_to_drop)"
   ]
  },
  {
   "cell_type": "markdown",
   "id": "17d783e2",
   "metadata": {},
   "source": [
    "#### Numerical Pipeline\n",
    "\n",
    "As we have seen, I want to create a pipeline which apply the following transformation to the datas:\n",
    "\n",
    "1. Transform INCOME to numerical\n",
    "2. Eliminate outliers from INCOME feature\n",
    "3. Imputing missing values\n",
    "4. Rescaling values"
   ]
  },
  {
   "cell_type": "markdown",
   "id": "25de08bc",
   "metadata": {},
   "source": [
    "The first operation is easy to do with Pandas, using the `apply()` method in the following way:"
   ]
  },
  {
   "cell_type": "code",
   "execution_count": 36,
   "id": "62fc5c51",
   "metadata": {},
   "outputs": [
    {
     "data": {
      "text/plain": [
       "0        67349.0\n",
       "1        91449.0\n",
       "2        16039.0\n",
       "3            NaN\n",
       "4       114986.0\n",
       "          ...   \n",
       "8156     43112.0\n",
       "8157    164669.0\n",
       "8158    107204.0\n",
       "8159     43445.0\n",
       "8160     53235.0\n",
       "Name: INCOME, Length: 8161, dtype: float64"
      ]
     },
     "execution_count": 36,
     "metadata": {},
     "output_type": "execute_result"
    }
   ],
   "source": [
    "train['INCOME'].apply(lambda x:  float(x.split('$').pop(1).replace(',','')) if pd.notnull(x) else x)"
   ]
  },
  {
   "cell_type": "markdown",
   "id": "443a33d7",
   "metadata": {},
   "source": [
    "Let's see how this works for a single element of the Series:\n"
   ]
  },
  {
   "cell_type": "code",
   "execution_count": 37,
   "id": "de6c56e0",
   "metadata": {},
   "outputs": [
    {
     "data": {
      "text/plain": [
       "'$67,349'"
      ]
     },
     "execution_count": 37,
     "metadata": {},
     "output_type": "execute_result"
    }
   ],
   "source": [
    "ExElm=train['INCOME'][0]\n",
    "ExElm"
   ]
  },
  {
   "cell_type": "markdown",
   "id": "d8c7b05a",
   "metadata": {},
   "source": [
    "the `split('$')` method separate the string in a list of string, breaking the original string at each occurence of the `'$'` character: "
   ]
  },
  {
   "cell_type": "code",
   "execution_count": 38,
   "id": "011e234b",
   "metadata": {},
   "outputs": [
    {
     "data": {
      "text/plain": [
       "['', '67,349']"
      ]
     },
     "execution_count": 38,
     "metadata": {},
     "output_type": "execute_result"
    }
   ],
   "source": [
    "ExElm.split('$')"
   ]
  },
  {
   "cell_type": "markdown",
   "id": "afc26088",
   "metadata": {},
   "source": [
    "the `pop(1)` method return the element at index 1 of the list (which is the quantity of interest):"
   ]
  },
  {
   "cell_type": "code",
   "execution_count": 39,
   "id": "e16eeae1",
   "metadata": {},
   "outputs": [
    {
     "data": {
      "text/plain": [
       "'67,349'"
      ]
     },
     "execution_count": 39,
     "metadata": {},
     "output_type": "execute_result"
    }
   ],
   "source": [
    "ExElm.split('$').pop(1)"
   ]
  },
  {
   "cell_type": "markdown",
   "id": "efa96c4e",
   "metadata": {},
   "source": [
    "the `replace(',','')` method replace the comma with an empty string:"
   ]
  },
  {
   "cell_type": "code",
   "execution_count": 40,
   "id": "f899efe0",
   "metadata": {},
   "outputs": [
    {
     "data": {
      "text/plain": [
       "'67349'"
      ]
     },
     "execution_count": 40,
     "metadata": {},
     "output_type": "execute_result"
    }
   ],
   "source": [
    "ExElm.split('$').pop(1).replace(',','')"
   ]
  },
  {
   "cell_type": "markdown",
   "id": "b992b996",
   "metadata": {},
   "source": [
    "And the built in `float()` function convert the string to float:"
   ]
  },
  {
   "cell_type": "code",
   "execution_count": 41,
   "id": "edd0bb4f",
   "metadata": {},
   "outputs": [
    {
     "data": {
      "text/plain": [
       "67349.0"
      ]
     },
     "execution_count": 41,
     "metadata": {},
     "output_type": "execute_result"
    }
   ],
   "source": [
    "float(ExElm.split('$').pop(1).replace(',',''))"
   ]
  },
  {
   "cell_type": "markdown",
   "id": "70bb7bc1",
   "metadata": {},
   "source": [
    "Finally, the `apply()` method apply this transformation to all the elements of the series. A conditional instruction is also added, in order to preserve the missing values for further elaborations."
   ]
  },
  {
   "cell_type": "markdown",
   "id": "c741d802",
   "metadata": {},
   "source": [
    "However, there is still a missing step in order to include this transformation into the pipeline. In Scikit Learn infact, pipelines has to be fed with special objects, called transformers. Each transformer contains a method called transform() which takes as input datas and return them transformed. \n",
    "\n",
    "In the following I define a function `process_income()` which takes as input the entire dataframe and return the dataframe with the modified (i.e. containing float values) INCOME column. Moreover, the `process_income()` function discretise the elements of the INCOME column. The incomes of the policy holders are converted in 5 different categories: >50,000\\\\$, 50,000\\\\$ to 100,000\\\\$, 100,000\\\\$ to 150,000\\\\$, 150,000\\\\$ to 200,000\\\\$, and >200,000\\\\$. As a consequence, each categories is represented by an adequate number of policy holders, reducing therefore the effect of outliers\n",
    "\n",
    "Then I define the transformer `DataframeFunctionTransformer` which takes as input a function acting on dataframe (in our case, it will be `process_income()`), and when the transform method is called on a dataframe, it applies the function on the dataframe."
   ]
  },
  {
   "cell_type": "code",
   "execution_count": 42,
   "id": "7dace4df",
   "metadata": {},
   "outputs": [],
   "source": [
    "#Transformer definition:\n",
    "class DataframeFunctionTransformer():\n",
    "    def __init__(self, func):\n",
    "        self.func = func\n",
    "\n",
    "    def transform(self, input_df, **transform_params):\n",
    "        return self.func(input_df)\n",
    "\n",
    "    def fit(self, X, y=None, **fit_params):\n",
    "        return self\n",
    "\n",
    "# this function takes a dataframe as input and\n",
    "# returns a modified version thereof\n",
    "\n",
    "def process_income(input_df):\n",
    "    input_df['INCOME'] = input_df['INCOME'].apply(lambda x:  float(x.split('$').pop(1).replace(',','')) if pd.notnull(x) else x)\n",
    "    \n",
    "    # Eliminating outliers:\n",
    "    IncCat=list(np.arange(0,2.5e5,5e4,dtype=int))\n",
    "    IncCat.append(np.inf)\n",
    "    input_df['INCOME']=pd.cut(input_df['INCOME'],bins=IncCat,labels=list(np.arange(0,2.5e5,5e4,dtype=int))).astype(float)\n",
    "    \n",
    "    return input_df"
   ]
  },
  {
   "cell_type": "markdown",
   "id": "7c0083d8",
   "metadata": {},
   "source": [
    "Let's see how this work with a simple example. First I create an object `DataframeFunctionTransformer()`:"
   ]
  },
  {
   "cell_type": "code",
   "execution_count": 43,
   "id": "6bb589af",
   "metadata": {},
   "outputs": [],
   "source": [
    "ExmplTransf=DataframeFunctionTransformer(process_income)\n"
   ]
  },
  {
   "cell_type": "markdown",
   "id": "f2fde28a",
   "metadata": {},
   "source": [
    "and then I call the transform method on the test dataframe:"
   ]
  },
  {
   "cell_type": "code",
   "execution_count": 44,
   "id": "44ffd7f6",
   "metadata": {},
   "outputs": [
    {
     "data": {
      "text/html": [
       "<div>\n",
       "<style scoped>\n",
       "    .dataframe tbody tr th:only-of-type {\n",
       "        vertical-align: middle;\n",
       "    }\n",
       "\n",
       "    .dataframe tbody tr th {\n",
       "        vertical-align: top;\n",
       "    }\n",
       "\n",
       "    .dataframe thead th {\n",
       "        text-align: right;\n",
       "    }\n",
       "</style>\n",
       "<table border=\"1\" class=\"dataframe\">\n",
       "  <thead>\n",
       "    <tr style=\"text-align: right;\">\n",
       "      <th></th>\n",
       "      <th>INDEX</th>\n",
       "      <th>TARGET_FLAG</th>\n",
       "      <th>TARGET_AMT</th>\n",
       "      <th>KIDSDRIV</th>\n",
       "      <th>AGE</th>\n",
       "      <th>HOMEKIDS</th>\n",
       "      <th>YOJ</th>\n",
       "      <th>INCOME</th>\n",
       "      <th>PARENT1</th>\n",
       "      <th>HOME_VAL</th>\n",
       "      <th>...</th>\n",
       "      <th>BLUEBOOK</th>\n",
       "      <th>TIF</th>\n",
       "      <th>CAR_TYPE</th>\n",
       "      <th>RED_CAR</th>\n",
       "      <th>OLDCLAIM</th>\n",
       "      <th>CLM_FREQ</th>\n",
       "      <th>REVOKED</th>\n",
       "      <th>MVR_PTS</th>\n",
       "      <th>CAR_AGE</th>\n",
       "      <th>URBANICITY</th>\n",
       "    </tr>\n",
       "  </thead>\n",
       "  <tbody>\n",
       "    <tr>\n",
       "      <th>0</th>\n",
       "      <td>1</td>\n",
       "      <td>0</td>\n",
       "      <td>0.0</td>\n",
       "      <td>0</td>\n",
       "      <td>60.0</td>\n",
       "      <td>0</td>\n",
       "      <td>11.0</td>\n",
       "      <td>50000.0</td>\n",
       "      <td>No</td>\n",
       "      <td>$0</td>\n",
       "      <td>...</td>\n",
       "      <td>$14,230</td>\n",
       "      <td>11</td>\n",
       "      <td>Minivan</td>\n",
       "      <td>yes</td>\n",
       "      <td>$4,461</td>\n",
       "      <td>2</td>\n",
       "      <td>No</td>\n",
       "      <td>3</td>\n",
       "      <td>18.0</td>\n",
       "      <td>Highly Urban/ Urban</td>\n",
       "    </tr>\n",
       "    <tr>\n",
       "      <th>1</th>\n",
       "      <td>2</td>\n",
       "      <td>0</td>\n",
       "      <td>0.0</td>\n",
       "      <td>0</td>\n",
       "      <td>43.0</td>\n",
       "      <td>0</td>\n",
       "      <td>11.0</td>\n",
       "      <td>50000.0</td>\n",
       "      <td>No</td>\n",
       "      <td>$257,252</td>\n",
       "      <td>...</td>\n",
       "      <td>$14,940</td>\n",
       "      <td>1</td>\n",
       "      <td>Minivan</td>\n",
       "      <td>yes</td>\n",
       "      <td>$0</td>\n",
       "      <td>0</td>\n",
       "      <td>No</td>\n",
       "      <td>0</td>\n",
       "      <td>1.0</td>\n",
       "      <td>Highly Urban/ Urban</td>\n",
       "    </tr>\n",
       "    <tr>\n",
       "      <th>2</th>\n",
       "      <td>4</td>\n",
       "      <td>0</td>\n",
       "      <td>0.0</td>\n",
       "      <td>0</td>\n",
       "      <td>35.0</td>\n",
       "      <td>1</td>\n",
       "      <td>10.0</td>\n",
       "      <td>0.0</td>\n",
       "      <td>No</td>\n",
       "      <td>$124,191</td>\n",
       "      <td>...</td>\n",
       "      <td>$4,010</td>\n",
       "      <td>4</td>\n",
       "      <td>z_SUV</td>\n",
       "      <td>no</td>\n",
       "      <td>$38,690</td>\n",
       "      <td>2</td>\n",
       "      <td>No</td>\n",
       "      <td>3</td>\n",
       "      <td>10.0</td>\n",
       "      <td>Highly Urban/ Urban</td>\n",
       "    </tr>\n",
       "    <tr>\n",
       "      <th>3</th>\n",
       "      <td>5</td>\n",
       "      <td>0</td>\n",
       "      <td>0.0</td>\n",
       "      <td>0</td>\n",
       "      <td>51.0</td>\n",
       "      <td>0</td>\n",
       "      <td>14.0</td>\n",
       "      <td>NaN</td>\n",
       "      <td>No</td>\n",
       "      <td>$306,251</td>\n",
       "      <td>...</td>\n",
       "      <td>$15,440</td>\n",
       "      <td>7</td>\n",
       "      <td>Minivan</td>\n",
       "      <td>yes</td>\n",
       "      <td>$0</td>\n",
       "      <td>0</td>\n",
       "      <td>No</td>\n",
       "      <td>0</td>\n",
       "      <td>6.0</td>\n",
       "      <td>Highly Urban/ Urban</td>\n",
       "    </tr>\n",
       "    <tr>\n",
       "      <th>4</th>\n",
       "      <td>6</td>\n",
       "      <td>0</td>\n",
       "      <td>0.0</td>\n",
       "      <td>0</td>\n",
       "      <td>50.0</td>\n",
       "      <td>0</td>\n",
       "      <td>NaN</td>\n",
       "      <td>100000.0</td>\n",
       "      <td>No</td>\n",
       "      <td>$243,925</td>\n",
       "      <td>...</td>\n",
       "      <td>$18,000</td>\n",
       "      <td>1</td>\n",
       "      <td>z_SUV</td>\n",
       "      <td>no</td>\n",
       "      <td>$19,217</td>\n",
       "      <td>2</td>\n",
       "      <td>Yes</td>\n",
       "      <td>3</td>\n",
       "      <td>17.0</td>\n",
       "      <td>Highly Urban/ Urban</td>\n",
       "    </tr>\n",
       "    <tr>\n",
       "      <th>5</th>\n",
       "      <td>7</td>\n",
       "      <td>1</td>\n",
       "      <td>2946.0</td>\n",
       "      <td>0</td>\n",
       "      <td>34.0</td>\n",
       "      <td>1</td>\n",
       "      <td>12.0</td>\n",
       "      <td>100000.0</td>\n",
       "      <td>Yes</td>\n",
       "      <td>$0</td>\n",
       "      <td>...</td>\n",
       "      <td>$17,430</td>\n",
       "      <td>1</td>\n",
       "      <td>Sports Car</td>\n",
       "      <td>no</td>\n",
       "      <td>$0</td>\n",
       "      <td>0</td>\n",
       "      <td>No</td>\n",
       "      <td>0</td>\n",
       "      <td>7.0</td>\n",
       "      <td>Highly Urban/ Urban</td>\n",
       "    </tr>\n",
       "    <tr>\n",
       "      <th>6</th>\n",
       "      <td>8</td>\n",
       "      <td>0</td>\n",
       "      <td>0.0</td>\n",
       "      <td>0</td>\n",
       "      <td>54.0</td>\n",
       "      <td>0</td>\n",
       "      <td>NaN</td>\n",
       "      <td>0.0</td>\n",
       "      <td>No</td>\n",
       "      <td>NaN</td>\n",
       "      <td>...</td>\n",
       "      <td>$8,780</td>\n",
       "      <td>1</td>\n",
       "      <td>z_SUV</td>\n",
       "      <td>no</td>\n",
       "      <td>$0</td>\n",
       "      <td>0</td>\n",
       "      <td>No</td>\n",
       "      <td>0</td>\n",
       "      <td>1.0</td>\n",
       "      <td>Highly Urban/ Urban</td>\n",
       "    </tr>\n",
       "    <tr>\n",
       "      <th>7</th>\n",
       "      <td>11</td>\n",
       "      <td>1</td>\n",
       "      <td>4021.0</td>\n",
       "      <td>1</td>\n",
       "      <td>37.0</td>\n",
       "      <td>2</td>\n",
       "      <td>NaN</td>\n",
       "      <td>100000.0</td>\n",
       "      <td>No</td>\n",
       "      <td>$333,680</td>\n",
       "      <td>...</td>\n",
       "      <td>$16,970</td>\n",
       "      <td>1</td>\n",
       "      <td>Van</td>\n",
       "      <td>yes</td>\n",
       "      <td>$2,374</td>\n",
       "      <td>1</td>\n",
       "      <td>Yes</td>\n",
       "      <td>10</td>\n",
       "      <td>7.0</td>\n",
       "      <td>Highly Urban/ Urban</td>\n",
       "    </tr>\n",
       "    <tr>\n",
       "      <th>8</th>\n",
       "      <td>12</td>\n",
       "      <td>1</td>\n",
       "      <td>2501.0</td>\n",
       "      <td>0</td>\n",
       "      <td>34.0</td>\n",
       "      <td>0</td>\n",
       "      <td>10.0</td>\n",
       "      <td>50000.0</td>\n",
       "      <td>No</td>\n",
       "      <td>$0</td>\n",
       "      <td>...</td>\n",
       "      <td>$11,200</td>\n",
       "      <td>1</td>\n",
       "      <td>z_SUV</td>\n",
       "      <td>no</td>\n",
       "      <td>$0</td>\n",
       "      <td>0</td>\n",
       "      <td>No</td>\n",
       "      <td>0</td>\n",
       "      <td>1.0</td>\n",
       "      <td>Highly Urban/ Urban</td>\n",
       "    </tr>\n",
       "    <tr>\n",
       "      <th>9</th>\n",
       "      <td>13</td>\n",
       "      <td>0</td>\n",
       "      <td>0.0</td>\n",
       "      <td>0</td>\n",
       "      <td>50.0</td>\n",
       "      <td>0</td>\n",
       "      <td>7.0</td>\n",
       "      <td>100000.0</td>\n",
       "      <td>No</td>\n",
       "      <td>$0</td>\n",
       "      <td>...</td>\n",
       "      <td>$18,510</td>\n",
       "      <td>7</td>\n",
       "      <td>Van</td>\n",
       "      <td>no</td>\n",
       "      <td>$0</td>\n",
       "      <td>0</td>\n",
       "      <td>No</td>\n",
       "      <td>1</td>\n",
       "      <td>17.0</td>\n",
       "      <td>z_Highly Rural/ Rural</td>\n",
       "    </tr>\n",
       "  </tbody>\n",
       "</table>\n",
       "<p>10 rows × 26 columns</p>\n",
       "</div>"
      ],
      "text/plain": [
       "   INDEX  TARGET_FLAG  TARGET_AMT  KIDSDRIV   AGE  HOMEKIDS   YOJ    INCOME  \\\n",
       "0      1            0         0.0         0  60.0         0  11.0   50000.0   \n",
       "1      2            0         0.0         0  43.0         0  11.0   50000.0   \n",
       "2      4            0         0.0         0  35.0         1  10.0       0.0   \n",
       "3      5            0         0.0         0  51.0         0  14.0       NaN   \n",
       "4      6            0         0.0         0  50.0         0   NaN  100000.0   \n",
       "5      7            1      2946.0         0  34.0         1  12.0  100000.0   \n",
       "6      8            0         0.0         0  54.0         0   NaN       0.0   \n",
       "7     11            1      4021.0         1  37.0         2   NaN  100000.0   \n",
       "8     12            1      2501.0         0  34.0         0  10.0   50000.0   \n",
       "9     13            0         0.0         0  50.0         0   7.0  100000.0   \n",
       "\n",
       "  PARENT1  HOME_VAL  ... BLUEBOOK TIF    CAR_TYPE RED_CAR  OLDCLAIM CLM_FREQ  \\\n",
       "0      No        $0  ...  $14,230  11     Minivan     yes    $4,461        2   \n",
       "1      No  $257,252  ...  $14,940   1     Minivan     yes        $0        0   \n",
       "2      No  $124,191  ...   $4,010   4       z_SUV      no   $38,690        2   \n",
       "3      No  $306,251  ...  $15,440   7     Minivan     yes        $0        0   \n",
       "4      No  $243,925  ...  $18,000   1       z_SUV      no   $19,217        2   \n",
       "5     Yes        $0  ...  $17,430   1  Sports Car      no        $0        0   \n",
       "6      No       NaN  ...   $8,780   1       z_SUV      no        $0        0   \n",
       "7      No  $333,680  ...  $16,970   1         Van     yes    $2,374        1   \n",
       "8      No        $0  ...  $11,200   1       z_SUV      no        $0        0   \n",
       "9      No        $0  ...  $18,510   7         Van      no        $0        0   \n",
       "\n",
       "  REVOKED  MVR_PTS CAR_AGE             URBANICITY  \n",
       "0      No        3    18.0    Highly Urban/ Urban  \n",
       "1      No        0     1.0    Highly Urban/ Urban  \n",
       "2      No        3    10.0    Highly Urban/ Urban  \n",
       "3      No        0     6.0    Highly Urban/ Urban  \n",
       "4     Yes        3    17.0    Highly Urban/ Urban  \n",
       "5      No        0     7.0    Highly Urban/ Urban  \n",
       "6      No        0     1.0    Highly Urban/ Urban  \n",
       "7     Yes       10     7.0    Highly Urban/ Urban  \n",
       "8      No        0     1.0    Highly Urban/ Urban  \n",
       "9      No        1    17.0  z_Highly Rural/ Rural  \n",
       "\n",
       "[10 rows x 26 columns]"
      ]
     },
     "execution_count": 44,
     "metadata": {},
     "output_type": "execute_result"
    }
   ],
   "source": [
    "#Dummy data for test:\n",
    "ExmplData=train[:10].copy()\n",
    "\n",
    "ExmplTransf.transform(ExmplData)"
   ]
  },
  {
   "cell_type": "markdown",
   "id": "b9071b3b",
   "metadata": {},
   "source": [
    "As we can see, the INCOME column of the dataframe now contains float values."
   ]
  },
  {
   "cell_type": "markdown",
   "id": "cd60d3ea",
   "metadata": {},
   "source": [
    "Now that we have a transformer which convert to float the elements of the INCOME column, we can create a Pipeline which tranforms all the numerical attributes:"
   ]
  },
  {
   "cell_type": "code",
   "execution_count": 45,
   "id": "c64a1fe6",
   "metadata": {},
   "outputs": [],
   "source": [
    "from sklearn.pipeline import Pipeline\n",
    "from sklearn.impute import SimpleImputer\n",
    "from sklearn.preprocessing import MinMaxScaler\n",
    "\n",
    "num_pipeline=Pipeline([\n",
    "    ('convert_income', DataframeFunctionTransformer(process_income)),\n",
    "    ('imputer',SimpleImputer(strategy='median')),\n",
    "    ('scaler',MinMaxScaler())\n",
    "\n",
    "])"
   ]
  },
  {
   "cell_type": "markdown",
   "id": "cb444afa",
   "metadata": {},
   "source": [
    "This code is quite self explanatory. We have defined a pipeline made of three transformers: the first one is the `DataFrameFunctionTransformer`, which convert the INCOME column to float values. The second one is the `SimpleImputer` transformer from Scikit Learn, which fills the missing values in the dataframe (in this case, it replaces them with the median value). The third one is the `MinMaxScaler` transformer from Scikit Learn, which rescale all the features bringing their values in the range $[0,1]$.\n",
    "\n",
    "In order to apply the pipeline, let's call the `fit_transform()` method on the dataframe made of numerical attributes:"
   ]
  },
  {
   "cell_type": "code",
   "execution_count": 46,
   "id": "37d9dba0",
   "metadata": {},
   "outputs": [],
   "source": [
    "# Numerical data prepared\n",
    "num_train_tr=num_pipeline.fit_transform(num_train)"
   ]
  },
  {
   "cell_type": "markdown",
   "id": "d0775281",
   "metadata": {},
   "source": [
    "Let's take a look to the transformed dataset (I put it again in the form of a Pandas dataframe, for sake of readibility):"
   ]
  },
  {
   "cell_type": "code",
   "execution_count": 47,
   "id": "1e769982",
   "metadata": {},
   "outputs": [
    {
     "data": {
      "text/html": [
       "<div>\n",
       "<style scoped>\n",
       "    .dataframe tbody tr th:only-of-type {\n",
       "        vertical-align: middle;\n",
       "    }\n",
       "\n",
       "    .dataframe tbody tr th {\n",
       "        vertical-align: top;\n",
       "    }\n",
       "\n",
       "    .dataframe thead th {\n",
       "        text-align: right;\n",
       "    }\n",
       "</style>\n",
       "<table border=\"1\" class=\"dataframe\">\n",
       "  <thead>\n",
       "    <tr style=\"text-align: right;\">\n",
       "      <th></th>\n",
       "      <th>KIDSDRIV</th>\n",
       "      <th>AGE</th>\n",
       "      <th>INCOME</th>\n",
       "      <th>TRAVTIME</th>\n",
       "      <th>TIF</th>\n",
       "      <th>CLM_FREQ</th>\n",
       "      <th>MVR_PTS</th>\n",
       "      <th>CAR_AGE</th>\n",
       "    </tr>\n",
       "  </thead>\n",
       "  <tbody>\n",
       "    <tr>\n",
       "      <th>0</th>\n",
       "      <td>0.00</td>\n",
       "      <td>0.676923</td>\n",
       "      <td>0.25</td>\n",
       "      <td>0.065693</td>\n",
       "      <td>0.416667</td>\n",
       "      <td>0.4</td>\n",
       "      <td>0.230769</td>\n",
       "      <td>0.677419</td>\n",
       "    </tr>\n",
       "    <tr>\n",
       "      <th>1</th>\n",
       "      <td>0.00</td>\n",
       "      <td>0.415385</td>\n",
       "      <td>0.25</td>\n",
       "      <td>0.124088</td>\n",
       "      <td>0.000000</td>\n",
       "      <td>0.0</td>\n",
       "      <td>0.000000</td>\n",
       "      <td>0.129032</td>\n",
       "    </tr>\n",
       "    <tr>\n",
       "      <th>2</th>\n",
       "      <td>0.00</td>\n",
       "      <td>0.292308</td>\n",
       "      <td>0.00</td>\n",
       "      <td>0.000000</td>\n",
       "      <td>0.125000</td>\n",
       "      <td>0.4</td>\n",
       "      <td>0.230769</td>\n",
       "      <td>0.419355</td>\n",
       "    </tr>\n",
       "    <tr>\n",
       "      <th>3</th>\n",
       "      <td>0.00</td>\n",
       "      <td>0.538462</td>\n",
       "      <td>0.25</td>\n",
       "      <td>0.197080</td>\n",
       "      <td>0.250000</td>\n",
       "      <td>0.0</td>\n",
       "      <td>0.000000</td>\n",
       "      <td>0.290323</td>\n",
       "    </tr>\n",
       "    <tr>\n",
       "      <th>4</th>\n",
       "      <td>0.00</td>\n",
       "      <td>0.523077</td>\n",
       "      <td>0.50</td>\n",
       "      <td>0.226277</td>\n",
       "      <td>0.000000</td>\n",
       "      <td>0.4</td>\n",
       "      <td>0.230769</td>\n",
       "      <td>0.645161</td>\n",
       "    </tr>\n",
       "    <tr>\n",
       "      <th>...</th>\n",
       "      <td>...</td>\n",
       "      <td>...</td>\n",
       "      <td>...</td>\n",
       "      <td>...</td>\n",
       "      <td>...</td>\n",
       "      <td>...</td>\n",
       "      <td>...</td>\n",
       "      <td>...</td>\n",
       "    </tr>\n",
       "    <tr>\n",
       "      <th>8156</th>\n",
       "      <td>0.00</td>\n",
       "      <td>0.292308</td>\n",
       "      <td>0.00</td>\n",
       "      <td>0.335766</td>\n",
       "      <td>0.375000</td>\n",
       "      <td>0.0</td>\n",
       "      <td>0.000000</td>\n",
       "      <td>0.354839</td>\n",
       "    </tr>\n",
       "    <tr>\n",
       "      <th>8157</th>\n",
       "      <td>0.25</td>\n",
       "      <td>0.446154</td>\n",
       "      <td>0.75</td>\n",
       "      <td>0.116788</td>\n",
       "      <td>0.583333</td>\n",
       "      <td>0.0</td>\n",
       "      <td>0.153846</td>\n",
       "      <td>0.645161</td>\n",
       "    </tr>\n",
       "    <tr>\n",
       "      <th>8158</th>\n",
       "      <td>0.00</td>\n",
       "      <td>0.461538</td>\n",
       "      <td>0.50</td>\n",
       "      <td>0.226277</td>\n",
       "      <td>0.208333</td>\n",
       "      <td>0.0</td>\n",
       "      <td>0.000000</td>\n",
       "      <td>0.129032</td>\n",
       "    </tr>\n",
       "    <tr>\n",
       "      <th>8159</th>\n",
       "      <td>0.00</td>\n",
       "      <td>0.523077</td>\n",
       "      <td>0.00</td>\n",
       "      <td>0.226277</td>\n",
       "      <td>0.208333</td>\n",
       "      <td>0.0</td>\n",
       "      <td>0.000000</td>\n",
       "      <td>0.451613</td>\n",
       "    </tr>\n",
       "    <tr>\n",
       "      <th>8160</th>\n",
       "      <td>0.00</td>\n",
       "      <td>0.553846</td>\n",
       "      <td>0.25</td>\n",
       "      <td>0.430657</td>\n",
       "      <td>0.208333</td>\n",
       "      <td>0.0</td>\n",
       "      <td>0.000000</td>\n",
       "      <td>0.387097</td>\n",
       "    </tr>\n",
       "  </tbody>\n",
       "</table>\n",
       "<p>8161 rows × 8 columns</p>\n",
       "</div>"
      ],
      "text/plain": [
       "      KIDSDRIV       AGE  INCOME  TRAVTIME       TIF  CLM_FREQ   MVR_PTS  \\\n",
       "0         0.00  0.676923    0.25  0.065693  0.416667       0.4  0.230769   \n",
       "1         0.00  0.415385    0.25  0.124088  0.000000       0.0  0.000000   \n",
       "2         0.00  0.292308    0.00  0.000000  0.125000       0.4  0.230769   \n",
       "3         0.00  0.538462    0.25  0.197080  0.250000       0.0  0.000000   \n",
       "4         0.00  0.523077    0.50  0.226277  0.000000       0.4  0.230769   \n",
       "...        ...       ...     ...       ...       ...       ...       ...   \n",
       "8156      0.00  0.292308    0.00  0.335766  0.375000       0.0  0.000000   \n",
       "8157      0.25  0.446154    0.75  0.116788  0.583333       0.0  0.153846   \n",
       "8158      0.00  0.461538    0.50  0.226277  0.208333       0.0  0.000000   \n",
       "8159      0.00  0.523077    0.00  0.226277  0.208333       0.0  0.000000   \n",
       "8160      0.00  0.553846    0.25  0.430657  0.208333       0.0  0.000000   \n",
       "\n",
       "       CAR_AGE  \n",
       "0     0.677419  \n",
       "1     0.129032  \n",
       "2     0.419355  \n",
       "3     0.290323  \n",
       "4     0.645161  \n",
       "...        ...  \n",
       "8156  0.354839  \n",
       "8157  0.645161  \n",
       "8158  0.129032  \n",
       "8159  0.451613  \n",
       "8160  0.387097  \n",
       "\n",
       "[8161 rows x 8 columns]"
      ]
     },
     "execution_count": 47,
     "metadata": {},
     "output_type": "execute_result"
    }
   ],
   "source": [
    "pd.DataFrame(num_train_tr,columns=num_train.columns)"
   ]
  },
  {
   "cell_type": "markdown",
   "id": "387be812",
   "metadata": {},
   "source": [
    "As we can see, the INCOME column is now formed by float values, all the missing values have been replaced, and all the values of the dataframe now fall in the range $[0,1]$.\n",
    "\n",
    "The numerical datas are now ready to be used in a machine learning algorithm. In the next section, we do the same for the remaining categorical datas."
   ]
  },
  {
   "cell_type": "markdown",
   "id": "5130daf0",
   "metadata": {},
   "source": [
    "#### Pipeline for binary categorical datas\n",
    "\n",
    "Here we want to define a pipeline which prepare the binary categorical features. As we have anticipated, we only want to encode numerically our binary variables. This can be done using the `OrdinalEncoder` transformer of Scikit Learn. \n",
    "\n",
    "Let's show with an exemple how it works. First of all we select a small sample from the PARENT1 column:"
   ]
  },
  {
   "cell_type": "code",
   "execution_count": 48,
   "id": "1e4098b1",
   "metadata": {},
   "outputs": [
    {
     "data": {
      "text/plain": [
       "array([['No'],\n",
       "       ['No'],\n",
       "       ['No'],\n",
       "       ['No'],\n",
       "       ['No'],\n",
       "       ['Yes'],\n",
       "       ['No'],\n",
       "       ['No'],\n",
       "       ['No'],\n",
       "       ['No']], dtype=object)"
      ]
     },
     "execution_count": 48,
     "metadata": {},
     "output_type": "execute_result"
    }
   ],
   "source": [
    "\n",
    "# Create an example with first 10 entries from PARENT1 column\n",
    "ExmplParent1=train['PARENT1'].copy()[:10]\n",
    "\n",
    "# Convert exemple data to numpy array, and reshape them as\n",
    "# column vector\n",
    "ExmplParent1=ExmplParent1.to_numpy().reshape(-1,1)\n",
    "ExmplParent1"
   ]
  },
  {
   "cell_type": "markdown",
   "id": "1dd62816",
   "metadata": {},
   "source": [
    "As we can see, all element of the array but the one at index 5 are equal to 'No'.\n",
    "\n",
    "Then we create an `OrdinalEncoder` object, and we call its `fit_transform()` methods on the exemple array:"
   ]
  },
  {
   "cell_type": "code",
   "execution_count": 49,
   "id": "d793a19c",
   "metadata": {},
   "outputs": [
    {
     "data": {
      "text/plain": [
       "array([[0.],\n",
       "       [0.],\n",
       "       [0.],\n",
       "       [0.],\n",
       "       [0.],\n",
       "       [1.],\n",
       "       [0.],\n",
       "       [0.],\n",
       "       [0.],\n",
       "       [0.]])"
      ]
     },
     "execution_count": 49,
     "metadata": {},
     "output_type": "execute_result"
    }
   ],
   "source": [
    "from sklearn.preprocessing import OrdinalEncoder\n",
    "\n",
    "\n",
    "# Create an OrdinalEncoder object\n",
    "ExmplOrdEnc=OrdinalEncoder()\n",
    "\n",
    "\n",
    "# Call the fit_transform method on the exemple data\n",
    "ExmplOrdEnc.fit_transform(ExmplParent1)"
   ]
  },
  {
   "cell_type": "markdown",
   "id": "f7c983d0",
   "metadata": {},
   "source": [
    "As we can see, all the occurrences of `'No'` have been converted to `0`, while the only occurrence of `Yes` has been converted to `1`.\n",
    "\n",
    "At this point we create a pipeline containing the `OrdinalEncoder` transformer, in order to encode binary categorical attributes as numbers:"
   ]
  },
  {
   "cell_type": "code",
   "execution_count": 50,
   "id": "7abbf53d",
   "metadata": {},
   "outputs": [],
   "source": [
    "\n",
    "\n",
    "bin_pipeline=Pipeline([\n",
    "    ('imputer_for_binary',SimpleImputer(strategy='most_frequent')),\n",
    "    ('ordinal_encoder',OrdinalEncoder())\n",
    "    \n",
    "])"
   ]
  },
  {
   "cell_type": "markdown",
   "id": "f6b6c64d",
   "metadata": {},
   "source": [
    "Since our binary categorical variables do not contain missing values, we could only include in the pipeline an `OrdinalEncoder` transformer. However, we want to be able to use the same pipeline on future datasets, which may contain missing values in the binary categorical variables. Therefore we also added a `SimpleImputer` transformer (in this case, we selected `strategy='most_frequent'`, which means it will replace missing values with the most frequent occurrence).\n",
    "\n",
    "To see how it works, let's call the `fit_transform()` method on the `bin_train` dataset:"
   ]
  },
  {
   "cell_type": "code",
   "execution_count": 51,
   "id": "a5da3430",
   "metadata": {},
   "outputs": [],
   "source": [
    "bin_train_tr=bin_pipeline.fit_transform(bin_train)"
   ]
  },
  {
   "cell_type": "markdown",
   "id": "69851799",
   "metadata": {},
   "source": [
    "Here there is the original `bin_train` dataset:"
   ]
  },
  {
   "cell_type": "code",
   "execution_count": 52,
   "id": "b0971569",
   "metadata": {},
   "outputs": [
    {
     "data": {
      "text/html": [
       "<div>\n",
       "<style scoped>\n",
       "    .dataframe tbody tr th:only-of-type {\n",
       "        vertical-align: middle;\n",
       "    }\n",
       "\n",
       "    .dataframe tbody tr th {\n",
       "        vertical-align: top;\n",
       "    }\n",
       "\n",
       "    .dataframe thead th {\n",
       "        text-align: right;\n",
       "    }\n",
       "</style>\n",
       "<table border=\"1\" class=\"dataframe\">\n",
       "  <thead>\n",
       "    <tr style=\"text-align: right;\">\n",
       "      <th></th>\n",
       "      <th>PARENT1</th>\n",
       "      <th>MSTATUS</th>\n",
       "      <th>CAR_USE</th>\n",
       "      <th>REVOKED</th>\n",
       "      <th>URBANICITY</th>\n",
       "    </tr>\n",
       "  </thead>\n",
       "  <tbody>\n",
       "    <tr>\n",
       "      <th>0</th>\n",
       "      <td>No</td>\n",
       "      <td>z_No</td>\n",
       "      <td>Private</td>\n",
       "      <td>No</td>\n",
       "      <td>Highly Urban/ Urban</td>\n",
       "    </tr>\n",
       "    <tr>\n",
       "      <th>1</th>\n",
       "      <td>No</td>\n",
       "      <td>z_No</td>\n",
       "      <td>Commercial</td>\n",
       "      <td>No</td>\n",
       "      <td>Highly Urban/ Urban</td>\n",
       "    </tr>\n",
       "    <tr>\n",
       "      <th>2</th>\n",
       "      <td>No</td>\n",
       "      <td>Yes</td>\n",
       "      <td>Private</td>\n",
       "      <td>No</td>\n",
       "      <td>Highly Urban/ Urban</td>\n",
       "    </tr>\n",
       "    <tr>\n",
       "      <th>3</th>\n",
       "      <td>No</td>\n",
       "      <td>Yes</td>\n",
       "      <td>Private</td>\n",
       "      <td>No</td>\n",
       "      <td>Highly Urban/ Urban</td>\n",
       "    </tr>\n",
       "    <tr>\n",
       "      <th>4</th>\n",
       "      <td>No</td>\n",
       "      <td>Yes</td>\n",
       "      <td>Private</td>\n",
       "      <td>Yes</td>\n",
       "      <td>Highly Urban/ Urban</td>\n",
       "    </tr>\n",
       "    <tr>\n",
       "      <th>...</th>\n",
       "      <td>...</td>\n",
       "      <td>...</td>\n",
       "      <td>...</td>\n",
       "      <td>...</td>\n",
       "      <td>...</td>\n",
       "    </tr>\n",
       "    <tr>\n",
       "      <th>8156</th>\n",
       "      <td>No</td>\n",
       "      <td>z_No</td>\n",
       "      <td>Commercial</td>\n",
       "      <td>No</td>\n",
       "      <td>z_Highly Rural/ Rural</td>\n",
       "    </tr>\n",
       "    <tr>\n",
       "      <th>8157</th>\n",
       "      <td>No</td>\n",
       "      <td>Yes</td>\n",
       "      <td>Private</td>\n",
       "      <td>No</td>\n",
       "      <td>Highly Urban/ Urban</td>\n",
       "    </tr>\n",
       "    <tr>\n",
       "      <th>8158</th>\n",
       "      <td>No</td>\n",
       "      <td>Yes</td>\n",
       "      <td>Commercial</td>\n",
       "      <td>No</td>\n",
       "      <td>Highly Urban/ Urban</td>\n",
       "    </tr>\n",
       "    <tr>\n",
       "      <th>8159</th>\n",
       "      <td>No</td>\n",
       "      <td>Yes</td>\n",
       "      <td>Private</td>\n",
       "      <td>No</td>\n",
       "      <td>Highly Urban/ Urban</td>\n",
       "    </tr>\n",
       "    <tr>\n",
       "      <th>8160</th>\n",
       "      <td>No</td>\n",
       "      <td>Yes</td>\n",
       "      <td>Private</td>\n",
       "      <td>No</td>\n",
       "      <td>z_Highly Rural/ Rural</td>\n",
       "    </tr>\n",
       "  </tbody>\n",
       "</table>\n",
       "<p>8161 rows × 5 columns</p>\n",
       "</div>"
      ],
      "text/plain": [
       "     PARENT1 MSTATUS     CAR_USE REVOKED             URBANICITY\n",
       "0         No    z_No     Private      No    Highly Urban/ Urban\n",
       "1         No    z_No  Commercial      No    Highly Urban/ Urban\n",
       "2         No     Yes     Private      No    Highly Urban/ Urban\n",
       "3         No     Yes     Private      No    Highly Urban/ Urban\n",
       "4         No     Yes     Private     Yes    Highly Urban/ Urban\n",
       "...      ...     ...         ...     ...                    ...\n",
       "8156      No    z_No  Commercial      No  z_Highly Rural/ Rural\n",
       "8157      No     Yes     Private      No    Highly Urban/ Urban\n",
       "8158      No     Yes  Commercial      No    Highly Urban/ Urban\n",
       "8159      No     Yes     Private      No    Highly Urban/ Urban\n",
       "8160      No     Yes     Private      No  z_Highly Rural/ Rural\n",
       "\n",
       "[8161 rows x 5 columns]"
      ]
     },
     "execution_count": 52,
     "metadata": {},
     "output_type": "execute_result"
    }
   ],
   "source": [
    "bin_train"
   ]
  },
  {
   "cell_type": "markdown",
   "id": "6637de7d",
   "metadata": {},
   "source": [
    "and here its transformed version, `bin_train_tr`:"
   ]
  },
  {
   "cell_type": "code",
   "execution_count": 53,
   "id": "6a9e0bb4",
   "metadata": {},
   "outputs": [
    {
     "data": {
      "text/html": [
       "<div>\n",
       "<style scoped>\n",
       "    .dataframe tbody tr th:only-of-type {\n",
       "        vertical-align: middle;\n",
       "    }\n",
       "\n",
       "    .dataframe tbody tr th {\n",
       "        vertical-align: top;\n",
       "    }\n",
       "\n",
       "    .dataframe thead th {\n",
       "        text-align: right;\n",
       "    }\n",
       "</style>\n",
       "<table border=\"1\" class=\"dataframe\">\n",
       "  <thead>\n",
       "    <tr style=\"text-align: right;\">\n",
       "      <th></th>\n",
       "      <th>PARENT1</th>\n",
       "      <th>MSTATUS</th>\n",
       "      <th>CAR_USE</th>\n",
       "      <th>REVOKED</th>\n",
       "      <th>URBANICITY</th>\n",
       "    </tr>\n",
       "  </thead>\n",
       "  <tbody>\n",
       "    <tr>\n",
       "      <th>0</th>\n",
       "      <td>0.0</td>\n",
       "      <td>1.0</td>\n",
       "      <td>1.0</td>\n",
       "      <td>0.0</td>\n",
       "      <td>0.0</td>\n",
       "    </tr>\n",
       "    <tr>\n",
       "      <th>1</th>\n",
       "      <td>0.0</td>\n",
       "      <td>1.0</td>\n",
       "      <td>0.0</td>\n",
       "      <td>0.0</td>\n",
       "      <td>0.0</td>\n",
       "    </tr>\n",
       "    <tr>\n",
       "      <th>2</th>\n",
       "      <td>0.0</td>\n",
       "      <td>0.0</td>\n",
       "      <td>1.0</td>\n",
       "      <td>0.0</td>\n",
       "      <td>0.0</td>\n",
       "    </tr>\n",
       "    <tr>\n",
       "      <th>3</th>\n",
       "      <td>0.0</td>\n",
       "      <td>0.0</td>\n",
       "      <td>1.0</td>\n",
       "      <td>0.0</td>\n",
       "      <td>0.0</td>\n",
       "    </tr>\n",
       "    <tr>\n",
       "      <th>4</th>\n",
       "      <td>0.0</td>\n",
       "      <td>0.0</td>\n",
       "      <td>1.0</td>\n",
       "      <td>1.0</td>\n",
       "      <td>0.0</td>\n",
       "    </tr>\n",
       "    <tr>\n",
       "      <th>...</th>\n",
       "      <td>...</td>\n",
       "      <td>...</td>\n",
       "      <td>...</td>\n",
       "      <td>...</td>\n",
       "      <td>...</td>\n",
       "    </tr>\n",
       "    <tr>\n",
       "      <th>8156</th>\n",
       "      <td>0.0</td>\n",
       "      <td>1.0</td>\n",
       "      <td>0.0</td>\n",
       "      <td>0.0</td>\n",
       "      <td>1.0</td>\n",
       "    </tr>\n",
       "    <tr>\n",
       "      <th>8157</th>\n",
       "      <td>0.0</td>\n",
       "      <td>0.0</td>\n",
       "      <td>1.0</td>\n",
       "      <td>0.0</td>\n",
       "      <td>0.0</td>\n",
       "    </tr>\n",
       "    <tr>\n",
       "      <th>8158</th>\n",
       "      <td>0.0</td>\n",
       "      <td>0.0</td>\n",
       "      <td>0.0</td>\n",
       "      <td>0.0</td>\n",
       "      <td>0.0</td>\n",
       "    </tr>\n",
       "    <tr>\n",
       "      <th>8159</th>\n",
       "      <td>0.0</td>\n",
       "      <td>0.0</td>\n",
       "      <td>1.0</td>\n",
       "      <td>0.0</td>\n",
       "      <td>0.0</td>\n",
       "    </tr>\n",
       "    <tr>\n",
       "      <th>8160</th>\n",
       "      <td>0.0</td>\n",
       "      <td>0.0</td>\n",
       "      <td>1.0</td>\n",
       "      <td>0.0</td>\n",
       "      <td>1.0</td>\n",
       "    </tr>\n",
       "  </tbody>\n",
       "</table>\n",
       "<p>8161 rows × 5 columns</p>\n",
       "</div>"
      ],
      "text/plain": [
       "      PARENT1  MSTATUS  CAR_USE  REVOKED  URBANICITY\n",
       "0         0.0      1.0      1.0      0.0         0.0\n",
       "1         0.0      1.0      0.0      0.0         0.0\n",
       "2         0.0      0.0      1.0      0.0         0.0\n",
       "3         0.0      0.0      1.0      0.0         0.0\n",
       "4         0.0      0.0      1.0      1.0         0.0\n",
       "...       ...      ...      ...      ...         ...\n",
       "8156      0.0      1.0      0.0      0.0         1.0\n",
       "8157      0.0      0.0      1.0      0.0         0.0\n",
       "8158      0.0      0.0      0.0      0.0         0.0\n",
       "8159      0.0      0.0      1.0      0.0         0.0\n",
       "8160      0.0      0.0      1.0      0.0         1.0\n",
       "\n",
       "[8161 rows x 5 columns]"
      ]
     },
     "execution_count": 53,
     "metadata": {},
     "output_type": "execute_result"
    }
   ],
   "source": [
    "pd.DataFrame(bin_train_tr,columns=bin_train.columns).dropna()"
   ]
  },
  {
   "cell_type": "markdown",
   "id": "364fc1f4",
   "metadata": {},
   "source": [
    "As we can see, the datas are now encoded as `0` and `1`."
   ]
  },
  {
   "cell_type": "markdown",
   "id": "373561ff",
   "metadata": {},
   "source": [
    "#### Categorical attributes\n",
    "\n",
    "Now we want to build a pipeline which takes care of our categorical attributes JOB and EDUCATION. In principle, we may still use an OrdinalEncoder for these two attributes. For exemple:"
   ]
  },
  {
   "cell_type": "code",
   "execution_count": 54,
   "id": "2cf6a3cd",
   "metadata": {},
   "outputs": [
    {
     "data": {
      "text/plain": [
       "array([['Professional'],\n",
       "       ['z_Blue Collar'],\n",
       "       ['Clerical'],\n",
       "       ['z_Blue Collar'],\n",
       "       ['Doctor'],\n",
       "       ['z_Blue Collar'],\n",
       "       ['z_Blue Collar'],\n",
       "       ['z_Blue Collar'],\n",
       "       ['Clerical'],\n",
       "       ['Professional']], dtype=object)"
      ]
     },
     "execution_count": 54,
     "metadata": {},
     "output_type": "execute_result"
    }
   ],
   "source": [
    "# Exemple instances from the JOB column\n",
    "ExmplJob=train['JOB'].copy()[:10]\n",
    "\n",
    "# Convert to array and reshape as column vector\n",
    "ExmplJob=ExmplJob.to_numpy().reshape(-1,1)\n",
    "ExmplJob"
   ]
  },
  {
   "cell_type": "code",
   "execution_count": 55,
   "id": "95ae5e51",
   "metadata": {},
   "outputs": [
    {
     "data": {
      "text/plain": [
       "array([[2.],\n",
       "       [3.],\n",
       "       [0.],\n",
       "       [3.],\n",
       "       [1.],\n",
       "       [3.],\n",
       "       [3.],\n",
       "       [3.],\n",
       "       [0.],\n",
       "       [2.]])"
      ]
     },
     "execution_count": 55,
     "metadata": {},
     "output_type": "execute_result"
    }
   ],
   "source": [
    "# Exemple of OrdinalEncoder\n",
    "ExmplEnc=OrdinalEncoder()\n",
    "\n",
    "# Ordinally encode the exemple instances\n",
    "ExmplJob_tr=ExmplEnc.fit_transform(ExmplJob)\n",
    "ExmplJob_tr"
   ]
  },
  {
   "cell_type": "markdown",
   "id": "659403dd",
   "metadata": {},
   "source": [
    "However, when categorical variables are ordinally encoded, machine learning algorithms may assume that instances encoded as close numbers are in some way more similar than two distant values. This is not always the case, and for this reason it is prefered to use the so called one hot encoding.\n",
    "\n",
    "Basically, for each category of the categorical variable, a binary attribute is created. When an istance fall in a given category, all but the corresponding newly created attribute are equal to zero, and the remaining one is set to 1. This can be easily done with the `OneHotEncoder` transformer from Scikit Learn.\n",
    "\n",
    "We show with an exemple how it works:"
   ]
  },
  {
   "cell_type": "code",
   "execution_count": 56,
   "id": "3b05a7fa",
   "metadata": {},
   "outputs": [
    {
     "data": {
      "text/plain": [
       "array([['Professional'],\n",
       "       ['z_Blue Collar'],\n",
       "       ['Clerical'],\n",
       "       ['z_Blue Collar'],\n",
       "       ['Doctor'],\n",
       "       ['z_Blue Collar'],\n",
       "       ['z_Blue Collar'],\n",
       "       ['z_Blue Collar'],\n",
       "       ['Clerical'],\n",
       "       ['Professional']], dtype=object)"
      ]
     },
     "execution_count": 56,
     "metadata": {},
     "output_type": "execute_result"
    }
   ],
   "source": [
    "# Exemple instances from the JOB column\n",
    "ExmplJob=train['JOB'].copy()[:10]\n",
    "\n",
    "# Convert to array and reshape as column vector\n",
    "ExmplJob=ExmplJob.to_numpy().reshape(-1,1)\n",
    "ExmplJob"
   ]
  },
  {
   "cell_type": "code",
   "execution_count": 57,
   "id": "5d40ca86",
   "metadata": {},
   "outputs": [
    {
     "data": {
      "text/plain": [
       "array([[0., 0., 1., 0.],\n",
       "       [0., 0., 0., 1.],\n",
       "       [1., 0., 0., 0.],\n",
       "       [0., 0., 0., 1.],\n",
       "       [0., 1., 0., 0.],\n",
       "       [0., 0., 0., 1.],\n",
       "       [0., 0., 0., 1.],\n",
       "       [0., 0., 0., 1.],\n",
       "       [1., 0., 0., 0.],\n",
       "       [0., 0., 1., 0.]])"
      ]
     },
     "execution_count": 57,
     "metadata": {},
     "output_type": "execute_result"
    }
   ],
   "source": [
    "from sklearn.preprocessing import OneHotEncoder\n",
    "\n",
    "# An istance of the class OneHotEncoder\n",
    "ExmplEnc=OneHotEncoder()\n",
    "\n",
    "# Encode the exemple datas:\n",
    "ExmplJob_tr=ExmplEnc.fit_transform(ExmplJob)\n",
    "ExmplJob_tr.toarray()"
   ]
  },
  {
   "cell_type": "markdown",
   "id": "21d586dd",
   "metadata": {},
   "source": [
    "As we can see, the exemple datas are now encoded as a matrix made of `0` and `1`. The elements appartaining to the `'Professional'` category are all encoded as `[0.,0.,1.,0.]`, the elements appartaining to the `'z_Blue Collar'` category are all encoded as `[0.,0.,0.,1.]`, and so on.\n",
    "\n",
    "Now we can implement the OneHotEncoder in a pipeline, in order that it takes care of all categorical variables in a single time:"
   ]
  },
  {
   "cell_type": "code",
   "execution_count": 58,
   "id": "b753d5ca",
   "metadata": {},
   "outputs": [],
   "source": [
    "from sklearn.preprocessing import OneHotEncoder\n",
    "\n",
    "\n",
    "cat_pipeline=Pipeline([\n",
    "    ('imputer_for_cat',SimpleImputer(strategy='most_frequent')),\n",
    "    ('OneHotEncoder',OneHotEncoder())\n",
    "])"
   ]
  },
  {
   "cell_type": "markdown",
   "id": "aecdb150",
   "metadata": {},
   "source": [
    "We apply the `fit_transform()` method of the pipeline on the `cat_train` dataset (the one formed only by attributes JOB and EDUCATION):"
   ]
  },
  {
   "cell_type": "code",
   "execution_count": 59,
   "id": "a0e7a61d",
   "metadata": {},
   "outputs": [],
   "source": [
    "cat_train_tr=cat_pipeline.fit_transform(cat_train)"
   ]
  },
  {
   "cell_type": "markdown",
   "id": "d6f04e2e",
   "metadata": {},
   "source": [
    "As we can see, each instance of the dataset `cat_train` has been transformed in a vector containing all `0` but two elements, which corresponds to the categories of the attributes JOB and EDUCATION:"
   ]
  },
  {
   "cell_type": "code",
   "execution_count": 60,
   "id": "bab689c3",
   "metadata": {},
   "outputs": [
    {
     "data": {
      "text/plain": [
       "array([[0., 0., 0., ..., 1., 0., 0.],\n",
       "       [0., 0., 0., ..., 0., 0., 1.],\n",
       "       [0., 0., 0., ..., 0., 0., 0.],\n",
       "       ...,\n",
       "       [0., 0., 1., ..., 0., 0., 1.],\n",
       "       [0., 1., 0., ..., 0., 0., 0.],\n",
       "       [0., 0., 0., ..., 0., 0., 0.]])"
      ]
     },
     "execution_count": 60,
     "metadata": {},
     "output_type": "execute_result"
    }
   ],
   "source": [
    "cat_train_tr.toarray()"
   ]
  },
  {
   "cell_type": "markdown",
   "id": "aeabbd50",
   "metadata": {},
   "source": [
    "### The full pipeline\n",
    "\n",
    "In the previous sections, we have shown how we can build a pipeline for each of the three types of attributes present in our dataset (numerical, binary, categorical).\n",
    "\n",
    "Scikit Learn offers the possibility to put all the pipelines together, in order to apply all the required transformation directly on the full dataset.\n",
    "\n",
    "This can be done using the `ColumnTransformer` class. An istance of the `ColumnTransformer` class must be fed with a list of triples, each of them corresponding to one of the pipelines we have defined in the previous section. The first element of the tuple is a string which identifies the corresponding transformation, the second element is one of the three pipelines defined before, and the third element is a list containing the name of columns on which the current pipeline must act:"
   ]
  },
  {
   "cell_type": "code",
   "execution_count": 61,
   "id": "e5dc5564",
   "metadata": {},
   "outputs": [],
   "source": [
    "from sklearn.compose import ColumnTransformer \n",
    "\n",
    "full_pipeline=ColumnTransformer([\n",
    "    ('num',num_pipeline,num_attribs),\n",
    "    ('bin',bin_pipeline,bin_attribs),\n",
    "    ('cat',OneHotEncoder(),cat_attribs)\n",
    "])"
   ]
  },
  {
   "cell_type": "markdown",
   "id": "35b4fd04",
   "metadata": {},
   "source": [
    "Now the full pipeline has been defined. Similarly to what done before, we can now call the `fit_transform` method of the pipeline on the full dataframe, in order to get the full prepared dataset:"
   ]
  },
  {
   "cell_type": "code",
   "execution_count": 62,
   "id": "4c5b217c",
   "metadata": {},
   "outputs": [],
   "source": [
    "train_tr=full_pipeline.fit_transform(train)"
   ]
  },
  {
   "cell_type": "markdown",
   "id": "512a1d43",
   "metadata": {},
   "source": [
    "And our dataset preparation procedure is concluded! Now the `full_pipeline` transformer allows us to prepare a dataset in just one single command.\n",
    "\n",
    "At the end of this notebook, when we will have a machine learning model trained on our dataset, we will need to prepare the `test` dataset in order to make prediction from it. Instead to prepare it transformin each feature by hand, we will just need to call the `transform()` method of `full_pipeline` on it (one should remark that we will call `transform()` instead of `fit_transform()` : we do not want that the variable of the test dataset are encoded differently than in the training dataset)\n",
    "\n",
    "Now we are ready to train our machine learning model on our dataset."
   ]
  },
  {
   "cell_type": "markdown",
   "id": "75a1aa3b",
   "metadata": {},
   "source": [
    "## Logistic Regression model\n",
    "\n",
    "In this section, I train a simple logistic regression model in order to predict if a policy holder will be involved in a car accident or not.\n",
    "\n",
    "Logistic Regression is a binary classifier in which the probability of an istance $\\mathbf{x}$ to appartain to the positive class $y=1$ is given by:\n",
    "\n",
    "$$ P(y=1|\\mathbf{x}) = \\sigma(\\mathbf{w}^T\\mathbf{x} + b) $$ \n",
    "\n",
    "where $\\mathbf{w}$ is the weights vector having the same dimension of $\\mathbf{x}$, b is a scalar (called intercept, or bias term), and $\\sigma(a)$ is the so called sigmoid function:\n",
    "\n",
    "$$ \\sigma(a) =\\frac{1}{1+exp(-a)}$$\n",
    "\n",
    "The weights vector and the bias term define a hyperplane in the features space ($\\mathbf{w}$ determines the orientation, and $b$ fixes the distance from the origin). Basically, logistic regression assign to one class the instances which are on one side of the hyperplane, and to other class the other ones. For this reason, the hyperplane defined by $\\mathbf{w}$ and $b$ is also called decision bounduary. The equation of this hyperplane is given by: \n",
    "\n",
    "$$ \\mathbf{w}^T\\mathbf{x}+b=0 $$\n",
    "\n",
    "where the quantity $\\mathbf{w}^T\\mathbf{x}+b$ is called *decision function*.\n",
    "\n",
    "Let $\\{\\mathbf{x}_n\\}_n$ be our training datas, and let $\\{y_n\\}_n$ the corrisponding class labels. Training the model means to find the set of weigths $\\mathbf{w}$ and the bias term $b$ which makes the predictions of the model as close as possible to the actual labels. In other words, one has to find the weigths and the bias term which minimise the Negative Log Likelihood ($NLL(\\mathbf{w},b)$):\n",
    "\n",
    "$$ NLL(\\mathbf{w},b) = - \\sum_n \\log{p(y=y_n|\\mathbf{x}_n)} $$\n",
    "\n",
    "\n",
    "\n",
    "All these steps (i.e. creation of the model, training, and prediction) can be done using Scikit Learn. \n",
    "\n",
    "\n",
    "\n",
    "\n",
    "Since in logistic regression the decision bounduary is intrinsecally linear, this model risks to badly perform when instances are distributed across the classes according complex patterns. However, this is the most simple binary classifier, and it is interesting to see how it performs on our datas"
   ]
  },
  {
   "cell_type": "markdown",
   "id": "69434890",
   "metadata": {},
   "source": [
    "We start splitting our dataset in a training dataset and a validation dataset. We do that because we want to evaluate our model (and eventually to tune its parameters) on datas which have not been seen during the training procedure. This will help us to limit the risk of overfit. This can be done using the `train_test_split()` function:"
   ]
  },
  {
   "cell_type": "code",
   "execution_count": 63,
   "id": "6cc470b7",
   "metadata": {},
   "outputs": [],
   "source": [
    "from sklearn.model_selection import train_test_split\n",
    "\n",
    "X_train, X_val, y_train, y_val = train_test_split(train_tr,train_labels,test_size=0.20,random_state=42)"
   ]
  },
  {
   "cell_type": "markdown",
   "id": "8afbe0f0",
   "metadata": {},
   "source": [
    "We create an instance of the `LogisticRegression` class:"
   ]
  },
  {
   "cell_type": "code",
   "execution_count": 64,
   "id": "d1b788af",
   "metadata": {},
   "outputs": [],
   "source": [
    "from sklearn.linear_model import LogisticRegression\n",
    "lr_clf=LogisticRegression()"
   ]
  },
  {
   "cell_type": "markdown",
   "id": "f357d9d3",
   "metadata": {},
   "source": [
    "and we train it on the training set:"
   ]
  },
  {
   "cell_type": "code",
   "execution_count": 65,
   "id": "31605846",
   "metadata": {},
   "outputs": [
    {
     "data": {
      "text/plain": [
       "LogisticRegression()"
      ]
     },
     "execution_count": 65,
     "metadata": {},
     "output_type": "execute_result"
    }
   ],
   "source": [
    "lr_clf.fit(X_train,y_train)\n"
   ]
  },
  {
   "cell_type": "markdown",
   "id": "61d3ac86",
   "metadata": {},
   "source": [
    "Now we have trained our logistic classifier. In order to evaluate it, we want to make prediction on the validation set and confront them with the true labels. We can make predictions using the `predict` method:"
   ]
  },
  {
   "cell_type": "code",
   "execution_count": 66,
   "id": "183abd10",
   "metadata": {},
   "outputs": [],
   "source": [
    "# Predictions on validation set\n",
    "pred_val=lr_clf.predict(X_val)"
   ]
  },
  {
   "cell_type": "markdown",
   "id": "f9674805",
   "metadata": {},
   "source": [
    "Now we are ready how good these predictions are. The most basic measure of performance of a binary classifier is the accuracy, which is defined as the ratio between the correct predictions and the total number of instances:\n",
    "\n",
    "$$ \\text{accuracy} = \\frac{ TN + TP}{TN + TP + FN + FP} $$\n",
    "\n",
    "where TN,TP,FN,FP stand respectively for true negatives, true positives, false negatives, false positives. Clearly, a perfect classifier would classify correctly all the instances, and therefore would have unitary accuracy. The accuracy of the classifier can be calculated via the `score()` method:"
   ]
  },
  {
   "cell_type": "code",
   "execution_count": 67,
   "id": "ac6fee08",
   "metadata": {},
   "outputs": [
    {
     "data": {
      "text/plain": [
       "0.7746478873239436"
      ]
     },
     "execution_count": 67,
     "metadata": {},
     "output_type": "execute_result"
    }
   ],
   "source": [
    "lr_clf.score(X_val,y_val)"
   ]
  },
  {
   "cell_type": "markdown",
   "id": "7c3bcb6e",
   "metadata": {},
   "source": [
    "Here we see that our classifier has an accuracy of $\\sim77\\%$, which may seems a good value. However, when the datas are very umbalanced (i.e. when one class is much more common than the other, as it's the case in our problem), accuracy is not the best measure of the classifier's performance. Let's assume to have a dataset with 99 negative instances and just one positive instance, and let's suppose to have a dumb classifier which attributes all the instances to the negative class. This classifier would clearly be a bad classifier (i.e. it would be totally unable to recognise positive instances), and despite of that it would achieve an accuracy of $99\\%$.\n",
    "\n",
    "When datas are skewed, as it is our case, a much better measure of performance is given by the confusion matrix, which is defined as:\n",
    "\n",
    "$$ \\text{confusion matrix}=\\left ( \\begin{matrix} TN & FP \\\\ FN & TP \\end{matrix} \\right )$$\n",
    "\n",
    "The confusion matrix can be calculated using the `confusion_matrix()` function:"
   ]
  },
  {
   "cell_type": "code",
   "execution_count": 68,
   "id": "43ef449e",
   "metadata": {},
   "outputs": [
    {
     "name": "stdout",
     "output_type": "stream",
     "text": [
      "Total instances of validation set: 1633\n",
      "Negative instances in validation set: 1189\n",
      "Positive instances in validation set: 444\n"
     ]
    },
    {
     "data": {
      "text/plain": [
       "array([[1110,   79],\n",
       "       [ 289,  155]])"
      ]
     },
     "execution_count": 68,
     "metadata": {},
     "output_type": "execute_result"
    }
   ],
   "source": [
    "from sklearn.metrics import confusion_matrix\n",
    "print('Total instances of validation set: %d'% y_val.count() )\n",
    "print('Negative instances in validation set: %d'% (y_val.count()- y_val.sum()) )\n",
    "print('Positive instances in validation set: %d'% y_val.sum())\n",
    "\n",
    "# Print the confusion matrix\n",
    "confusion_matrix(y_val,pred_val)"
   ]
  },
  {
   "cell_type": "markdown",
   "id": "c6c052a3",
   "metadata": {},
   "source": [
    "As we can see, the number of false negatives (289) is much larger than the number of true positives (155), which means that most of the positive instances are uncorrectly classified. Even worst, we see that the total number of instances classified as positives (i.e. the sum of false positives and true positives): \n",
    "\n",
    "$$ TP + FP = 234 $$ \n",
    "\n",
    "is almost the half of the total number of positive instances. **This is a big issue for an insurance company** beacuse it means that the number of accident will be underestimated of almost $50\\%$. As a consequence, at the end of the year (assuming for sake of simplicity that each accident cost the same amount of money) the company will have to pay almost the double than our model predicted.\n",
    "\n",
    "This shows how, despite having an high accuracy, our model does not perform very well."
   ]
  },
  {
   "cell_type": "markdown",
   "id": "a17da5bd",
   "metadata": {},
   "source": [
    "The confusion matrix contains a lot of information, but sometimes it is preferable to use a metric that condenses all these information in just one number. This is the reason because of we define the precision:\n",
    "\n",
    "$$ \\text{precision} = \\frac{TP}{TP + FP} $$\n",
    "\n",
    "and the recall:\n",
    "\n",
    "$$\\text{recall} = \\frac{TP}{TP+FN}$$\n",
    "\n",
    "The precision represent the probability that an instance is positive *knowing that it has been classified as positive*. The recall represents the probability that an instance is classified as positive *knowing that it is positive*. We can calculate recall and precision using the functions `precision_score()` and `recall_score()`:"
   ]
  },
  {
   "cell_type": "code",
   "execution_count": 69,
   "id": "e783ea4e",
   "metadata": {},
   "outputs": [
    {
     "name": "stdout",
     "output_type": "stream",
     "text": [
      "Precision=0.662393\n",
      "Recall=0.349099\n"
     ]
    }
   ],
   "source": [
    "from sklearn.metrics import precision_score,recall_score\n",
    "# Calculate precision of our classifier\n",
    "precision_val=precision_score(y_val,pred_val)\n",
    "\n",
    "# Calculate recall of our classifier\n",
    "recall_val=recall_score(y_val,pred_val)\n",
    "\n",
    "# Print results:\n",
    "print('Precision=%f'% precision_val)\n",
    "print('Recall=%f'% recall_val)"
   ]
  },
  {
   "cell_type": "markdown",
   "id": "e5ef9a4a",
   "metadata": {},
   "source": [
    "As we can see, our classifier has a precision of around $\\sim 0.66$, while it has a recall of $\\sim 0.35$. An high precision means that if an instance is classified as positive, there are high chances that it is really positive. An high recall, on the other hand, means that if an instance is positive, it is likely that the classifier will correctly recognise it as positive. \n",
    "\n",
    "In terms of our insurance problem, an high precision, means that the policy holders which have been classified as unsafe, are probably actual unsafe drivers. On the other hand, an high recall means that if a policy holder is an unsafe driver, it is probable that the classifier will correctly classify him as an unsafe driver.\n",
    "\n",
    "Precision and recall taken alone do not allow to assess the goodness of the classifier. With reference to our insurance problem, an high precision would tell us that most of the policy holders classified as unsafe drivers are really unsafe drivers (i.e., very low number of false positives), but does not tell us anything about all the policy drivers which have erroneously been classified as safe (i.e. about the number of false negatives). We may be in the case where most of the users classified as dangerous are actually dangerous, *but most of the dangerous users are not classified as dangerous*. An high recall, on the other hand, would tell us that most of the dangerous drivers have been correctly classified as unsafe, but there is still the possibility that many safe drivers have been classified as unsafe as well.\n",
    "\n",
    "In the case of an insurance company, it is of mandatory importance to correctly assess the number of accidents, because this quantity is directly related to the amount of money that the insurance will pay to its policy holders. If we underestimate the number of accidents occurring to the policy holders, the policies will be probably underpriced, and at the end of the year the company will have to pay much more money than expected. Of course we want to avoid that.\n",
    "\n",
    "In term of our machine learning model, in other words, we want to increase the recall as much as possible, in order to be sure to correctly individuate (almost) all the unsafe policy holders (and therefore to not underestimate the number of accidents).   \n",
    "\n",
    "A way to increase the recall is to decrease the threshold on the basis of which the decision function decide wether the users are safe or unsafe. If I reduce this threshold (which by default is set to zero) the number of false positives will increases, but the number of false negatives will decreases, leading therefore to an improvement of the recall. Let's see how it can be done. We can access the decision function with the `decision_function()` method:"
   ]
  },
  {
   "cell_type": "code",
   "execution_count": 70,
   "id": "31fc1553",
   "metadata": {},
   "outputs": [
    {
     "name": "stdout",
     "output_type": "stream",
     "text": [
      "decision function max value=2.265135\n",
      "decision function min value=-4.999617\n"
     ]
    }
   ],
   "source": [
    "# Evaluate the decision function for each \n",
    "# instance of the validation set:\n",
    "dec_func_val=lr_clf.decision_function(X_val)\n",
    "\n",
    "# Print max and min values:\n",
    "print('decision function max value=%f'% dec_func_val.max() )\n",
    "print('decision function min value=%f'% dec_func_val.min() )\n",
    "\n"
   ]
  },
  {
   "cell_type": "markdown",
   "id": "0ef7d0bf",
   "metadata": {},
   "source": [
    "As we can see, the maximum value that the decision function assume on the validation set is around 2.26, while the minimum value is -4.99 \n",
    "\n",
    "By default, all instances on which decision function assume a positive value are classified as positive class (unsafe driver), and all the instances for which the decision function assume a negative value are attributed to the negative class (safe driver). In other words, by default, the threshold is zero. Let's now try decrease a bit the threshold, taking for exemple `threshold=-1`"
   ]
  },
  {
   "cell_type": "code",
   "execution_count": 71,
   "id": "aedf32fe",
   "metadata": {},
   "outputs": [
    {
     "data": {
      "text/plain": [
       "array([False, False, False, ...,  True,  True, False])"
      ]
     },
     "execution_count": 71,
     "metadata": {},
     "output_type": "execute_result"
    }
   ],
   "source": [
    "# Set the threshold\n",
    "threshold=-1\n",
    "\n",
    "# Assign the instance for which decision function is greater than threshold\n",
    "# to the positive class\n",
    "pred_with_thrsld=(dec_func_val>=threshold)\n",
    "pred_with_thrsld"
   ]
  },
  {
   "cell_type": "markdown",
   "id": "a43d4dbe",
   "metadata": {},
   "source": [
    "As a result we have a boolean array, where `True` corresponds to the instances classified as positive, and `False` correspond to the instances classified as negative (Scikit-Learn is indifferently able to treat labels encoded as `int` and `bool`). Let's now calculate the precision and the recall on the predictions made with the new threshold:"
   ]
  },
  {
   "cell_type": "code",
   "execution_count": 72,
   "id": "97fc5d42",
   "metadata": {},
   "outputs": [
    {
     "name": "stdout",
     "output_type": "stream",
     "text": [
      "Precision with threshold=0.493130\n",
      "Recall with threshold=0.727477\n"
     ]
    }
   ],
   "source": [
    "# Evaluate precision\n",
    "precision_thrsld=precision_score(y_val,pred_with_thrsld)\n",
    "# Evaluate recall\n",
    "recall_thrsld=recall_score(y_val,pred_with_thrsld)\n",
    "\n",
    "# Print recall and precision:\n",
    "print('Precision with threshold=%f'%precision_thrsld)\n",
    "print('Recall with threshold=%f'%recall_thrsld)\n"
   ]
  },
  {
   "cell_type": "markdown",
   "id": "274df2f6",
   "metadata": {},
   "source": [
    "As expected, the recall has increased. Now our model has the $73\\%$ of probability to correctly classify an unsafe driver! However, it comes at a price. Lowering the threshold implies to increase the number of false positives, which means that the precision will decrease. In other words, it is true that most of the unsafe drivers are now correctly classified, but half of the policy holders classified as unsafe are actually safe drivers.\n",
    "\n",
    "On one hand, we may think that this is not a big deal: after all, if we are able to correctly individuate all the unsafe drivers, it does not matter that much if we also misclassify many safe drivers. Better overestimate the number of accidents than underestimate it. On the other hand, an insurance company cannot afford a too low precision neither: if many safe drivers are erroneously classified as unsafe, their policy cost will increase, and they may think to search another company to have their car insured.\n",
    "\n",
    "In other words, we need to search for a precision/recall trade-off. We can have an idea of how it can be done taking a look to the confusion matrix:"
   ]
  },
  {
   "cell_type": "code",
   "execution_count": 73,
   "id": "2817e6c6",
   "metadata": {},
   "outputs": [
    {
     "name": "stdout",
     "output_type": "stream",
     "text": [
      "[[857 332]\n",
      " [121 323]]\n"
     ]
    }
   ],
   "source": [
    "conf_mat_thrsld=confusion_matrix(y_val,pred_with_thrsld)\n",
    "print(conf_mat_thrsld)"
   ]
  },
  {
   "cell_type": "markdown",
   "id": "2b74d540",
   "metadata": {},
   "source": [
    "As expected, the number of false negatives is now lesser than the number of true positives (that's why we have a greater recall. However, we also see that the total number of instances classified as positives (i.e. false positives + true positives) is actually greater than the total number of positive instances:\n",
    "\n",
    "$$ TP + FP = 323 + 332 = 655 \\gt 444 = 323 + 121 = TP + FN $$\n",
    "\n",
    "This means that **we are actually overestimating the number of total accidents**. \n",
    "\n",
    "This suggests a strategy to find a trade-off between precision and recall: we may search for a threshold such that the total number of predicted accidents (including false positives) is equal to the number of total accidents (including false negatives). We will obtain a lower recall than the one found using `threshold=-1`, and therefore we will identify less unsafe drivers, but we will obtain also an higher precision, and we will misclassify a bit less of safe drivers. Moreover, we will still able to predict the correct number of accidents, which means that (more or less) we will be able to give a correct estimation of the amount of money to be paid to the policy holders.\n",
    "\n",
    "In order to do that, we can use the `precision_recall_curve()` function. This function, takes as input the labels and the decision function evaluated on a given dataset, and return the precision and the recalls calculated for several values of the threshold:"
   ]
  },
  {
   "cell_type": "code",
   "execution_count": 74,
   "id": "9a32b62f",
   "metadata": {},
   "outputs": [],
   "source": [
    "from sklearn.metrics import precision_recall_curve\n",
    "\n",
    "# Calculate precisions, recalls, and thresholds\n",
    "precisions, recalls, thresholds= precision_recall_curve(y_val,dec_func_val)"
   ]
  },
  {
   "cell_type": "markdown",
   "id": "5148d9a1",
   "metadata": {},
   "source": [
    "We want to find the threshold for which the total number of driver classified as unsafe is equal to the number of unsafe drivers:\n",
    "\n",
    "$$ TP + FP = TP + FN $$\n",
    "\n",
    "which is equivalent to impose that:\n",
    "\n",
    "$$ \\frac{TP + FP}{TP + FN} = 1 $$\n",
    "\n",
    "This problem can be easily reformulated in terms of precision and recall. Using the definitions given above, we see that:\n",
    "\n",
    "$$ \\frac{TP + FP}{TP + FN} = \\text{recall} + \\frac{FP}{TP + FN}$$\n",
    "\n",
    "Moreover, using the definition of precision, we have that:\n",
    "\n",
    "$$ \\frac{FP}{TP} = \\frac{1-\\text{precision}}{\\text{precision}} $$\n",
    "\n",
    "Therefore, the problem:\n",
    "\n",
    "$$ \\frac{TP + FP}{TP + FN} = 1 $$\n",
    "\n",
    "becomes equivalent to:\n",
    "\n",
    "$$ \\text{recall} + \\frac{1-\\text{precision}}{\\text{precision}}\\cdot \\text{recall} =1 $$\n",
    "\n",
    "which can be easily solved with the following code:"
   ]
  },
  {
   "cell_type": "code",
   "execution_count": 75,
   "id": "c0cc30e5",
   "metadata": {},
   "outputs": [
    {
     "name": "stdout",
     "output_type": "stream",
     "text": [
      "Target threshold=-0.541927\n"
     ]
    },
    {
     "data": {
      "image/png": "[encoded data removed]",
      "text/plain": [
       "<Figure size 432x288 with 1 Axes>"
      ]
     },
     "metadata": {
      "needs_background": "light"
     },
     "output_type": "display_data"
    }
   ],
   "source": [
    "# Define the target function\n",
    "\n",
    "TargetFun=recalls + ( (1-precisions)/precisions)*recalls\n",
    "TargetFun=TargetFun[:-1]\n",
    "\n",
    "# Plot the function:\n",
    "plt.plot(thresholds,TargetFun)\n",
    "plt.hlines(1,-4,3,'k','--',linewidth=0.7)\n",
    "plt.xlabel('threshold')\n",
    "\n",
    "# Find the index for which the Target function is closest to 1\n",
    "idx=np.abs(TargetFun-1).argmin()\n",
    "\n",
    "# Find the threshold for which number of predicted accidents\n",
    "# is equal to the actual number of accidents\n",
    "TargetThresld=thresholds[idx]\n",
    "print('Target threshold=%f'% TargetThresld)"
   ]
  },
  {
   "cell_type": "markdown",
   "id": "22ec44ff",
   "metadata": {},
   "source": [
    "As we can see calculating the confusion matrix using the newly found threshold:"
   ]
  },
  {
   "cell_type": "code",
   "execution_count": 76,
   "id": "a6a5a383",
   "metadata": {},
   "outputs": [
    {
     "data": {
      "text/plain": [
       "array([[998, 191],\n",
       "       [191, 253]])"
      ]
     },
     "execution_count": 76,
     "metadata": {},
     "output_type": "execute_result"
    }
   ],
   "source": [
    "confusion_matrix(y_val, (dec_func_val>=TargetThresld))"
   ]
  },
  {
   "cell_type": "markdown",
   "id": "ad2e204c",
   "metadata": {},
   "source": [
    "The number of false positives is now equal to the number of false negatives, and therefore the number of predicted accidents equals the actual number of accidents.\n",
    "\n",
    "So, to recap the results of this section: I build a logistic regression classifier, and I trained it on the training dataset. Then, I evaluated it on the validation dataset. I discussed several metrics to evaluate the  performance of the classifier, and I proposed a way to find a trade-off between precision and recall.\n",
    "\n",
    "However, how we have seen, the model is still performing quite poorly. This may be due to the linear nature of the logistic regression, which makes this algorithm unable to identify complex patterns in the space of features. In next section, I test a non-linear model in order to overcome this difficulty."
   ]
  },
  {
   "cell_type": "markdown",
   "id": "91c66a27",
   "metadata": {},
   "source": [
    "## Multilayer Perceptron Classifier"
   ]
  },
  {
   "cell_type": "markdown",
   "id": "52578e9c",
   "metadata": {},
   "source": [
    "In the previous section I built a logistic regression classifier which estimates the probability that a given policy holder will have an accident or not. However, as we have discussed, logistic regression is a linear model, and therefore it is not able to detect complex patterns in the feature space.\n",
    "\n",
    "For this reason, in this section, we build and train a neural network, which are a powerful instrument able to detect nonlinear patterns in datas.\n",
    "\n",
    "\n",
    "Neural networks can be built and trained using the `tensorflow` library:"
   ]
  },
  {
   "cell_type": "code",
   "execution_count": 77,
   "id": "5502b530",
   "metadata": {},
   "outputs": [],
   "source": [
    "import tensorflow as tf\n",
    "from tensorflow import keras"
   ]
  },
  {
   "cell_type": "markdown",
   "id": "67dd859f",
   "metadata": {},
   "source": [
    "We still use the training and the validation set defined in the previous section. Contrarily to Scikit Learn, tensorflow is not able to take as input Pandas series, and therefore we convert them to numpy array before to use them:"
   ]
  },
  {
   "cell_type": "code",
   "execution_count": 78,
   "id": "975769ee",
   "metadata": {},
   "outputs": [],
   "source": [
    "y_train=y_train.to_numpy()\n",
    "y_val=y_val.to_numpy()"
   ]
  },
  {
   "cell_type": "markdown",
   "id": "2a819cc7",
   "metadata": {},
   "source": [
    "We start testing a simple neural network made of just one layer with 50 hidden units. A multilayer perceptron can be built using the `Sequential()` API from keras, which takes as input a list of `layer` objects: "
   ]
  },
  {
   "cell_type": "code",
   "execution_count": 79,
   "id": "aeeb7f47",
   "metadata": {},
   "outputs": [],
   "source": [
    "mlp_clf_1l=keras.models.Sequential([\n",
    "    keras.layers.Dense(50,activation='relu',input_shape=X_train.shape[1:]),\n",
    "\n",
    "    keras.layers.Dense(1,activation='sigmoid')\n",
    "])"
   ]
  },
  {
   "cell_type": "markdown",
   "id": "0ee77d32",
   "metadata": {},
   "source": [
    "This code is quite self-explanatory: first of all, we add a first hidden layer, which contains 50 hidden units, each of them having the ReLU activation function. Then, we add an output layer made of just a single neuron, having the sigmoid function as activation. We chose the sigmoid for the output because it returns a probability (exactly as the logistic regression does): the output of the neural network will be the probability that a given instance appartains to the positive class.\n",
    "\n",
    "Then, using the `compile()` method, we specify the loss function, the optimizer used to search the minimum of the loss function, and the other metrics that we want to calculate during the training."
   ]
  },
  {
   "cell_type": "code",
   "execution_count": 80,
   "id": "b302a308",
   "metadata": {},
   "outputs": [],
   "source": [
    "mlp_clf_1l.compile(loss='binary_crossentropy',optimizer='adam',metrics=['accuracy','Recall'])"
   ]
  },
  {
   "cell_type": "markdown",
   "id": "7a9fbdc6",
   "metadata": {},
   "source": [
    "As loss function, we use the binary crossentropy (which is the same loss function of logistic regression, and which is the standard choice for binary classification problems), as optimizer we use the Adam, and as metrics we use the accuracy and the recall, which have been previously defined.\n",
    "\n",
    "\n",
    "Finally, using the `fit()` method, we train our single-layer perceptron on the training set. We feed this function with the validation set, so that at each epoch the loss, the accuracy, and the recall will be also evaluated on the validation set. The details of the training procedure are saved in the `history_1l`. This object contain a `history` attribute, where are stored the loss, accuracy and recall at each step of the optimization procedure."
   ]
  },
  {
   "cell_type": "code",
   "execution_count": 81,
   "id": "e2ab25a9",
   "metadata": {
    "scrolled": true
   },
   "outputs": [
    {
     "name": "stdout",
     "output_type": "stream",
     "text": [
      "Train on 6528 samples, validate on 1633 samples\n",
      "Epoch 1/100\n",
      "6528/6528 [==============================] - 5s 842us/sample - loss: 0.5443 - accuracy: 0.7284 - Recall: 0.0655 - val_loss: 0.4954 - val_accuracy: 0.7526 - val_Recall: 0.1599\n",
      "Epoch 2/100\n",
      "6528/6528 [==============================] - 2s 347us/sample - loss: 0.4740 - accuracy: 0.7707 - Recall: 0.2680 - val_loss: 0.4730 - val_accuracy: 0.7746 - val_Recall: 0.3514\n",
      "Epoch 3/100\n",
      "6528/6528 [==============================] - 2s 308us/sample - loss: 0.4635 - accuracy: 0.7747 - Recall: 0.3470 - val_loss: 0.4702 - val_accuracy: 0.7759 - val_Recall: 0.4167\n",
      "Epoch 4/100\n",
      "6528/6528 [==============================] - 1s 155us/sample - loss: 0.4608 - accuracy: 0.7786 - Recall: 0.3768 - val_loss: 0.4683 - val_accuracy: 0.7753 - val_Recall: 0.3536\n",
      "Epoch 5/100\n",
      "6528/6528 [==============================] - 1s 130us/sample - loss: 0.4587 - accuracy: 0.7823 - Recall: 0.3768 - val_loss: 0.4666 - val_accuracy: 0.7734 - val_Recall: 0.3694\n",
      "Epoch 6/100\n",
      "6528/6528 [==============================] - 1s 131us/sample - loss: 0.4573 - accuracy: 0.7822 - Recall: 0.3856 - val_loss: 0.4658 - val_accuracy: 0.7722 - val_Recall: 0.3694\n",
      "Epoch 7/100\n",
      "6528/6528 [==============================] - 1s 142us/sample - loss: 0.4555 - accuracy: 0.7872 - Recall: 0.4049 - val_loss: 0.4652 - val_accuracy: 0.7777 - val_Recall: 0.4347\n",
      "Epoch 8/100\n",
      "6528/6528 [==============================] - 1s 141us/sample - loss: 0.4548 - accuracy: 0.7835 - Recall: 0.4002 - val_loss: 0.4644 - val_accuracy: 0.7746 - val_Recall: 0.3716\n",
      "Epoch 9/100\n",
      "6528/6528 [==============================] - 1s 133us/sample - loss: 0.4532 - accuracy: 0.7849 - Recall: 0.4026 - val_loss: 0.4662 - val_accuracy: 0.7753 - val_Recall: 0.3401\n",
      "Epoch 10/100\n",
      "6528/6528 [==============================] - 1s 124us/sample - loss: 0.4522 - accuracy: 0.7869 - Recall: 0.3938 - val_loss: 0.4664 - val_accuracy: 0.7783 - val_Recall: 0.4595\n",
      "Epoch 11/100\n",
      "6528/6528 [==============================] - 1s 124us/sample - loss: 0.4519 - accuracy: 0.7869 - Recall: 0.4114 - val_loss: 0.4660 - val_accuracy: 0.7722 - val_Recall: 0.3896\n",
      "Epoch 12/100\n",
      "6528/6528 [==============================] - 1s 122us/sample - loss: 0.4501 - accuracy: 0.7852 - Recall: 0.4032 - val_loss: 0.4681 - val_accuracy: 0.7728 - val_Recall: 0.3198\n",
      "Epoch 13/100\n",
      "6528/6528 [==============================] - 1s 122us/sample - loss: 0.4494 - accuracy: 0.7860 - Recall: 0.4084 - val_loss: 0.4641 - val_accuracy: 0.7716 - val_Recall: 0.3851\n",
      "Epoch 14/100\n",
      "6528/6528 [==============================] - 1s 121us/sample - loss: 0.4486 - accuracy: 0.7891 - Recall: 0.4178 - val_loss: 0.4649 - val_accuracy: 0.7753 - val_Recall: 0.3964\n",
      "Epoch 15/100\n",
      "6528/6528 [==============================] - 1s 123us/sample - loss: 0.4478 - accuracy: 0.7881 - Recall: 0.4178 - val_loss: 0.4653 - val_accuracy: 0.7746 - val_Recall: 0.3784\n",
      "Epoch 16/100\n",
      "6528/6528 [==============================] - 1s 123us/sample - loss: 0.4478 - accuracy: 0.7875 - Recall: 0.4143 - val_loss: 0.4677 - val_accuracy: 0.7759 - val_Recall: 0.3536\n",
      "Epoch 17/100\n",
      "6528/6528 [==============================] - 1s 124us/sample - loss: 0.4465 - accuracy: 0.7900 - Recall: 0.4242 - val_loss: 0.4664 - val_accuracy: 0.7740 - val_Recall: 0.3761\n",
      "Epoch 18/100\n",
      "6528/6528 [==============================] - 1s 124us/sample - loss: 0.4454 - accuracy: 0.7911 - Recall: 0.4231 - val_loss: 0.4657 - val_accuracy: 0.7771 - val_Recall: 0.3671\n",
      "Epoch 19/100\n",
      "6528/6528 [==============================] - 1s 122us/sample - loss: 0.4451 - accuracy: 0.7903 - Recall: 0.4242 - val_loss: 0.4656 - val_accuracy: 0.7734 - val_Recall: 0.3649\n",
      "Epoch 20/100\n",
      "6528/6528 [==============================] - 1s 120us/sample - loss: 0.4446 - accuracy: 0.7888 - Recall: 0.4143 - val_loss: 0.4665 - val_accuracy: 0.7746 - val_Recall: 0.3514\n",
      "Epoch 21/100\n",
      "6528/6528 [==============================] - 1s 124us/sample - loss: 0.4435 - accuracy: 0.7888 - Recall: 0.4219 - val_loss: 0.4659 - val_accuracy: 0.7746 - val_Recall: 0.3604\n",
      "Epoch 22/100\n",
      "6528/6528 [==============================] - 1s 131us/sample - loss: 0.4425 - accuracy: 0.7892 - Recall: 0.4254 - val_loss: 0.4707 - val_accuracy: 0.7734 - val_Recall: 0.3243\n",
      "Epoch 23/100\n",
      "6528/6528 [==============================] - 1s 124us/sample - loss: 0.4426 - accuracy: 0.7883 - Recall: 0.4184 - val_loss: 0.4658 - val_accuracy: 0.7728 - val_Recall: 0.3694\n",
      "Epoch 24/100\n",
      "6528/6528 [==============================] - 1s 120us/sample - loss: 0.4423 - accuracy: 0.7932 - Recall: 0.4219 - val_loss: 0.4647 - val_accuracy: 0.7746 - val_Recall: 0.4257\n",
      "Epoch 25/100\n",
      "6528/6528 [==============================] - 1s 124us/sample - loss: 0.4407 - accuracy: 0.7926 - Recall: 0.4348 - val_loss: 0.4647 - val_accuracy: 0.7771 - val_Recall: 0.4054\n",
      "Epoch 26/100\n",
      "6528/6528 [==============================] - 1s 124us/sample - loss: 0.4399 - accuracy: 0.7926 - Recall: 0.4295 - val_loss: 0.4662 - val_accuracy: 0.7740 - val_Recall: 0.3896\n",
      "Epoch 27/100\n",
      "6528/6528 [==============================] - 1s 123us/sample - loss: 0.4396 - accuracy: 0.7937 - Recall: 0.4272 - val_loss: 0.4652 - val_accuracy: 0.7753 - val_Recall: 0.3716\n",
      "Epoch 28/100\n",
      "6528/6528 [==============================] - 1s 124us/sample - loss: 0.4385 - accuracy: 0.7915 - Recall: 0.4283 - val_loss: 0.4690 - val_accuracy: 0.7716 - val_Recall: 0.3378\n",
      "Epoch 29/100\n",
      "6528/6528 [==============================] - 1s 131us/sample - loss: 0.4381 - accuracy: 0.7947 - Recall: 0.4277 - val_loss: 0.4653 - val_accuracy: 0.7759 - val_Recall: 0.4189\n",
      "Epoch 30/100\n",
      "6528/6528 [==============================] - 1s 121us/sample - loss: 0.4376 - accuracy: 0.7937 - Recall: 0.4248 - val_loss: 0.4654 - val_accuracy: 0.7740 - val_Recall: 0.4077\n",
      "Epoch 31/100\n",
      "6528/6528 [==============================] - 1s 123us/sample - loss: 0.4365 - accuracy: 0.7960 - Recall: 0.4342 - val_loss: 0.4680 - val_accuracy: 0.7771 - val_Recall: 0.4662\n",
      "Epoch 32/100\n",
      "6528/6528 [==============================] - 1s 123us/sample - loss: 0.4360 - accuracy: 0.7952 - Recall: 0.4394 - val_loss: 0.4669 - val_accuracy: 0.7722 - val_Recall: 0.4189\n",
      "Epoch 33/100\n",
      "6528/6528 [==============================] - 1s 124us/sample - loss: 0.4358 - accuracy: 0.7946 - Recall: 0.4359 - val_loss: 0.4659 - val_accuracy: 0.7777 - val_Recall: 0.3941\n",
      "Epoch 34/100\n",
      "6528/6528 [==============================] - 1s 125us/sample - loss: 0.4346 - accuracy: 0.7944 - Recall: 0.4353 - val_loss: 0.4667 - val_accuracy: 0.7740 - val_Recall: 0.3739\n",
      "Epoch 35/100\n",
      "6528/6528 [==============================] - 1s 128us/sample - loss: 0.4339 - accuracy: 0.7976 - Recall: 0.4459 - val_loss: 0.4685 - val_accuracy: 0.7753 - val_Recall: 0.3671\n",
      "Epoch 36/100\n",
      "6528/6528 [==============================] - 1s 124us/sample - loss: 0.4339 - accuracy: 0.7947 - Recall: 0.4324 - val_loss: 0.4709 - val_accuracy: 0.7691 - val_Recall: 0.3311\n",
      "Epoch 37/100\n",
      "6528/6528 [==============================] - 1s 126us/sample - loss: 0.4327 - accuracy: 0.7975 - Recall: 0.4359 - val_loss: 0.4669 - val_accuracy: 0.7783 - val_Recall: 0.3986\n",
      "Epoch 38/100\n",
      "6528/6528 [==============================] - 1s 126us/sample - loss: 0.4330 - accuracy: 0.7981 - Recall: 0.4424 - val_loss: 0.4694 - val_accuracy: 0.7691 - val_Recall: 0.3378\n",
      "Epoch 39/100\n",
      "6528/6528 [==============================] - 1s 127us/sample - loss: 0.4320 - accuracy: 0.7964 - Recall: 0.4289 - val_loss: 0.4688 - val_accuracy: 0.7783 - val_Recall: 0.4077\n",
      "Epoch 40/100\n",
      "6528/6528 [==============================] - 1s 129us/sample - loss: 0.4316 - accuracy: 0.7967 - Recall: 0.4400 - val_loss: 0.4686 - val_accuracy: 0.7759 - val_Recall: 0.3784\n",
      "Epoch 41/100\n",
      "6528/6528 [==============================] - 1s 129us/sample - loss: 0.4309 - accuracy: 0.7981 - Recall: 0.4476 - val_loss: 0.4678 - val_accuracy: 0.7716 - val_Recall: 0.3851\n",
      "Epoch 42/100\n",
      "6528/6528 [==============================] - 1s 131us/sample - loss: 0.4301 - accuracy: 0.7998 - Recall: 0.4482 - val_loss: 0.4681 - val_accuracy: 0.7777 - val_Recall: 0.4054\n",
      "Epoch 43/100\n",
      "6528/6528 [==============================] - 1s 132us/sample - loss: 0.4294 - accuracy: 0.7999 - Recall: 0.4429 - val_loss: 0.4699 - val_accuracy: 0.7777 - val_Recall: 0.3739\n",
      "Epoch 44/100\n"
     ]
    },
    {
     "name": "stdout",
     "output_type": "stream",
     "text": [
      "6528/6528 [==============================] - 1s 122us/sample - loss: 0.4289 - accuracy: 0.7995 - Recall: 0.4494 - val_loss: 0.4677 - val_accuracy: 0.7783 - val_Recall: 0.4234\n",
      "Epoch 45/100\n",
      "6528/6528 [==============================] - 1s 122us/sample - loss: 0.4285 - accuracy: 0.7973 - Recall: 0.4441 - val_loss: 0.4698 - val_accuracy: 0.7753 - val_Recall: 0.3716\n",
      "Epoch 46/100\n",
      "6528/6528 [==============================] - 1s 123us/sample - loss: 0.4272 - accuracy: 0.7984 - Recall: 0.4383 - val_loss: 0.4717 - val_accuracy: 0.7777 - val_Recall: 0.3896\n",
      "Epoch 47/100\n",
      "6528/6528 [==============================] - 1s 123us/sample - loss: 0.4273 - accuracy: 0.7984 - Recall: 0.4470 - val_loss: 0.4697 - val_accuracy: 0.7740 - val_Recall: 0.3851\n",
      "Epoch 48/100\n",
      "6528/6528 [==============================] - 1s 121us/sample - loss: 0.4268 - accuracy: 0.7995 - Recall: 0.4429 - val_loss: 0.4710 - val_accuracy: 0.7771 - val_Recall: 0.3896\n",
      "Epoch 49/100\n",
      "6528/6528 [==============================] - 1s 131us/sample - loss: 0.4266 - accuracy: 0.8018 - Recall: 0.4599 - val_loss: 0.4678 - val_accuracy: 0.7802 - val_Recall: 0.4234\n",
      "Epoch 50/100\n",
      "6528/6528 [==============================] - 1s 123us/sample - loss: 0.4260 - accuracy: 0.8016 - Recall: 0.4506 - val_loss: 0.4693 - val_accuracy: 0.7753 - val_Recall: 0.3829\n",
      "Epoch 51/100\n",
      "6528/6528 [==============================] - 1s 122us/sample - loss: 0.4262 - accuracy: 0.7989 - Recall: 0.4494 - val_loss: 0.4713 - val_accuracy: 0.7753 - val_Recall: 0.3761\n",
      "Epoch 52/100\n",
      "6528/6528 [==============================] - 1s 165us/sample - loss: 0.4257 - accuracy: 0.7996 - Recall: 0.4547 - val_loss: 0.4706 - val_accuracy: 0.7753 - val_Recall: 0.3896\n",
      "Epoch 53/100\n",
      "6528/6528 [==============================] - 1s 182us/sample - loss: 0.4240 - accuracy: 0.8021 - Recall: 0.4523 - val_loss: 0.4716 - val_accuracy: 0.7697 - val_Recall: 0.3649\n",
      "Epoch 54/100\n",
      "6528/6528 [==============================] - 1s 138us/sample - loss: 0.4237 - accuracy: 0.8018 - Recall: 0.4470 - val_loss: 0.4692 - val_accuracy: 0.7753 - val_Recall: 0.4257\n",
      "Epoch 55/100\n",
      "6528/6528 [==============================] - 1s 131us/sample - loss: 0.4228 - accuracy: 0.8047 - Recall: 0.4722 - val_loss: 0.4739 - val_accuracy: 0.7716 - val_Recall: 0.3626\n",
      "Epoch 56/100\n",
      "6528/6528 [==============================] - 1s 125us/sample - loss: 0.4236 - accuracy: 0.8004 - Recall: 0.4523 - val_loss: 0.4734 - val_accuracy: 0.7710 - val_Recall: 0.3671\n",
      "Epoch 57/100\n",
      "6528/6528 [==============================] - 1s 150us/sample - loss: 0.4223 - accuracy: 0.8045 - Recall: 0.4587 - val_loss: 0.4742 - val_accuracy: 0.7734 - val_Recall: 0.3829\n",
      "Epoch 58/100\n",
      "6528/6528 [==============================] - 2s 379us/sample - loss: 0.4230 - accuracy: 0.8055 - Recall: 0.4611 - val_loss: 0.4713 - val_accuracy: 0.7740 - val_Recall: 0.3829\n",
      "Epoch 59/100\n",
      "6528/6528 [==============================] - 1s 146us/sample - loss: 0.4210 - accuracy: 0.8044 - Recall: 0.4564 - val_loss: 0.4721 - val_accuracy: 0.7734 - val_Recall: 0.4347\n",
      "Epoch 60/100\n",
      "6528/6528 [==============================] - 2s 286us/sample - loss: 0.4205 - accuracy: 0.8068 - Recall: 0.4745 - val_loss: 0.4735 - val_accuracy: 0.7710 - val_Recall: 0.4077\n",
      "Epoch 61/100\n",
      "6528/6528 [==============================] - 2s 249us/sample - loss: 0.4202 - accuracy: 0.8047 - Recall: 0.4652 - val_loss: 0.4766 - val_accuracy: 0.7661 - val_Recall: 0.3311\n",
      "Epoch 62/100\n",
      "6528/6528 [==============================] - 1s 111us/sample - loss: 0.4200 - accuracy: 0.8035 - Recall: 0.4564 - val_loss: 0.4711 - val_accuracy: 0.7759 - val_Recall: 0.4212\n",
      "Epoch 63/100\n",
      "6528/6528 [==============================] - 1s 111us/sample - loss: 0.4200 - accuracy: 0.8042 - Recall: 0.4576 - val_loss: 0.4737 - val_accuracy: 0.7746 - val_Recall: 0.3986\n",
      "Epoch 64/100\n",
      "6528/6528 [==============================] - 1s 110us/sample - loss: 0.4195 - accuracy: 0.8062 - Recall: 0.4705 - val_loss: 0.4727 - val_accuracy: 0.7740 - val_Recall: 0.4189\n",
      "Epoch 65/100\n",
      "6528/6528 [==============================] - 1s 110us/sample - loss: 0.4187 - accuracy: 0.8076 - Recall: 0.4675 - val_loss: 0.4731 - val_accuracy: 0.7746 - val_Recall: 0.4550\n",
      "Epoch 66/100\n",
      "6528/6528 [==============================] - 1s 112us/sample - loss: 0.4183 - accuracy: 0.8078 - Recall: 0.4775 - val_loss: 0.4807 - val_accuracy: 0.7685 - val_Recall: 0.3311\n",
      "Epoch 67/100\n",
      "6528/6528 [==============================] - 1s 115us/sample - loss: 0.4190 - accuracy: 0.8061 - Recall: 0.4605 - val_loss: 0.4720 - val_accuracy: 0.7734 - val_Recall: 0.3874\n",
      "Epoch 68/100\n",
      "6528/6528 [==============================] - 1s 118us/sample - loss: 0.4178 - accuracy: 0.8064 - Recall: 0.4652 - val_loss: 0.4732 - val_accuracy: 0.7722 - val_Recall: 0.4009\n",
      "Epoch 69/100\n",
      "6528/6528 [==============================] - 1s 115us/sample - loss: 0.4166 - accuracy: 0.8064 - Recall: 0.4687 - val_loss: 0.4772 - val_accuracy: 0.7704 - val_Recall: 0.3874\n",
      "Epoch 70/100\n",
      "6528/6528 [==============================] - 1s 115us/sample - loss: 0.4167 - accuracy: 0.8079 - Recall: 0.4705 - val_loss: 0.4756 - val_accuracy: 0.7722 - val_Recall: 0.3919\n",
      "Epoch 71/100\n",
      "6528/6528 [==============================] - 1s 112us/sample - loss: 0.4161 - accuracy: 0.8056 - Recall: 0.4681 - val_loss: 0.4763 - val_accuracy: 0.7716 - val_Recall: 0.3874\n",
      "Epoch 72/100\n",
      "6528/6528 [==============================] - 1s 110us/sample - loss: 0.4166 - accuracy: 0.8079 - Recall: 0.4728 - val_loss: 0.4768 - val_accuracy: 0.7746 - val_Recall: 0.3829\n",
      "Epoch 73/100\n",
      "6528/6528 [==============================] - 1s 117us/sample - loss: 0.4155 - accuracy: 0.8071 - Recall: 0.4716 - val_loss: 0.4765 - val_accuracy: 0.7753 - val_Recall: 0.3896\n",
      "Epoch 74/100\n",
      "6528/6528 [==============================] - 1s 123us/sample - loss: 0.4152 - accuracy: 0.8061 - Recall: 0.4775 - val_loss: 0.4748 - val_accuracy: 0.7734 - val_Recall: 0.4189\n",
      "Epoch 75/100\n",
      "6528/6528 [==============================] - 1s 144us/sample - loss: 0.4147 - accuracy: 0.8058 - Recall: 0.4728 - val_loss: 0.4750 - val_accuracy: 0.7746 - val_Recall: 0.4099\n",
      "Epoch 76/100\n",
      "6528/6528 [==============================] - 1s 141us/sample - loss: 0.4144 - accuracy: 0.8081 - Recall: 0.4722 - val_loss: 0.4744 - val_accuracy: 0.7722 - val_Recall: 0.4144\n",
      "Epoch 77/100\n",
      "6528/6528 [==============================] - 1s 120us/sample - loss: 0.4138 - accuracy: 0.8102 - Recall: 0.4693 - val_loss: 0.4772 - val_accuracy: 0.7722 - val_Recall: 0.4279\n",
      "Epoch 78/100\n",
      "6528/6528 [==============================] - 1s 116us/sample - loss: 0.4146 - accuracy: 0.8088 - Recall: 0.4786 - val_loss: 0.4771 - val_accuracy: 0.7740 - val_Recall: 0.4054\n",
      "Epoch 79/100\n",
      "6528/6528 [==============================] - 1s 114us/sample - loss: 0.4131 - accuracy: 0.8076 - Recall: 0.4786 - val_loss: 0.4767 - val_accuracy: 0.7759 - val_Recall: 0.3986\n",
      "Epoch 80/100\n",
      "6528/6528 [==============================] - 1s 115us/sample - loss: 0.4131 - accuracy: 0.8099 - Recall: 0.4833 - val_loss: 0.4805 - val_accuracy: 0.7704 - val_Recall: 0.3851\n",
      "Epoch 81/100\n",
      "6528/6528 [==============================] - 1s 115us/sample - loss: 0.4131 - accuracy: 0.8071 - Recall: 0.4705 - val_loss: 0.4756 - val_accuracy: 0.7728 - val_Recall: 0.4550\n",
      "Epoch 82/100\n",
      "6528/6528 [==============================] - 1s 133us/sample - loss: 0.4115 - accuracy: 0.8087 - Recall: 0.4740 - val_loss: 0.4795 - val_accuracy: 0.7704 - val_Recall: 0.3761\n",
      "Epoch 83/100\n",
      "6528/6528 [==============================] - 1s 117us/sample - loss: 0.4120 - accuracy: 0.8093 - Recall: 0.4792 - val_loss: 0.4769 - val_accuracy: 0.7746 - val_Recall: 0.4054\n",
      "Epoch 84/100\n",
      "6528/6528 [==============================] - 1s 111us/sample - loss: 0.4124 - accuracy: 0.8130 - Recall: 0.4845 - val_loss: 0.4754 - val_accuracy: 0.7697 - val_Recall: 0.4302\n",
      "Epoch 85/100\n",
      "6528/6528 [==============================] - 1s 113us/sample - loss: 0.4112 - accuracy: 0.8116 - Recall: 0.4862 - val_loss: 0.4775 - val_accuracy: 0.7691 - val_Recall: 0.4437\n",
      "Epoch 86/100\n",
      "6528/6528 [==============================] - 1s 114us/sample - loss: 0.4116 - accuracy: 0.8090 - Recall: 0.4827 - val_loss: 0.4782 - val_accuracy: 0.7722 - val_Recall: 0.4122\n",
      "Epoch 87/100\n",
      "6528/6528 [==============================] - 1s 117us/sample - loss: 0.4107 - accuracy: 0.8114 - Recall: 0.4827 - val_loss: 0.4785 - val_accuracy: 0.7802 - val_Recall: 0.4617\n"
     ]
    },
    {
     "name": "stdout",
     "output_type": "stream",
     "text": [
      "Epoch 88/100\n",
      "6528/6528 [==============================] - 1s 110us/sample - loss: 0.4116 - accuracy: 0.8062 - Recall: 0.4693 - val_loss: 0.4801 - val_accuracy: 0.7783 - val_Recall: 0.4054\n",
      "Epoch 89/100\n",
      "6528/6528 [==============================] - 1s 122us/sample - loss: 0.4098 - accuracy: 0.8104 - Recall: 0.4862 - val_loss: 0.4830 - val_accuracy: 0.7740 - val_Recall: 0.3784\n",
      "Epoch 90/100\n",
      "6528/6528 [==============================] - 1s 110us/sample - loss: 0.4095 - accuracy: 0.8139 - Recall: 0.4886 - val_loss: 0.4798 - val_accuracy: 0.7697 - val_Recall: 0.4347\n",
      "Epoch 91/100\n",
      "6528/6528 [==============================] - 1s 111us/sample - loss: 0.4101 - accuracy: 0.8127 - Recall: 0.4997 - val_loss: 0.4813 - val_accuracy: 0.7716 - val_Recall: 0.3964\n",
      "Epoch 92/100\n",
      "6528/6528 [==============================] - 1s 115us/sample - loss: 0.4092 - accuracy: 0.8099 - Recall: 0.4827 - val_loss: 0.4841 - val_accuracy: 0.7710 - val_Recall: 0.3784\n",
      "Epoch 93/100\n",
      "6528/6528 [==============================] - 1s 112us/sample - loss: 0.4096 - accuracy: 0.8116 - Recall: 0.4862 - val_loss: 0.4832 - val_accuracy: 0.7667 - val_Recall: 0.3761\n",
      "Epoch 94/100\n",
      "6528/6528 [==============================] - 1s 112us/sample - loss: 0.4082 - accuracy: 0.8133 - Recall: 0.4944 - val_loss: 0.4817 - val_accuracy: 0.7667 - val_Recall: 0.3536\n",
      "Epoch 95/100\n",
      "6528/6528 [==============================] - 1s 112us/sample - loss: 0.4083 - accuracy: 0.8163 - Recall: 0.4939 - val_loss: 0.4822 - val_accuracy: 0.7722 - val_Recall: 0.3919\n",
      "Epoch 96/100\n",
      "6528/6528 [==============================] - 1s 113us/sample - loss: 0.4086 - accuracy: 0.8111 - Recall: 0.4862 - val_loss: 0.4806 - val_accuracy: 0.7740 - val_Recall: 0.4550\n",
      "Epoch 97/100\n",
      "6528/6528 [==============================] - 1s 110us/sample - loss: 0.4081 - accuracy: 0.8104 - Recall: 0.4775 - val_loss: 0.4812 - val_accuracy: 0.7734 - val_Recall: 0.4752\n",
      "Epoch 98/100\n",
      "6528/6528 [==============================] - 1s 109us/sample - loss: 0.4073 - accuracy: 0.8134 - Recall: 0.5032 - val_loss: 0.4811 - val_accuracy: 0.7734 - val_Recall: 0.4640\n",
      "Epoch 99/100\n",
      "6528/6528 [==============================] - 1s 109us/sample - loss: 0.4072 - accuracy: 0.8128 - Recall: 0.4939 - val_loss: 0.4821 - val_accuracy: 0.7704 - val_Recall: 0.4505\n",
      "Epoch 100/100\n",
      "6528/6528 [==============================] - 1s 112us/sample - loss: 0.4070 - accuracy: 0.8127 - Recall: 0.4839 - val_loss: 0.4814 - val_accuracy: 0.7685 - val_Recall: 0.4414\n"
     ]
    }
   ],
   "source": [
    "history_1l=mlp_clf_1l.fit(X_train,y_train,epochs=100,validation_data=(X_val,y_val))"
   ]
  },
  {
   "cell_type": "markdown",
   "id": "65a87e09",
   "metadata": {},
   "source": [
    "Here we plot the metrics evaluated at each step of the training procedure on both the training and the validation set:"
   ]
  },
  {
   "cell_type": "code",
   "execution_count": 82,
   "id": "27db8852",
   "metadata": {},
   "outputs": [
    {
     "data": {
      "text/plain": [
       "Text(0, 0.5, 'Recall')"
      ]
     },
     "execution_count": 82,
     "metadata": {},
     "output_type": "execute_result"
    },
    {
     "data": {
      "image/png": "[encoded data removed]",
      "text/plain": [
       "<Figure size 576x360 with 1 Axes>"
      ]
     },
     "metadata": {
      "needs_background": "light"
     },
     "output_type": "display_data"
    },
    {
     "data": {
      "image/png": "[encoded data removed]",
      "text/plain": [
       "<Figure size 576x360 with 1 Axes>"
      ]
     },
     "metadata": {
      "needs_background": "light"
     },
     "output_type": "display_data"
    },
    {
     "data": {
      "image/png": "[encoded data removed]",
      "text/plain": [
       "<Figure size 576x360 with 1 Axes>"
      ]
     },
     "metadata": {
      "needs_background": "light"
     },
     "output_type": "display_data"
    }
   ],
   "source": [
    "pd.DataFrame({ keys: history_1l.history[keys] for keys in ['loss','val_loss']}).plot(figsize=(8,5))\n",
    "plt.grid(True)\n",
    "plt.ylim(0,1)\n",
    "plt.ylabel('Loss')\n",
    "\n",
    "pd.DataFrame({ keys: history_1l.history[keys] for keys in ['accuracy','val_accuracy']}).plot(figsize=(8,5))\n",
    "plt.grid(True)\n",
    "plt.ylim(0,1)\n",
    "plt.ylabel('Accuracy')\n",
    "\n",
    "pd.DataFrame({ keys: history_1l.history[keys] for keys in ['Recall','val_Recall']}).plot(figsize=(8,5))\n",
    "plt.grid(True)\n",
    "plt.ylim(0,1)\n",
    "plt.ylabel('Recall')"
   ]
  },
  {
   "cell_type": "markdown",
   "id": "ca1586fd",
   "metadata": {},
   "source": [
    "As we can see, the loss evaluated on the validation set is sligthly greater than the loss evaluated on the training set, while the accuracy and the recall on the validation set are slightly lower. This is expected, because the algorithm does not see the validation data during the training. However, the difference is not that big, which means that we are not overfitting too much over the training set."
   ]
  },
  {
   "cell_type": "markdown",
   "id": "73a06c7b",
   "metadata": {},
   "source": [
    "We may now want compare the logistic classifier defined before to the single layer multilayer perceptron that we just trained. A good way to do that is to draw the precision-recall curve on the validation set for both the classifiers. The classifier with the curve closer to the top right corner of the plot will be the better one, because it means that, for fixed precision, it has a better recall. The precision recall curve can be drawn using the `precision_recall_curve()` function:"
   ]
  },
  {
   "cell_type": "code",
   "execution_count": 83,
   "id": "8b52e5fd",
   "metadata": {},
   "outputs": [
    {
     "data": {
      "text/plain": [
       "<matplotlib.legend.Legend at 0x7f88e93eb550>"
      ]
     },
     "execution_count": 83,
     "metadata": {},
     "output_type": "execute_result"
    },
    {
     "data": {
      "image/png": "[encoded data removed]",
      "text/plain": [
       "<Figure size 432x288 with 1 Axes>"
      ]
     },
     "metadata": {
      "needs_background": "light"
     },
     "output_type": "display_data"
    }
   ],
   "source": [
    "# Get precision and recall for logistic classifier\n",
    "precision_lr,recall_lr,thrsld_lr=precision_recall_curve(y_val,lr_clf.decision_function(X_val))\n",
    "\n",
    "# Get precision and recall for 1-layer mlp\n",
    "precision_mlp_1l,recall_mlp_1l,thrsld_mlp_1l=precision_recall_curve(y_val,(mlp_clf_1l.predict(X_val)+0.001) )\n",
    "\n",
    "# Plot the curves\n",
    "plt.plot(precision_lr,recall_lr, label='LR')\n",
    "plt.plot(precision_mlp_1l,recall_mlp_1l,label='mlp 1l')\n",
    "plt.xlabel('Precision')\n",
    "plt.ylabel('Recall')\n",
    "plt.legend()"
   ]
  },
  {
   "cell_type": "markdown",
   "id": "1d22b123",
   "metadata": {},
   "source": [
    "As we can see, there is apparently not a huge difference in performance between the logistic regressor and the multilayer perceptron. Maybe it depends on the fact that our network is too shallow and/or it does not contain enough parameters to correctly capture the non linear nature of the datas. In order to check this, we try to build and train a network with one more layer."
   ]
  },
  {
   "cell_type": "markdown",
   "id": "caad36a7",
   "metadata": {},
   "source": [
    "We build a network as the one of before, but we add one more hidden layer formed by 30 units:"
   ]
  },
  {
   "cell_type": "code",
   "execution_count": 84,
   "id": "26536015",
   "metadata": {},
   "outputs": [],
   "source": [
    "mlp_clf_2l=keras.models.Sequential([\n",
    "    keras.layers.Dense(50,activation='relu',input_shape=X_train.shape[1:]),\n",
    "    keras.layers.Dense(30,activation='relu'),\n",
    "\n",
    "\n",
    "\n",
    "    keras.layers.Dense(1,activation='sigmoid')\n",
    "])"
   ]
  },
  {
   "cell_type": "markdown",
   "id": "ddc9eeb8",
   "metadata": {},
   "source": [
    "And we compile and fit as done before:"
   ]
  },
  {
   "cell_type": "code",
   "execution_count": 85,
   "id": "6fba1036",
   "metadata": {},
   "outputs": [],
   "source": [
    "mlp_clf_2l.compile(loss='binary_crossentropy',optimizer='adam',metrics=['accuracy','Recall'])"
   ]
  },
  {
   "cell_type": "code",
   "execution_count": 86,
   "id": "b5c1cab9",
   "metadata": {
    "scrolled": true
   },
   "outputs": [
    {
     "name": "stdout",
     "output_type": "stream",
     "text": [
      "Train on 6528 samples, validate on 1633 samples\n",
      "Epoch 1/100\n",
      "6528/6528 [==============================] - 2s 374us/sample - loss: 0.5393 - accuracy: 0.7364 - Recall: 0.1047 - val_loss: 0.4842 - val_accuracy: 0.7655 - val_Recall: 0.3446\n",
      "Epoch 2/100\n",
      "6528/6528 [==============================] - 1s 125us/sample - loss: 0.4712 - accuracy: 0.7763 - Recall: 0.3552 - val_loss: 0.4713 - val_accuracy: 0.7722 - val_Recall: 0.3874\n",
      "Epoch 3/100\n",
      "6528/6528 [==============================] - 1s 126us/sample - loss: 0.4648 - accuracy: 0.7760 - Recall: 0.3950 - val_loss: 0.4748 - val_accuracy: 0.7697 - val_Recall: 0.3176\n",
      "Epoch 4/100\n",
      "6528/6528 [==============================] - 1s 126us/sample - loss: 0.4595 - accuracy: 0.7843 - Recall: 0.4102 - val_loss: 0.4685 - val_accuracy: 0.7740 - val_Recall: 0.3468\n",
      "Epoch 5/100\n",
      "6528/6528 [==============================] - 1s 126us/sample - loss: 0.4569 - accuracy: 0.7811 - Recall: 0.4108 - val_loss: 0.4648 - val_accuracy: 0.7832 - val_Recall: 0.4324\n",
      "Epoch 6/100\n",
      "6528/6528 [==============================] - 1s 122us/sample - loss: 0.4545 - accuracy: 0.7848 - Recall: 0.4096 - val_loss: 0.4668 - val_accuracy: 0.7808 - val_Recall: 0.3986\n",
      "Epoch 7/100\n",
      "6528/6528 [==============================] - 1s 126us/sample - loss: 0.4517 - accuracy: 0.7855 - Recall: 0.4301 - val_loss: 0.4659 - val_accuracy: 0.7789 - val_Recall: 0.4099\n",
      "Epoch 8/100\n",
      "6528/6528 [==============================] - 1s 193us/sample - loss: 0.4493 - accuracy: 0.7819 - Recall: 0.4178 - val_loss: 0.4664 - val_accuracy: 0.7710 - val_Recall: 0.3491\n",
      "Epoch 9/100\n",
      "6528/6528 [==============================] - 1s 140us/sample - loss: 0.4472 - accuracy: 0.7883 - Recall: 0.4137 - val_loss: 0.4705 - val_accuracy: 0.7710 - val_Recall: 0.5225\n",
      "Epoch 10/100\n",
      "6528/6528 [==============================] - 2s 232us/sample - loss: 0.4466 - accuracy: 0.7871 - Recall: 0.4312 - val_loss: 0.4655 - val_accuracy: 0.7777 - val_Recall: 0.4212\n",
      "Epoch 11/100\n",
      "6528/6528 [==============================] - 2s 294us/sample - loss: 0.4432 - accuracy: 0.7903 - Recall: 0.4307 - val_loss: 0.4640 - val_accuracy: 0.7789 - val_Recall: 0.4392\n",
      "Epoch 12/100\n",
      "6528/6528 [==============================] - 1s 152us/sample - loss: 0.4418 - accuracy: 0.7872 - Recall: 0.4289 - val_loss: 0.4675 - val_accuracy: 0.7704 - val_Recall: 0.4662\n",
      "Epoch 13/100\n",
      "6528/6528 [==============================] - 2s 294us/sample - loss: 0.4389 - accuracy: 0.7955 - Recall: 0.4476 - val_loss: 0.4681 - val_accuracy: 0.7697 - val_Recall: 0.4685\n",
      "Epoch 14/100\n",
      "6528/6528 [==============================] - 1s 217us/sample - loss: 0.4381 - accuracy: 0.7923 - Recall: 0.4394 - val_loss: 0.4697 - val_accuracy: 0.7753 - val_Recall: 0.3649\n",
      "Epoch 15/100\n",
      "6528/6528 [==============================] - 1s 151us/sample - loss: 0.4365 - accuracy: 0.7907 - Recall: 0.4301 - val_loss: 0.4667 - val_accuracy: 0.7679 - val_Recall: 0.4302\n",
      "Epoch 16/100\n",
      "6528/6528 [==============================] - 1s 187us/sample - loss: 0.4342 - accuracy: 0.7961 - Recall: 0.4476 - val_loss: 0.4680 - val_accuracy: 0.7734 - val_Recall: 0.3896\n",
      "Epoch 17/100\n",
      "6528/6528 [==============================] - 1s 150us/sample - loss: 0.4327 - accuracy: 0.7914 - Recall: 0.4359 - val_loss: 0.4718 - val_accuracy: 0.7697 - val_Recall: 0.3986\n",
      "Epoch 18/100\n",
      "6528/6528 [==============================] - 1s 157us/sample - loss: 0.4306 - accuracy: 0.7946 - Recall: 0.4365 - val_loss: 0.4709 - val_accuracy: 0.7655 - val_Recall: 0.4257\n",
      "Epoch 19/100\n",
      "6528/6528 [==============================] - 1s 137us/sample - loss: 0.4301 - accuracy: 0.7960 - Recall: 0.4547 - val_loss: 0.4797 - val_accuracy: 0.7673 - val_Recall: 0.3356\n",
      "Epoch 20/100\n",
      "6528/6528 [==============================] - 1s 134us/sample - loss: 0.4281 - accuracy: 0.7961 - Recall: 0.4394 - val_loss: 0.4714 - val_accuracy: 0.7673 - val_Recall: 0.4054\n",
      "Epoch 21/100\n",
      "6528/6528 [==============================] - 1s 138us/sample - loss: 0.4253 - accuracy: 0.7986 - Recall: 0.4570 - val_loss: 0.4714 - val_accuracy: 0.7642 - val_Recall: 0.4414\n",
      "Epoch 22/100\n",
      "6528/6528 [==============================] - 1s 135us/sample - loss: 0.4248 - accuracy: 0.7999 - Recall: 0.4523 - val_loss: 0.4762 - val_accuracy: 0.7704 - val_Recall: 0.3559\n",
      "Epoch 23/100\n",
      "6528/6528 [==============================] - 1s 136us/sample - loss: 0.4227 - accuracy: 0.7999 - Recall: 0.4716 - val_loss: 0.4843 - val_accuracy: 0.7697 - val_Recall: 0.3153\n",
      "Epoch 24/100\n",
      "6528/6528 [==============================] - 1s 134us/sample - loss: 0.4225 - accuracy: 0.8012 - Recall: 0.4552 - val_loss: 0.4806 - val_accuracy: 0.7679 - val_Recall: 0.4009\n",
      "Epoch 25/100\n",
      "6528/6528 [==============================] - 1s 134us/sample - loss: 0.4195 - accuracy: 0.8033 - Recall: 0.4710 - val_loss: 0.4756 - val_accuracy: 0.7630 - val_Recall: 0.3784\n",
      "Epoch 26/100\n",
      "6528/6528 [==============================] - 1s 148us/sample - loss: 0.4176 - accuracy: 0.8022 - Recall: 0.4646 - val_loss: 0.4865 - val_accuracy: 0.7661 - val_Recall: 0.3198\n",
      "Epoch 27/100\n",
      "6528/6528 [==============================] - 1s 136us/sample - loss: 0.4180 - accuracy: 0.8041 - Recall: 0.4617 - val_loss: 0.4774 - val_accuracy: 0.7642 - val_Recall: 0.4167\n",
      "Epoch 28/100\n",
      "6528/6528 [==============================] - 1s 139us/sample - loss: 0.4172 - accuracy: 0.8039 - Recall: 0.4658 - val_loss: 0.4803 - val_accuracy: 0.7600 - val_Recall: 0.3559\n",
      "Epoch 29/100\n",
      "6528/6528 [==============================] - 1s 142us/sample - loss: 0.4147 - accuracy: 0.8051 - Recall: 0.4628 - val_loss: 0.4811 - val_accuracy: 0.7648 - val_Recall: 0.4257\n",
      "Epoch 30/100\n",
      "6528/6528 [==============================] - 1s 136us/sample - loss: 0.4132 - accuracy: 0.8079 - Recall: 0.4857 - val_loss: 0.4809 - val_accuracy: 0.7618 - val_Recall: 0.4279\n",
      "Epoch 31/100\n",
      "6528/6528 [==============================] - 1s 137us/sample - loss: 0.4113 - accuracy: 0.8087 - Recall: 0.4786 - val_loss: 0.4799 - val_accuracy: 0.7636 - val_Recall: 0.4392\n",
      "Epoch 32/100\n",
      "6528/6528 [==============================] - 1s 142us/sample - loss: 0.4123 - accuracy: 0.8048 - Recall: 0.4810 - val_loss: 0.4780 - val_accuracy: 0.7618 - val_Recall: 0.4099\n",
      "Epoch 33/100\n",
      "6528/6528 [==============================] - 1s 141us/sample - loss: 0.4092 - accuracy: 0.8070 - Recall: 0.4716 - val_loss: 0.4790 - val_accuracy: 0.7648 - val_Recall: 0.4414\n",
      "Epoch 34/100\n",
      "6528/6528 [==============================] - 1s 143us/sample - loss: 0.4082 - accuracy: 0.8061 - Recall: 0.4833 - val_loss: 0.4794 - val_accuracy: 0.7697 - val_Recall: 0.4550\n",
      "Epoch 35/100\n",
      "6528/6528 [==============================] - 1s 140us/sample - loss: 0.4065 - accuracy: 0.8114 - Recall: 0.4939 - val_loss: 0.4834 - val_accuracy: 0.7624 - val_Recall: 0.3333\n",
      "Epoch 36/100\n",
      "6528/6528 [==============================] - 1s 138us/sample - loss: 0.4041 - accuracy: 0.8102 - Recall: 0.4804 - val_loss: 0.4846 - val_accuracy: 0.7624 - val_Recall: 0.4392\n",
      "Epoch 37/100\n",
      "6528/6528 [==============================] - 1s 140us/sample - loss: 0.4035 - accuracy: 0.8102 - Recall: 0.4915 - val_loss: 0.4846 - val_accuracy: 0.7673 - val_Recall: 0.4482\n",
      "Epoch 38/100\n",
      "6528/6528 [==============================] - 1s 144us/sample - loss: 0.4039 - accuracy: 0.8113 - Recall: 0.4939 - val_loss: 0.4882 - val_accuracy: 0.7667 - val_Recall: 0.3784\n",
      "Epoch 39/100\n",
      "6528/6528 [==============================] - 1s 153us/sample - loss: 0.4009 - accuracy: 0.8108 - Recall: 0.4927 - val_loss: 0.4895 - val_accuracy: 0.7618 - val_Recall: 0.3649\n",
      "Epoch 40/100\n",
      "6528/6528 [==============================] - 1s 141us/sample - loss: 0.3984 - accuracy: 0.8087 - Recall: 0.4845 - val_loss: 0.4871 - val_accuracy: 0.7636 - val_Recall: 0.4730\n",
      "Epoch 41/100\n",
      "6528/6528 [==============================] - 1s 153us/sample - loss: 0.3989 - accuracy: 0.8160 - Recall: 0.5161 - val_loss: 0.4848 - val_accuracy: 0.7624 - val_Recall: 0.4437\n",
      "Epoch 42/100\n",
      "6528/6528 [==============================] - 1s 141us/sample - loss: 0.3964 - accuracy: 0.8146 - Recall: 0.5044 - val_loss: 0.4897 - val_accuracy: 0.7618 - val_Recall: 0.4077\n",
      "Epoch 43/100\n",
      "6528/6528 [==============================] - 1s 141us/sample - loss: 0.3955 - accuracy: 0.8153 - Recall: 0.5120 - val_loss: 0.4931 - val_accuracy: 0.7704 - val_Recall: 0.3491\n",
      "Epoch 44/100\n"
     ]
    },
    {
     "name": "stdout",
     "output_type": "stream",
     "text": [
      "6528/6528 [==============================] - 1s 135us/sample - loss: 0.3946 - accuracy: 0.8153 - Recall: 0.5067 - val_loss: 0.4912 - val_accuracy: 0.7697 - val_Recall: 0.3986\n",
      "Epoch 45/100\n",
      "6528/6528 [==============================] - 1s 135us/sample - loss: 0.3929 - accuracy: 0.8163 - Recall: 0.5161 - val_loss: 0.4901 - val_accuracy: 0.7673 - val_Recall: 0.3829\n",
      "Epoch 46/100\n",
      "6528/6528 [==============================] - 1s 132us/sample - loss: 0.3933 - accuracy: 0.8156 - Recall: 0.5044 - val_loss: 0.4875 - val_accuracy: 0.7667 - val_Recall: 0.4392\n",
      "Epoch 47/100\n",
      "6528/6528 [==============================] - 1s 134us/sample - loss: 0.3917 - accuracy: 0.8169 - Recall: 0.5114 - val_loss: 0.4918 - val_accuracy: 0.7655 - val_Recall: 0.4414\n",
      "Epoch 48/100\n",
      "6528/6528 [==============================] - 1s 134us/sample - loss: 0.3905 - accuracy: 0.8185 - Recall: 0.5255 - val_loss: 0.4929 - val_accuracy: 0.7697 - val_Recall: 0.4189\n",
      "Epoch 49/100\n",
      "6528/6528 [==============================] - 1s 132us/sample - loss: 0.3898 - accuracy: 0.8179 - Recall: 0.5178 - val_loss: 0.4960 - val_accuracy: 0.7673 - val_Recall: 0.4369\n",
      "Epoch 50/100\n",
      "6528/6528 [==============================] - 1s 132us/sample - loss: 0.3881 - accuracy: 0.8205 - Recall: 0.5284 - val_loss: 0.4991 - val_accuracy: 0.7655 - val_Recall: 0.3559\n",
      "Epoch 51/100\n",
      "6528/6528 [==============================] - 1s 135us/sample - loss: 0.3860 - accuracy: 0.8192 - Recall: 0.5214 - val_loss: 0.5061 - val_accuracy: 0.7685 - val_Recall: 0.3806\n",
      "Epoch 52/100\n",
      "6528/6528 [==============================] - 1s 134us/sample - loss: 0.3860 - accuracy: 0.8189 - Recall: 0.5208 - val_loss: 0.4973 - val_accuracy: 0.7722 - val_Recall: 0.4167\n",
      "Epoch 53/100\n",
      "6528/6528 [==============================] - 1s 135us/sample - loss: 0.3862 - accuracy: 0.8214 - Recall: 0.5331 - val_loss: 0.5074 - val_accuracy: 0.7697 - val_Recall: 0.3401\n",
      "Epoch 54/100\n",
      "6528/6528 [==============================] - 1s 133us/sample - loss: 0.3829 - accuracy: 0.8229 - Recall: 0.5348 - val_loss: 0.5005 - val_accuracy: 0.7722 - val_Recall: 0.3671\n",
      "Epoch 55/100\n",
      "6528/6528 [==============================] - 1s 135us/sample - loss: 0.3815 - accuracy: 0.8249 - Recall: 0.5301 - val_loss: 0.5013 - val_accuracy: 0.7618 - val_Recall: 0.4347\n",
      "Epoch 56/100\n",
      "6528/6528 [==============================] - 1s 133us/sample - loss: 0.3811 - accuracy: 0.8267 - Recall: 0.5477 - val_loss: 0.5020 - val_accuracy: 0.7648 - val_Recall: 0.3919\n",
      "Epoch 57/100\n",
      "6528/6528 [==============================] - 1s 134us/sample - loss: 0.3808 - accuracy: 0.8231 - Recall: 0.5284 - val_loss: 0.5019 - val_accuracy: 0.7630 - val_Recall: 0.4640\n",
      "Epoch 58/100\n",
      "6528/6528 [==============================] - 1s 142us/sample - loss: 0.3785 - accuracy: 0.8231 - Recall: 0.5325 - val_loss: 0.4999 - val_accuracy: 0.7673 - val_Recall: 0.4302\n",
      "Epoch 59/100\n",
      "6528/6528 [==============================] - 1s 138us/sample - loss: 0.3798 - accuracy: 0.8252 - Recall: 0.5354 - val_loss: 0.5061 - val_accuracy: 0.7606 - val_Recall: 0.4189\n",
      "Epoch 60/100\n",
      "6528/6528 [==============================] - 1s 135us/sample - loss: 0.3775 - accuracy: 0.8278 - Recall: 0.5372 - val_loss: 0.5086 - val_accuracy: 0.7624 - val_Recall: 0.4685\n",
      "Epoch 61/100\n",
      "6528/6528 [==============================] - 1s 133us/sample - loss: 0.3744 - accuracy: 0.8263 - Recall: 0.5477 - val_loss: 0.5106 - val_accuracy: 0.7673 - val_Recall: 0.3986\n",
      "Epoch 62/100\n",
      "6528/6528 [==============================] - 1s 133us/sample - loss: 0.3741 - accuracy: 0.8271 - Recall: 0.5453 - val_loss: 0.5165 - val_accuracy: 0.7685 - val_Recall: 0.3784\n",
      "Epoch 63/100\n",
      "6528/6528 [==============================] - 1s 134us/sample - loss: 0.3736 - accuracy: 0.8266 - Recall: 0.5436 - val_loss: 0.5048 - val_accuracy: 0.7679 - val_Recall: 0.4550\n",
      "Epoch 64/100\n",
      "6528/6528 [==============================] - 1s 140us/sample - loss: 0.3737 - accuracy: 0.8289 - Recall: 0.5436 - val_loss: 0.5068 - val_accuracy: 0.7636 - val_Recall: 0.4032\n",
      "Epoch 65/100\n",
      "6528/6528 [==============================] - 1s 138us/sample - loss: 0.3704 - accuracy: 0.8280 - Recall: 0.5453 - val_loss: 0.5063 - val_accuracy: 0.7636 - val_Recall: 0.4617\n",
      "Epoch 66/100\n",
      "6528/6528 [==============================] - 1s 136us/sample - loss: 0.3719 - accuracy: 0.8257 - Recall: 0.5401 - val_loss: 0.5115 - val_accuracy: 0.7630 - val_Recall: 0.4752\n",
      "Epoch 67/100\n",
      "6528/6528 [==============================] - 1s 135us/sample - loss: 0.3691 - accuracy: 0.8272 - Recall: 0.5413 - val_loss: 0.5110 - val_accuracy: 0.7630 - val_Recall: 0.4820\n",
      "Epoch 68/100\n",
      "6528/6528 [==============================] - 1s 138us/sample - loss: 0.3700 - accuracy: 0.8283 - Recall: 0.5553 - val_loss: 0.5110 - val_accuracy: 0.7618 - val_Recall: 0.4302\n",
      "Epoch 69/100\n",
      "6528/6528 [==============================] - 1s 135us/sample - loss: 0.3663 - accuracy: 0.8335 - Recall: 0.5582 - val_loss: 0.5140 - val_accuracy: 0.7642 - val_Recall: 0.4234\n",
      "Epoch 70/100\n",
      "6528/6528 [==============================] - 1s 141us/sample - loss: 0.3667 - accuracy: 0.8286 - Recall: 0.5541 - val_loss: 0.5160 - val_accuracy: 0.7636 - val_Recall: 0.4775\n",
      "Epoch 71/100\n",
      "6528/6528 [==============================] - 1s 136us/sample - loss: 0.3643 - accuracy: 0.8304 - Recall: 0.5530 - val_loss: 0.5232 - val_accuracy: 0.7551 - val_Recall: 0.4595\n",
      "Epoch 72/100\n",
      "6528/6528 [==============================] - 1s 140us/sample - loss: 0.3638 - accuracy: 0.8336 - Recall: 0.5553 - val_loss: 0.5237 - val_accuracy: 0.7600 - val_Recall: 0.4820\n",
      "Epoch 73/100\n",
      "6528/6528 [==============================] - 1s 136us/sample - loss: 0.3649 - accuracy: 0.8306 - Recall: 0.5629 - val_loss: 0.5203 - val_accuracy: 0.7600 - val_Recall: 0.4189\n",
      "Epoch 74/100\n",
      "6528/6528 [==============================] - 1s 136us/sample - loss: 0.3609 - accuracy: 0.8330 - Recall: 0.5600 - val_loss: 0.5181 - val_accuracy: 0.7618 - val_Recall: 0.4730\n",
      "Epoch 75/100\n",
      "6528/6528 [==============================] - 1s 141us/sample - loss: 0.3597 - accuracy: 0.8298 - Recall: 0.5582 - val_loss: 0.5211 - val_accuracy: 0.7636 - val_Recall: 0.4707\n",
      "Epoch 76/100\n",
      "6528/6528 [==============================] - 1s 136us/sample - loss: 0.3603 - accuracy: 0.8356 - Recall: 0.5717 - val_loss: 0.5279 - val_accuracy: 0.7606 - val_Recall: 0.4122\n",
      "Epoch 77/100\n",
      "6528/6528 [==============================] - 1s 136us/sample - loss: 0.3576 - accuracy: 0.8343 - Recall: 0.5629 - val_loss: 0.5252 - val_accuracy: 0.7532 - val_Recall: 0.4932\n",
      "Epoch 78/100\n",
      "6528/6528 [==============================] - 1s 137us/sample - loss: 0.3593 - accuracy: 0.8327 - Recall: 0.5682 - val_loss: 0.5254 - val_accuracy: 0.7630 - val_Recall: 0.4009\n",
      "Epoch 79/100\n",
      "6528/6528 [==============================] - 1s 136us/sample - loss: 0.3564 - accuracy: 0.8352 - Recall: 0.5647 - val_loss: 0.5279 - val_accuracy: 0.7581 - val_Recall: 0.4122\n",
      "Epoch 80/100\n",
      "6528/6528 [==============================] - 1s 140us/sample - loss: 0.3571 - accuracy: 0.8356 - Recall: 0.5758 - val_loss: 0.5334 - val_accuracy: 0.7642 - val_Recall: 0.4505\n",
      "Epoch 81/100\n",
      "6528/6528 [==============================] - 1s 139us/sample - loss: 0.3545 - accuracy: 0.8373 - Recall: 0.5717 - val_loss: 0.5312 - val_accuracy: 0.7636 - val_Recall: 0.5023\n",
      "Epoch 82/100\n",
      "6528/6528 [==============================] - 1s 138us/sample - loss: 0.3536 - accuracy: 0.8336 - Recall: 0.5676 - val_loss: 0.5350 - val_accuracy: 0.7606 - val_Recall: 0.4054\n",
      "Epoch 83/100\n",
      "6528/6528 [==============================] - 1s 140us/sample - loss: 0.3534 - accuracy: 0.8382 - Recall: 0.5851 - val_loss: 0.5286 - val_accuracy: 0.7624 - val_Recall: 0.4167\n",
      "Epoch 84/100\n",
      "6528/6528 [==============================] - 1s 141us/sample - loss: 0.3524 - accuracy: 0.8339 - Recall: 0.5676 - val_loss: 0.5404 - val_accuracy: 0.7551 - val_Recall: 0.4842\n",
      "Epoch 85/100\n",
      "6528/6528 [==============================] - 1s 140us/sample - loss: 0.3516 - accuracy: 0.8367 - Recall: 0.5787 - val_loss: 0.5354 - val_accuracy: 0.7667 - val_Recall: 0.4009\n",
      "Epoch 86/100\n",
      "6528/6528 [==============================] - 1s 139us/sample - loss: 0.3512 - accuracy: 0.8341 - Recall: 0.5623 - val_loss: 0.5352 - val_accuracy: 0.7557 - val_Recall: 0.5023\n",
      "Epoch 87/100\n",
      "6528/6528 [==============================] - 1s 136us/sample - loss: 0.3507 - accuracy: 0.8392 - Recall: 0.5857 - val_loss: 0.5482 - val_accuracy: 0.7648 - val_Recall: 0.4009\n"
     ]
    },
    {
     "name": "stdout",
     "output_type": "stream",
     "text": [
      "Epoch 88/100\n",
      "6528/6528 [==============================] - 1s 136us/sample - loss: 0.3472 - accuracy: 0.8399 - Recall: 0.5816 - val_loss: 0.5393 - val_accuracy: 0.7600 - val_Recall: 0.4144\n",
      "Epoch 89/100\n",
      "6528/6528 [==============================] - 1s 131us/sample - loss: 0.3478 - accuracy: 0.8367 - Recall: 0.5851 - val_loss: 0.5403 - val_accuracy: 0.7569 - val_Recall: 0.4414\n",
      "Epoch 90/100\n",
      "6528/6528 [==============================] - 1s 132us/sample - loss: 0.3470 - accuracy: 0.8408 - Recall: 0.5886 - val_loss: 0.5430 - val_accuracy: 0.7606 - val_Recall: 0.3784\n",
      "Epoch 91/100\n",
      "6528/6528 [==============================] - 1s 141us/sample - loss: 0.3465 - accuracy: 0.8384 - Recall: 0.5834 - val_loss: 0.5402 - val_accuracy: 0.7593 - val_Recall: 0.4054\n",
      "Epoch 92/100\n",
      "6528/6528 [==============================] - 1s 156us/sample - loss: 0.3449 - accuracy: 0.8407 - Recall: 0.5793 - val_loss: 0.5444 - val_accuracy: 0.7606 - val_Recall: 0.4685\n",
      "Epoch 93/100\n",
      "6528/6528 [==============================] - 1s 134us/sample - loss: 0.3434 - accuracy: 0.8408 - Recall: 0.5875 - val_loss: 0.5391 - val_accuracy: 0.7520 - val_Recall: 0.4257\n",
      "Epoch 94/100\n",
      "6528/6528 [==============================] - 1s 132us/sample - loss: 0.3412 - accuracy: 0.8436 - Recall: 0.5968 - val_loss: 0.5469 - val_accuracy: 0.7630 - val_Recall: 0.4099\n",
      "Epoch 95/100\n",
      "6528/6528 [==============================] - 1s 132us/sample - loss: 0.3417 - accuracy: 0.8396 - Recall: 0.5863 - val_loss: 0.5503 - val_accuracy: 0.7575 - val_Recall: 0.5045\n",
      "Epoch 96/100\n",
      "6528/6528 [==============================] - 1s 131us/sample - loss: 0.3407 - accuracy: 0.8392 - Recall: 0.5863 - val_loss: 0.5434 - val_accuracy: 0.7624 - val_Recall: 0.4257\n",
      "Epoch 97/100\n",
      "6528/6528 [==============================] - 1s 142us/sample - loss: 0.3383 - accuracy: 0.8447 - Recall: 0.5963 - val_loss: 0.5494 - val_accuracy: 0.7606 - val_Recall: 0.4054\n",
      "Epoch 98/100\n",
      "6528/6528 [==============================] - 1s 131us/sample - loss: 0.3388 - accuracy: 0.8454 - Recall: 0.5968 - val_loss: 0.5501 - val_accuracy: 0.7526 - val_Recall: 0.3986\n",
      "Epoch 99/100\n",
      "6528/6528 [==============================] - 1s 135us/sample - loss: 0.3381 - accuracy: 0.8428 - Recall: 0.5951 - val_loss: 0.5608 - val_accuracy: 0.7471 - val_Recall: 0.4887\n",
      "Epoch 100/100\n",
      "6528/6528 [==============================] - 1s 136us/sample - loss: 0.3351 - accuracy: 0.8474 - Recall: 0.6103 - val_loss: 0.5501 - val_accuracy: 0.7593 - val_Recall: 0.4820\n"
     ]
    }
   ],
   "source": [
    "history_2l=mlp_clf_2l.fit(X_train,y_train,epochs=100,validation_data=(X_val,y_val))"
   ]
  },
  {
   "cell_type": "markdown",
   "id": "f9373db7",
   "metadata": {},
   "source": [
    "Let's take a look to the loss, the accuracy, and the recall of the 2-layers network:"
   ]
  },
  {
   "cell_type": "code",
   "execution_count": 87,
   "id": "67b7dfde",
   "metadata": {},
   "outputs": [
    {
     "data": {
      "text/plain": [
       "Text(0, 0.5, 'Recall')"
      ]
     },
     "execution_count": 87,
     "metadata": {},
     "output_type": "execute_result"
    },
    {
     "data": {
      "image/png": "[encoded data removed]",
      "text/plain": [
       "<Figure size 576x360 with 1 Axes>"
      ]
     },
     "metadata": {
      "needs_background": "light"
     },
     "output_type": "display_data"
    },
    {
     "data": {
      "image/png": "[encoded data removed]",
      "text/plain": [
       "<Figure size 576x360 with 1 Axes>"
      ]
     },
     "metadata": {
      "needs_background": "light"
     },
     "output_type": "display_data"
    },
    {
     "data": {
      "image/png": "[encoded data removed]",
      "text/plain": [
       "<Figure size 576x360 with 1 Axes>"
      ]
     },
     "metadata": {
      "needs_background": "light"
     },
     "output_type": "display_data"
    }
   ],
   "source": [
    "pd.DataFrame({ keys: history_2l.history[keys] for keys in ['loss','val_loss']}).plot(figsize=(8,5))\n",
    "plt.grid(True)\n",
    "plt.ylim(0,1)\n",
    "plt.ylabel('Loss')\n",
    "pd.DataFrame({ keys: history_2l.history[keys] for keys in ['accuracy','val_accuracy']}).plot(figsize=(8,5))\n",
    "plt.grid(True)\n",
    "plt.ylim(0,1)\n",
    "plt.ylabel('Accuracy')\n",
    "pd.DataFrame({ keys: history_2l.history[keys] for keys in ['Recall','val_Recall']}).plot(figsize=(8,5))\n",
    "plt.grid(True)\n",
    "plt.ylim(0,1)\n",
    "plt.ylabel('Recall')"
   ]
  },
  {
   "cell_type": "markdown",
   "id": "b4c521f4",
   "metadata": {},
   "source": [
    "As we can see, the accuracy and the recall measured on the training set are greater compared to the 1-layer network, while the accuracy and the recall measured on the validation set are more or less the same. This may be an indication that we are overfitting the training data. \n",
    "\n",
    "Let's now use the precision recall curve to compare the performance of the 2-layers network with the the performance of the logistic regressor:"
   ]
  },
  {
   "cell_type": "code",
   "execution_count": 88,
   "id": "da40efca",
   "metadata": {},
   "outputs": [
    {
     "data": {
      "text/plain": [
       "<matplotlib.legend.Legend at 0x7f88d373ee80>"
      ]
     },
     "execution_count": 88,
     "metadata": {},
     "output_type": "execute_result"
    },
    {
     "data": {
      "image/png": "[encoded data removed]",
      "text/plain": [
       "<Figure size 432x288 with 1 Axes>"
      ]
     },
     "metadata": {
      "needs_background": "light"
     },
     "output_type": "display_data"
    }
   ],
   "source": [
    "# Get precision and recall for logistic classifier\n",
    "precision_lr,recall_lr,thrsld_lr=precision_recall_curve(y_val,lr_clf.decision_function(X_val))\n",
    "\n",
    "# Get precision and recall for 1-layer mlp\n",
    "precision_mlp_1l,recall_mlp_1l,thrsld_mlp_1l=precision_recall_curve(y_val,(mlp_clf_1l.predict(X_val)) )\n",
    "\n",
    "# Get precision and recall for 2-layer mlp\n",
    "precision_mlp_2l,recall_mlp_2l,thrsld_mlp_2l=precision_recall_curve(y_val,(mlp_clf_2l.predict(X_val)) )\n",
    "\n",
    "# Plot the curves\n",
    "plt.plot(precision_lr,recall_lr, label='LR')\n",
    "plt.plot(precision_mlp_1l,recall_mlp_1l,label='mlp 1l')\n",
    "plt.plot(precision_mlp_2l,recall_mlp_2l,label='mlp 2l')\n",
    "plt.xlabel('Precision')\n",
    "plt.ylabel('Recall')\n",
    "plt.title('Validation Data')\n",
    "plt.legend()"
   ]
  },
  {
   "cell_type": "markdown",
   "id": "6d234ade",
   "metadata": {},
   "source": [
    "As we can see, not only adding one more layer does not improve the performance of our classifier, but it even get worst. This is because, as suggested before, we are overfitting the training data. This means that the the 2-layers multilayer perceptron - thanks to its large number of parameters - is learning complex patterns in the feature space. But these patterns are not actual patterns of datas, which would apply also to the validation set: it is just the noise on the training set. In order to see that, we plot the precision-recall curve for our three models on the training set:"
   ]
  },
  {
   "cell_type": "code",
   "execution_count": 89,
   "id": "41902910",
   "metadata": {},
   "outputs": [
    {
     "data": {
      "text/plain": [
       "<matplotlib.legend.Legend at 0x7f88d49c85c0>"
      ]
     },
     "execution_count": 89,
     "metadata": {},
     "output_type": "execute_result"
    },
    {
     "data": {
      "image/png": "[encoded data removed]",
      "text/plain": [
       "<Figure size 432x288 with 1 Axes>"
      ]
     },
     "metadata": {
      "needs_background": "light"
     },
     "output_type": "display_data"
    }
   ],
   "source": [
    "# Get precision and recall for logistic classifier\n",
    "precision_lr,recall_lr,thrsld_lr=precision_recall_curve(y_train,lr_clf.decision_function(X_train))\n",
    "\n",
    "# Get precision and recall for 1-layer mlp\n",
    "precision_mlp_1l,recall_mlp_1l,thrsld_mlp_1l=precision_recall_curve(y_train,(mlp_clf_1l.predict(X_train)) )\n",
    "\n",
    "# Get precision and recall for 2-layer mlp\n",
    "precision_mlp_2l,recall_mlp_2l,thrsld_mlp_2l=precision_recall_curve(y_train,(mlp_clf_2l.predict(X_train)) )\n",
    "\n",
    "# Plot the curves\n",
    "plt.plot(precision_lr,recall_lr, label='LR')\n",
    "plt.plot(precision_mlp_1l,recall_mlp_1l,label='mlp 1l')\n",
    "plt.plot(precision_mlp_2l,recall_mlp_2l,label='mlp 2l')\n",
    "plt.xlabel('Precision')\n",
    "plt.ylabel('Recall')\n",
    "plt.title('Training Data')\n",
    "plt.legend()"
   ]
  },
  {
   "cell_type": "markdown",
   "id": "b8bdab21",
   "metadata": {},
   "source": [
    "As expected, we see that the performance of the neural network *on the training set* improves with the number of layers. However, as we just explained, this is just a mere overfit, since that an opposite trend is found on the validation set.\n",
    "\n",
    "What we have found suggests that there is not a complex and nonlinear distribution of classes in the feature space. The misclassification errors performed by our logistic classifier are most likely do to the noise. This is the reason because of the neural networks that we have tested not only do not improve the performance of the logistic classifier, but, even worst, tend to overfit the training datas.\n",
    "\n",
    "For this reason, in next section, when making prediction on the test dataset, we will use the logistic classifier previously trained."
   ]
  },
  {
   "cell_type": "markdown",
   "id": "bdec4823",
   "metadata": {},
   "source": [
    "## Prediction on the test dataset"
   ]
  },
  {
   "cell_type": "markdown",
   "id": "c2af2aca",
   "metadata": {},
   "source": [
    "In the present section we perform prediction on the test dataset, which is stored in the `test` variable. As we can see, the test dataset has the same structure of the training dataset:"
   ]
  },
  {
   "cell_type": "code",
   "execution_count": 90,
   "id": "6545c839",
   "metadata": {},
   "outputs": [
    {
     "data": {
      "text/html": [
       "<div>\n",
       "<style scoped>\n",
       "    .dataframe tbody tr th:only-of-type {\n",
       "        vertical-align: middle;\n",
       "    }\n",
       "\n",
       "    .dataframe tbody tr th {\n",
       "        vertical-align: top;\n",
       "    }\n",
       "\n",
       "    .dataframe thead th {\n",
       "        text-align: right;\n",
       "    }\n",
       "</style>\n",
       "<table border=\"1\" class=\"dataframe\">\n",
       "  <thead>\n",
       "    <tr style=\"text-align: right;\">\n",
       "      <th></th>\n",
       "      <th>INDEX</th>\n",
       "      <th>TARGET_FLAG</th>\n",
       "      <th>TARGET_AMT</th>\n",
       "      <th>KIDSDRIV</th>\n",
       "      <th>AGE</th>\n",
       "      <th>HOMEKIDS</th>\n",
       "      <th>YOJ</th>\n",
       "      <th>INCOME</th>\n",
       "      <th>PARENT1</th>\n",
       "      <th>HOME_VAL</th>\n",
       "      <th>...</th>\n",
       "      <th>BLUEBOOK</th>\n",
       "      <th>TIF</th>\n",
       "      <th>CAR_TYPE</th>\n",
       "      <th>RED_CAR</th>\n",
       "      <th>OLDCLAIM</th>\n",
       "      <th>CLM_FREQ</th>\n",
       "      <th>REVOKED</th>\n",
       "      <th>MVR_PTS</th>\n",
       "      <th>CAR_AGE</th>\n",
       "      <th>URBANICITY</th>\n",
       "    </tr>\n",
       "  </thead>\n",
       "  <tbody>\n",
       "    <tr>\n",
       "      <th>0</th>\n",
       "      <td>3</td>\n",
       "      <td>NaN</td>\n",
       "      <td>NaN</td>\n",
       "      <td>0</td>\n",
       "      <td>48.0</td>\n",
       "      <td>0</td>\n",
       "      <td>11.0</td>\n",
       "      <td>$52,881</td>\n",
       "      <td>No</td>\n",
       "      <td>$0</td>\n",
       "      <td>...</td>\n",
       "      <td>$21,970</td>\n",
       "      <td>1</td>\n",
       "      <td>Van</td>\n",
       "      <td>yes</td>\n",
       "      <td>$0</td>\n",
       "      <td>0</td>\n",
       "      <td>No</td>\n",
       "      <td>2</td>\n",
       "      <td>10.0</td>\n",
       "      <td>Highly Urban/ Urban</td>\n",
       "    </tr>\n",
       "    <tr>\n",
       "      <th>1</th>\n",
       "      <td>9</td>\n",
       "      <td>NaN</td>\n",
       "      <td>NaN</td>\n",
       "      <td>1</td>\n",
       "      <td>40.0</td>\n",
       "      <td>1</td>\n",
       "      <td>11.0</td>\n",
       "      <td>$50,815</td>\n",
       "      <td>Yes</td>\n",
       "      <td>$0</td>\n",
       "      <td>...</td>\n",
       "      <td>$18,930</td>\n",
       "      <td>6</td>\n",
       "      <td>Minivan</td>\n",
       "      <td>no</td>\n",
       "      <td>$3,295</td>\n",
       "      <td>1</td>\n",
       "      <td>No</td>\n",
       "      <td>2</td>\n",
       "      <td>1.0</td>\n",
       "      <td>Highly Urban/ Urban</td>\n",
       "    </tr>\n",
       "    <tr>\n",
       "      <th>2</th>\n",
       "      <td>10</td>\n",
       "      <td>NaN</td>\n",
       "      <td>NaN</td>\n",
       "      <td>0</td>\n",
       "      <td>44.0</td>\n",
       "      <td>2</td>\n",
       "      <td>12.0</td>\n",
       "      <td>$43,486</td>\n",
       "      <td>Yes</td>\n",
       "      <td>$0</td>\n",
       "      <td>...</td>\n",
       "      <td>$5,900</td>\n",
       "      <td>10</td>\n",
       "      <td>z_SUV</td>\n",
       "      <td>no</td>\n",
       "      <td>$0</td>\n",
       "      <td>0</td>\n",
       "      <td>No</td>\n",
       "      <td>0</td>\n",
       "      <td>10.0</td>\n",
       "      <td>z_Highly Rural/ Rural</td>\n",
       "    </tr>\n",
       "    <tr>\n",
       "      <th>3</th>\n",
       "      <td>18</td>\n",
       "      <td>NaN</td>\n",
       "      <td>NaN</td>\n",
       "      <td>0</td>\n",
       "      <td>35.0</td>\n",
       "      <td>2</td>\n",
       "      <td>NaN</td>\n",
       "      <td>$21,204</td>\n",
       "      <td>Yes</td>\n",
       "      <td>$0</td>\n",
       "      <td>...</td>\n",
       "      <td>$9,230</td>\n",
       "      <td>6</td>\n",
       "      <td>Pickup</td>\n",
       "      <td>no</td>\n",
       "      <td>$0</td>\n",
       "      <td>0</td>\n",
       "      <td>Yes</td>\n",
       "      <td>0</td>\n",
       "      <td>4.0</td>\n",
       "      <td>z_Highly Rural/ Rural</td>\n",
       "    </tr>\n",
       "    <tr>\n",
       "      <th>4</th>\n",
       "      <td>21</td>\n",
       "      <td>NaN</td>\n",
       "      <td>NaN</td>\n",
       "      <td>0</td>\n",
       "      <td>59.0</td>\n",
       "      <td>0</td>\n",
       "      <td>12.0</td>\n",
       "      <td>$87,460</td>\n",
       "      <td>No</td>\n",
       "      <td>$0</td>\n",
       "      <td>...</td>\n",
       "      <td>$15,420</td>\n",
       "      <td>1</td>\n",
       "      <td>Minivan</td>\n",
       "      <td>yes</td>\n",
       "      <td>$44,857</td>\n",
       "      <td>2</td>\n",
       "      <td>No</td>\n",
       "      <td>4</td>\n",
       "      <td>1.0</td>\n",
       "      <td>Highly Urban/ Urban</td>\n",
       "    </tr>\n",
       "    <tr>\n",
       "      <th>...</th>\n",
       "      <td>...</td>\n",
       "      <td>...</td>\n",
       "      <td>...</td>\n",
       "      <td>...</td>\n",
       "      <td>...</td>\n",
       "      <td>...</td>\n",
       "      <td>...</td>\n",
       "      <td>...</td>\n",
       "      <td>...</td>\n",
       "      <td>...</td>\n",
       "      <td>...</td>\n",
       "      <td>...</td>\n",
       "      <td>...</td>\n",
       "      <td>...</td>\n",
       "      <td>...</td>\n",
       "      <td>...</td>\n",
       "      <td>...</td>\n",
       "      <td>...</td>\n",
       "      <td>...</td>\n",
       "      <td>...</td>\n",
       "      <td>...</td>\n",
       "    </tr>\n",
       "    <tr>\n",
       "      <th>2136</th>\n",
       "      <td>10279</td>\n",
       "      <td>NaN</td>\n",
       "      <td>NaN</td>\n",
       "      <td>0</td>\n",
       "      <td>46.0</td>\n",
       "      <td>0</td>\n",
       "      <td>0.0</td>\n",
       "      <td>$0</td>\n",
       "      <td>No</td>\n",
       "      <td>$0</td>\n",
       "      <td>...</td>\n",
       "      <td>$1,500</td>\n",
       "      <td>6</td>\n",
       "      <td>Sports Car</td>\n",
       "      <td>no</td>\n",
       "      <td>$20,519</td>\n",
       "      <td>1</td>\n",
       "      <td>Yes</td>\n",
       "      <td>3</td>\n",
       "      <td>8.0</td>\n",
       "      <td>z_Highly Rural/ Rural</td>\n",
       "    </tr>\n",
       "    <tr>\n",
       "      <th>2137</th>\n",
       "      <td>10281</td>\n",
       "      <td>NaN</td>\n",
       "      <td>NaN</td>\n",
       "      <td>0</td>\n",
       "      <td>46.0</td>\n",
       "      <td>0</td>\n",
       "      <td>12.0</td>\n",
       "      <td>$43,501</td>\n",
       "      <td>No</td>\n",
       "      <td>$134,977</td>\n",
       "      <td>...</td>\n",
       "      <td>$16,080</td>\n",
       "      <td>3</td>\n",
       "      <td>Minivan</td>\n",
       "      <td>no</td>\n",
       "      <td>$0</td>\n",
       "      <td>0</td>\n",
       "      <td>No</td>\n",
       "      <td>2</td>\n",
       "      <td>1.0</td>\n",
       "      <td>z_Highly Rural/ Rural</td>\n",
       "    </tr>\n",
       "    <tr>\n",
       "      <th>2138</th>\n",
       "      <td>10285</td>\n",
       "      <td>NaN</td>\n",
       "      <td>NaN</td>\n",
       "      <td>0</td>\n",
       "      <td>55.0</td>\n",
       "      <td>0</td>\n",
       "      <td>10.0</td>\n",
       "      <td>$141,083</td>\n",
       "      <td>No</td>\n",
       "      <td>$393,624</td>\n",
       "      <td>...</td>\n",
       "      <td>$21,110</td>\n",
       "      <td>10</td>\n",
       "      <td>Sports Car</td>\n",
       "      <td>no</td>\n",
       "      <td>$0</td>\n",
       "      <td>0</td>\n",
       "      <td>No</td>\n",
       "      <td>0</td>\n",
       "      <td>22.0</td>\n",
       "      <td>z_Highly Rural/ Rural</td>\n",
       "    </tr>\n",
       "    <tr>\n",
       "      <th>2139</th>\n",
       "      <td>10294</td>\n",
       "      <td>NaN</td>\n",
       "      <td>NaN</td>\n",
       "      <td>0</td>\n",
       "      <td>51.0</td>\n",
       "      <td>0</td>\n",
       "      <td>10.0</td>\n",
       "      <td>$128,523</td>\n",
       "      <td>No</td>\n",
       "      <td>$0</td>\n",
       "      <td>...</td>\n",
       "      <td>$32,960</td>\n",
       "      <td>6</td>\n",
       "      <td>Panel Truck</td>\n",
       "      <td>no</td>\n",
       "      <td>$3,995</td>\n",
       "      <td>3</td>\n",
       "      <td>No</td>\n",
       "      <td>1</td>\n",
       "      <td>15.0</td>\n",
       "      <td>Highly Urban/ Urban</td>\n",
       "    </tr>\n",
       "    <tr>\n",
       "      <th>2140</th>\n",
       "      <td>10300</td>\n",
       "      <td>NaN</td>\n",
       "      <td>NaN</td>\n",
       "      <td>0</td>\n",
       "      <td>48.0</td>\n",
       "      <td>0</td>\n",
       "      <td>15.0</td>\n",
       "      <td>$39,837</td>\n",
       "      <td>No</td>\n",
       "      <td>$170,611</td>\n",
       "      <td>...</td>\n",
       "      <td>$13,820</td>\n",
       "      <td>7</td>\n",
       "      <td>z_SUV</td>\n",
       "      <td>no</td>\n",
       "      <td>$0</td>\n",
       "      <td>0</td>\n",
       "      <td>No</td>\n",
       "      <td>0</td>\n",
       "      <td>1.0</td>\n",
       "      <td>Highly Urban/ Urban</td>\n",
       "    </tr>\n",
       "  </tbody>\n",
       "</table>\n",
       "<p>2141 rows × 26 columns</p>\n",
       "</div>"
      ],
      "text/plain": [
       "      INDEX  TARGET_FLAG  TARGET_AMT  KIDSDRIV   AGE  HOMEKIDS   YOJ  \\\n",
       "0         3          NaN         NaN         0  48.0         0  11.0   \n",
       "1         9          NaN         NaN         1  40.0         1  11.0   \n",
       "2        10          NaN         NaN         0  44.0         2  12.0   \n",
       "3        18          NaN         NaN         0  35.0         2   NaN   \n",
       "4        21          NaN         NaN         0  59.0         0  12.0   \n",
       "...     ...          ...         ...       ...   ...       ...   ...   \n",
       "2136  10279          NaN         NaN         0  46.0         0   0.0   \n",
       "2137  10281          NaN         NaN         0  46.0         0  12.0   \n",
       "2138  10285          NaN         NaN         0  55.0         0  10.0   \n",
       "2139  10294          NaN         NaN         0  51.0         0  10.0   \n",
       "2140  10300          NaN         NaN         0  48.0         0  15.0   \n",
       "\n",
       "        INCOME PARENT1  HOME_VAL  ... BLUEBOOK TIF     CAR_TYPE RED_CAR  \\\n",
       "0      $52,881      No        $0  ...  $21,970   1          Van     yes   \n",
       "1      $50,815     Yes        $0  ...  $18,930   6      Minivan      no   \n",
       "2      $43,486     Yes        $0  ...   $5,900  10        z_SUV      no   \n",
       "3      $21,204     Yes        $0  ...   $9,230   6       Pickup      no   \n",
       "4      $87,460      No        $0  ...  $15,420   1      Minivan     yes   \n",
       "...        ...     ...       ...  ...      ...  ..          ...     ...   \n",
       "2136        $0      No        $0  ...   $1,500   6   Sports Car      no   \n",
       "2137   $43,501      No  $134,977  ...  $16,080   3      Minivan      no   \n",
       "2138  $141,083      No  $393,624  ...  $21,110  10   Sports Car      no   \n",
       "2139  $128,523      No        $0  ...  $32,960   6  Panel Truck      no   \n",
       "2140   $39,837      No  $170,611  ...  $13,820   7        z_SUV      no   \n",
       "\n",
       "      OLDCLAIM CLM_FREQ REVOKED  MVR_PTS CAR_AGE             URBANICITY  \n",
       "0           $0        0      No        2    10.0    Highly Urban/ Urban  \n",
       "1       $3,295        1      No        2     1.0    Highly Urban/ Urban  \n",
       "2           $0        0      No        0    10.0  z_Highly Rural/ Rural  \n",
       "3           $0        0     Yes        0     4.0  z_Highly Rural/ Rural  \n",
       "4      $44,857        2      No        4     1.0    Highly Urban/ Urban  \n",
       "...        ...      ...     ...      ...     ...                    ...  \n",
       "2136   $20,519        1     Yes        3     8.0  z_Highly Rural/ Rural  \n",
       "2137        $0        0      No        2     1.0  z_Highly Rural/ Rural  \n",
       "2138        $0        0      No        0    22.0  z_Highly Rural/ Rural  \n",
       "2139    $3,995        3      No        1    15.0    Highly Urban/ Urban  \n",
       "2140        $0        0      No        0     1.0    Highly Urban/ Urban  \n",
       "\n",
       "[2141 rows x 26 columns]"
      ]
     },
     "execution_count": 90,
     "metadata": {},
     "output_type": "execute_result"
    }
   ],
   "source": [
    "test"
   ]
  },
  {
   "cell_type": "markdown",
   "id": "e5dffada",
   "metadata": {},
   "source": [
    "Before to make predictions, we need to prepare the test dataset as we have done on the training dataset. This can be done using the `transform()` method of the previously defined pipeline:"
   ]
  },
  {
   "cell_type": "code",
   "execution_count": 91,
   "id": "dfa7e7b7",
   "metadata": {},
   "outputs": [],
   "source": [
    "# Prepared test dataset:\n",
    "test_tr=full_pipeline.transform(test)"
   ]
  },
  {
   "cell_type": "code",
   "execution_count": 92,
   "id": "4cc5a3f4",
   "metadata": {},
   "outputs": [
    {
     "data": {
      "text/plain": [
       "array([[0.        , 0.49230769, 0.25      , ..., 0.        , 0.        ,\n",
       "        0.        ],\n",
       "       [0.25      , 0.36923077, 0.25      , ..., 0.        , 0.        ,\n",
       "        0.        ],\n",
       "       [0.        , 0.43076923, 0.        , ..., 0.        , 1.        ,\n",
       "        0.        ],\n",
       "       ...,\n",
       "       [0.        , 0.6       , 0.5       , ..., 0.        , 0.        ,\n",
       "        0.        ],\n",
       "       [0.        , 0.53846154, 0.5       , ..., 0.        , 0.        ,\n",
       "        1.        ],\n",
       "       [0.        , 0.49230769, 0.        , ..., 0.        , 1.        ,\n",
       "        0.        ]])"
      ]
     },
     "execution_count": 92,
     "metadata": {},
     "output_type": "execute_result"
    }
   ],
   "source": [
    "test_tr"
   ]
  },
  {
   "cell_type": "markdown",
   "id": "22cd8b0d",
   "metadata": {},
   "source": [
    "Now we can make prediction out of the test set, using the `predict()` method of the logistic classifier previously defined:"
   ]
  },
  {
   "cell_type": "code",
   "execution_count": 93,
   "id": "7bf8f384",
   "metadata": {},
   "outputs": [],
   "source": [
    "test_pred=lr_clf.predict(test_tr)"
   ]
  },
  {
   "cell_type": "markdown",
   "id": "9d730192",
   "metadata": {},
   "source": [
    "However, as we as explained before, it may be useful (in order to search for a better trade-off between recall and precision) to fix a non zero threshold for the decision function. As we have already discussed, the threshold which allows to correctly predict the number of accident (including false positives) has been found and stored in the variable `TargetThrsld':"
   ]
  },
  {
   "cell_type": "code",
   "execution_count": 94,
   "id": "ff407030",
   "metadata": {},
   "outputs": [
    {
     "data": {
      "text/plain": [
       "-0.5419265964117207"
      ]
     },
     "execution_count": 94,
     "metadata": {},
     "output_type": "execute_result"
    }
   ],
   "source": [
    "TargetThresld"
   ]
  },
  {
   "cell_type": "markdown",
   "id": "2322dc0f",
   "metadata": {},
   "source": [
    "It would be interesting to see how this threshold perform on the test dataset, therefore we also make predictions using this threshold:"
   ]
  },
  {
   "cell_type": "code",
   "execution_count": 95,
   "id": "31fcf052",
   "metadata": {},
   "outputs": [],
   "source": [
    "# Evaluate the decision function on test dataset\n",
    "test_scores=lr_clf.decision_function(test_tr)\n",
    "\n",
    "# Classify as positive instances for which the\n",
    "# decision function is larger than the threshold\n",
    "test_pred_thrsld=(test_scores>=TargetThresld).astype(int)"
   ]
  },
  {
   "cell_type": "code",
   "execution_count": 96,
   "id": "921ba18c",
   "metadata": {},
   "outputs": [
    {
     "data": {
      "text/plain": [
       "593"
      ]
     },
     "execution_count": 96,
     "metadata": {},
     "output_type": "execute_result"
    }
   ],
   "source": [
    "test_pred_thrsld.sum()"
   ]
  },
  {
   "cell_type": "markdown",
   "id": "9e3dd159",
   "metadata": {},
   "source": [
    "We now store the predictions in the form of a Pandas Series: "
   ]
  },
  {
   "cell_type": "code",
   "execution_count": 97,
   "id": "0dd8853d",
   "metadata": {},
   "outputs": [],
   "source": [
    "test_pred_S=pd.Series(test_pred)\n",
    "test_pred_thrsld_S=pd.Series(test_pred_thrsld)"
   ]
  },
  {
   "cell_type": "markdown",
   "id": "a8052596",
   "metadata": {},
   "source": [
    "And I finally save them as csv file:"
   ]
  },
  {
   "cell_type": "code",
   "execution_count": 98,
   "id": "cab627c3",
   "metadata": {},
   "outputs": [],
   "source": [
    "test_pred_S.rename('TARGET_FLAG').to_csv('test_pred.csv',index_label='index')\n",
    "test_pred_thrsld_S.rename('TARGET_FLAG').to_csv('test_pred_thrsld.csv',index_label='index')"
   ]
  },
  {
   "cell_type": "markdown",
   "id": "9ae2d1e0",
   "metadata": {},
   "source": [
    "# Conclusions"
   ]
  },
  {
   "cell_type": "markdown",
   "id": "36d89021",
   "metadata": {},
   "source": [
    "The goal of this technical excercise was to build a model able to predict whether a given policy holder was more or less likely to have a car accident. A training dataset containing the class of each policy holder (i.e. if he/she was actually involved in a car accident) was given, along many feature describing the driving behaviour and the lifestyle of each driver. On the basis of this dataset, one had to train a machine learning algorithm and perform the classification task on the (unlabelled) test set.\n",
    "\n",
    "In the first section I explored the structure of the dataset. I gave an explanation of the features contained in it, and I searched for the attributes which have the most important impact on the probability of accident.\n",
    "\n",
    "In the second section, I prepared the data for the use in a machine learning algorithm. I transformed the attributes encoded as text strings in numerical values, and where necessary I performed an imputation of missing values and cleaned the datas from outliers. All these transformation have been implemented in a pipeline with the objective to automate the process for future applications, and to make the procedure as clear as possible.\n",
    "\n",
    "In the third section I proposed two different machine learning algorithms to perform this classification task: a linear regression model, and nonlinear neural network (multilayer perceptron). I also discussed several metrics to evaluate the performance of the dataset (accuracy, confusion matrix, precision, and recall), and I proposed a strategy to find the precisionrecall trade-off most convenient for the present business case. As conclusion of this section, I found that the introduction of non-linearity in the model (i.e. the neural network) does not improve significantly the performance of the classifier. This seems to suggest that the errors made by the logistic regression classifier are not due to the presence of a complex nonlinear decision bounduary between the classes, but are most likely due to the presence of noise in the dataset.\n",
    "\n",
    "Finally, in the fifth section, I applied the pipeline previously defined on the test dataset, and I made predictions out of the test datas. These predictions have been stored in two `*.csv` files, corresponding respectively to the predictions made with and without the adapted threshold.\n"
   ]
  }
 ],
 "metadata": {
  "kernelspec": {
   "display_name": "Python 3",
   "language": "python",
   "name": "python3"
  },
  "language_info": {
   "codemirror_mode": {
    "name": "ipython",
    "version": 3
   },
   "file_extension": ".py",
   "mimetype": "text/x-python",
   "name": "python",
   "nbconvert_exporter": "python",
   "pygments_lexer": "ipython3",
   "version": "3.6.10"
  }
 },
 "nbformat": 4,
 "nbformat_minor": 5
}
